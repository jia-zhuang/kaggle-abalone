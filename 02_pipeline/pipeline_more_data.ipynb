{
 "cells": [
  {
   "cell_type": "code",
   "execution_count": 1,
   "id": "16112045-1309-4f82-99dd-0fa383445103",
   "metadata": {},
   "outputs": [],
   "source": [
    "import pandas as pd\n",
    "import numpy as np\n",
    "\n",
    "import matplotlib.pyplot as plt\n",
    "%matplotlib inline\n",
    "\n",
    "import lightgbm as lgb\n",
    "import xgboost as xgb\n",
    "import catboost as cb\n",
    "\n",
    "from sklearn.model_selection import KFold, StratifiedKFold\n",
    "from sklearn.metrics import mean_squared_log_error"
   ]
  },
  {
   "cell_type": "markdown",
   "id": "8866ea0e-bf79-4489-a89d-4d8abd5c3f8d",
   "metadata": {
    "editable": true,
    "slideshow": {
     "slide_type": ""
    },
    "tags": []
   },
   "source": [
    "## 读入数据"
   ]
  },
  {
   "cell_type": "code",
   "execution_count": 2,
   "id": "90c6d48b-c8f3-45dd-8139-f1257af023c1",
   "metadata": {},
   "outputs": [],
   "source": [
    "train_df = pd.read_csv('../input/train.csv')\n",
    "\n",
    "test_df = pd.read_csv('../input/test.csv')"
   ]
  },
  {
   "cell_type": "code",
   "execution_count": 3,
   "id": "4adbb6aa-2a6a-4a04-a114-245495a16cf5",
   "metadata": {},
   "outputs": [],
   "source": [
    "abalone_cols = ['Sex', 'Length', 'Diameter', 'Height', 'Whole weight', 'Whole weight.1', 'Whole weight.2', 'Shell weight', 'Rings']"
   ]
  },
  {
   "cell_type": "code",
   "execution_count": 4,
   "id": "28edacd8-25cd-4074-b2fe-815161c59c8f",
   "metadata": {},
   "outputs": [],
   "source": [
    "ext_df = pd.read_csv('../input/abalone.data', names=abalone_cols)"
   ]
  },
  {
   "cell_type": "code",
   "execution_count": 5,
   "id": "63a54dc0-b7db-4b61-b9dd-84b229d23625",
   "metadata": {},
   "outputs": [
    {
     "data": {
      "text/plain": [
       "4177"
      ]
     },
     "execution_count": 5,
     "metadata": {},
     "output_type": "execute_result"
    }
   ],
   "source": [
    "ext_df.shape[0]"
   ]
  },
  {
   "cell_type": "code",
   "execution_count": 6,
   "id": "0ff08c06-55e4-4e4f-973b-51acce0cad9b",
   "metadata": {},
   "outputs": [
    {
     "data": {
      "text/html": [
       "<div>\n",
       "<style scoped>\n",
       "    .dataframe tbody tr th:only-of-type {\n",
       "        vertical-align: middle;\n",
       "    }\n",
       "\n",
       "    .dataframe tbody tr th {\n",
       "        vertical-align: top;\n",
       "    }\n",
       "\n",
       "    .dataframe thead th {\n",
       "        text-align: right;\n",
       "    }\n",
       "</style>\n",
       "<table border=\"1\" class=\"dataframe\">\n",
       "  <thead>\n",
       "    <tr style=\"text-align: right;\">\n",
       "      <th></th>\n",
       "      <th>Sex</th>\n",
       "      <th>Length</th>\n",
       "      <th>Diameter</th>\n",
       "      <th>Height</th>\n",
       "      <th>Whole weight</th>\n",
       "      <th>Whole weight.1</th>\n",
       "      <th>Whole weight.2</th>\n",
       "      <th>Shell weight</th>\n",
       "      <th>Rings</th>\n",
       "    </tr>\n",
       "  </thead>\n",
       "  <tbody>\n",
       "    <tr>\n",
       "      <th>0</th>\n",
       "      <td>M</td>\n",
       "      <td>0.455</td>\n",
       "      <td>0.365</td>\n",
       "      <td>0.095</td>\n",
       "      <td>0.5140</td>\n",
       "      <td>0.2245</td>\n",
       "      <td>0.1010</td>\n",
       "      <td>0.150</td>\n",
       "      <td>15</td>\n",
       "    </tr>\n",
       "    <tr>\n",
       "      <th>1</th>\n",
       "      <td>M</td>\n",
       "      <td>0.350</td>\n",
       "      <td>0.265</td>\n",
       "      <td>0.090</td>\n",
       "      <td>0.2255</td>\n",
       "      <td>0.0995</td>\n",
       "      <td>0.0485</td>\n",
       "      <td>0.070</td>\n",
       "      <td>7</td>\n",
       "    </tr>\n",
       "    <tr>\n",
       "      <th>2</th>\n",
       "      <td>F</td>\n",
       "      <td>0.530</td>\n",
       "      <td>0.420</td>\n",
       "      <td>0.135</td>\n",
       "      <td>0.6770</td>\n",
       "      <td>0.2565</td>\n",
       "      <td>0.1415</td>\n",
       "      <td>0.210</td>\n",
       "      <td>9</td>\n",
       "    </tr>\n",
       "    <tr>\n",
       "      <th>3</th>\n",
       "      <td>M</td>\n",
       "      <td>0.440</td>\n",
       "      <td>0.365</td>\n",
       "      <td>0.125</td>\n",
       "      <td>0.5160</td>\n",
       "      <td>0.2155</td>\n",
       "      <td>0.1140</td>\n",
       "      <td>0.155</td>\n",
       "      <td>10</td>\n",
       "    </tr>\n",
       "    <tr>\n",
       "      <th>4</th>\n",
       "      <td>I</td>\n",
       "      <td>0.330</td>\n",
       "      <td>0.255</td>\n",
       "      <td>0.080</td>\n",
       "      <td>0.2050</td>\n",
       "      <td>0.0895</td>\n",
       "      <td>0.0395</td>\n",
       "      <td>0.055</td>\n",
       "      <td>7</td>\n",
       "    </tr>\n",
       "  </tbody>\n",
       "</table>\n",
       "</div>"
      ],
      "text/plain": [
       "  Sex  Length  Diameter  Height  Whole weight  Whole weight.1  Whole weight.2  \\\n",
       "0   M   0.455     0.365   0.095        0.5140          0.2245          0.1010   \n",
       "1   M   0.350     0.265   0.090        0.2255          0.0995          0.0485   \n",
       "2   F   0.530     0.420   0.135        0.6770          0.2565          0.1415   \n",
       "3   M   0.440     0.365   0.125        0.5160          0.2155          0.1140   \n",
       "4   I   0.330     0.255   0.080        0.2050          0.0895          0.0395   \n",
       "\n",
       "   Shell weight  Rings  \n",
       "0         0.150     15  \n",
       "1         0.070      7  \n",
       "2         0.210      9  \n",
       "3         0.155     10  \n",
       "4         0.055      7  "
      ]
     },
     "execution_count": 6,
     "metadata": {},
     "output_type": "execute_result"
    }
   ],
   "source": [
    "ext_df.head()"
   ]
  },
  {
   "cell_type": "code",
   "execution_count": 7,
   "id": "73d9816d-e18d-48ad-b4d9-87f62612954a",
   "metadata": {},
   "outputs": [
    {
     "data": {
      "text/html": [
       "<div>\n",
       "<style scoped>\n",
       "    .dataframe tbody tr th:only-of-type {\n",
       "        vertical-align: middle;\n",
       "    }\n",
       "\n",
       "    .dataframe tbody tr th {\n",
       "        vertical-align: top;\n",
       "    }\n",
       "\n",
       "    .dataframe thead th {\n",
       "        text-align: right;\n",
       "    }\n",
       "</style>\n",
       "<table border=\"1\" class=\"dataframe\">\n",
       "  <thead>\n",
       "    <tr style=\"text-align: right;\">\n",
       "      <th></th>\n",
       "      <th>id</th>\n",
       "      <th>Sex</th>\n",
       "      <th>Length</th>\n",
       "      <th>Diameter</th>\n",
       "      <th>Height</th>\n",
       "      <th>Whole weight</th>\n",
       "      <th>Whole weight.1</th>\n",
       "      <th>Whole weight.2</th>\n",
       "      <th>Shell weight</th>\n",
       "      <th>Rings</th>\n",
       "    </tr>\n",
       "  </thead>\n",
       "  <tbody>\n",
       "    <tr>\n",
       "      <th>0</th>\n",
       "      <td>0</td>\n",
       "      <td>F</td>\n",
       "      <td>0.550</td>\n",
       "      <td>0.430</td>\n",
       "      <td>0.150</td>\n",
       "      <td>0.7715</td>\n",
       "      <td>0.3285</td>\n",
       "      <td>0.1465</td>\n",
       "      <td>0.2400</td>\n",
       "      <td>11</td>\n",
       "    </tr>\n",
       "    <tr>\n",
       "      <th>1</th>\n",
       "      <td>1</td>\n",
       "      <td>F</td>\n",
       "      <td>0.630</td>\n",
       "      <td>0.490</td>\n",
       "      <td>0.145</td>\n",
       "      <td>1.1300</td>\n",
       "      <td>0.4580</td>\n",
       "      <td>0.2765</td>\n",
       "      <td>0.3200</td>\n",
       "      <td>11</td>\n",
       "    </tr>\n",
       "    <tr>\n",
       "      <th>2</th>\n",
       "      <td>2</td>\n",
       "      <td>I</td>\n",
       "      <td>0.160</td>\n",
       "      <td>0.110</td>\n",
       "      <td>0.025</td>\n",
       "      <td>0.0210</td>\n",
       "      <td>0.0055</td>\n",
       "      <td>0.0030</td>\n",
       "      <td>0.0050</td>\n",
       "      <td>6</td>\n",
       "    </tr>\n",
       "    <tr>\n",
       "      <th>3</th>\n",
       "      <td>3</td>\n",
       "      <td>M</td>\n",
       "      <td>0.595</td>\n",
       "      <td>0.475</td>\n",
       "      <td>0.150</td>\n",
       "      <td>0.9145</td>\n",
       "      <td>0.3755</td>\n",
       "      <td>0.2055</td>\n",
       "      <td>0.2500</td>\n",
       "      <td>10</td>\n",
       "    </tr>\n",
       "    <tr>\n",
       "      <th>4</th>\n",
       "      <td>4</td>\n",
       "      <td>I</td>\n",
       "      <td>0.555</td>\n",
       "      <td>0.425</td>\n",
       "      <td>0.130</td>\n",
       "      <td>0.7820</td>\n",
       "      <td>0.3695</td>\n",
       "      <td>0.1600</td>\n",
       "      <td>0.1975</td>\n",
       "      <td>9</td>\n",
       "    </tr>\n",
       "  </tbody>\n",
       "</table>\n",
       "</div>"
      ],
      "text/plain": [
       "   id Sex  Length  Diameter  Height  Whole weight  Whole weight.1  \\\n",
       "0   0   F   0.550     0.430   0.150        0.7715          0.3285   \n",
       "1   1   F   0.630     0.490   0.145        1.1300          0.4580   \n",
       "2   2   I   0.160     0.110   0.025        0.0210          0.0055   \n",
       "3   3   M   0.595     0.475   0.150        0.9145          0.3755   \n",
       "4   4   I   0.555     0.425   0.130        0.7820          0.3695   \n",
       "\n",
       "   Whole weight.2  Shell weight  Rings  \n",
       "0          0.1465        0.2400     11  \n",
       "1          0.2765        0.3200     11  \n",
       "2          0.0030        0.0050      6  \n",
       "3          0.2055        0.2500     10  \n",
       "4          0.1600        0.1975      9  "
      ]
     },
     "execution_count": 7,
     "metadata": {},
     "output_type": "execute_result"
    }
   ],
   "source": [
    "train_df.head()"
   ]
  },
  {
   "cell_type": "markdown",
   "id": "4400d880-3c9e-4e79-89ff-dd3526b65926",
   "metadata": {},
   "source": [
    "## 特征工程"
   ]
  },
  {
   "cell_type": "code",
   "execution_count": 8,
   "id": "a47c8078-cc66-4c3b-b3c3-b580b6bc3042",
   "metadata": {},
   "outputs": [],
   "source": [
    "com_df = pd.concat([train_df, ext_df, test_df], axis=0, ignore_index=True)"
   ]
  },
  {
   "cell_type": "code",
   "execution_count": 9,
   "id": "664e5bb3-df76-43cb-923f-00d38105b811",
   "metadata": {},
   "outputs": [
    {
     "data": {
      "text/plain": [
       "94792"
      ]
     },
     "execution_count": 9,
     "metadata": {},
     "output_type": "execute_result"
    }
   ],
   "source": [
    "nums_train = train_df.shape[0] + ext_df.shape[0]\n",
    "nums_train"
   ]
  },
  {
   "cell_type": "code",
   "execution_count": 11,
   "id": "7ced7a5b-608b-4a0d-97ed-20bbb78cb6aa",
   "metadata": {},
   "outputs": [],
   "source": [
    "train_idx = com_df.index[:nums_train]\n",
    "test_idx = com_df.index[nums_train:]"
   ]
  },
  {
   "cell_type": "code",
   "execution_count": 14,
   "id": "49a99065-331d-48bd-8a81-cea4dfb52d47",
   "metadata": {},
   "outputs": [
    {
     "data": {
      "text/plain": [
       "(94792, 60411)"
      ]
     },
     "execution_count": 14,
     "metadata": {},
     "output_type": "execute_result"
    }
   ],
   "source": [
    "train_idx.shape[0], test_idx.shape[0]"
   ]
  },
  {
   "cell_type": "markdown",
   "id": "e91c96b3-2cfc-46df-b585-574ddf2fb91a",
   "metadata": {},
   "source": [
    "### Sex"
   ]
  },
  {
   "cell_type": "code",
   "execution_count": 15,
   "id": "161ac624-9e6e-415e-bf94-d02e2b293a28",
   "metadata": {},
   "outputs": [],
   "source": [
    "Sex2code = {'I': 0, 'M': 1, 'F': 2}"
   ]
  },
  {
   "cell_type": "code",
   "execution_count": 16,
   "id": "55cf95a1-b845-45d3-b41f-42d10083853b",
   "metadata": {},
   "outputs": [],
   "source": [
    "com_df['Sex_code'] = com_df['Sex'].map(Sex2code)"
   ]
  },
  {
   "cell_type": "code",
   "execution_count": 17,
   "id": "150eedd6-2c46-419d-8b8a-837ba159500f",
   "metadata": {},
   "outputs": [
    {
     "data": {
      "text/html": [
       "<div>\n",
       "<style scoped>\n",
       "    .dataframe tbody tr th:only-of-type {\n",
       "        vertical-align: middle;\n",
       "    }\n",
       "\n",
       "    .dataframe tbody tr th {\n",
       "        vertical-align: top;\n",
       "    }\n",
       "\n",
       "    .dataframe thead th {\n",
       "        text-align: right;\n",
       "    }\n",
       "</style>\n",
       "<table border=\"1\" class=\"dataframe\">\n",
       "  <thead>\n",
       "    <tr style=\"text-align: right;\">\n",
       "      <th></th>\n",
       "      <th>id</th>\n",
       "      <th>Sex</th>\n",
       "      <th>Length</th>\n",
       "      <th>Diameter</th>\n",
       "      <th>Height</th>\n",
       "      <th>Whole weight</th>\n",
       "      <th>Whole weight.1</th>\n",
       "      <th>Whole weight.2</th>\n",
       "      <th>Shell weight</th>\n",
       "      <th>Rings</th>\n",
       "      <th>Sex_code</th>\n",
       "    </tr>\n",
       "  </thead>\n",
       "  <tbody>\n",
       "    <tr>\n",
       "      <th>0</th>\n",
       "      <td>0.0</td>\n",
       "      <td>F</td>\n",
       "      <td>0.550</td>\n",
       "      <td>0.430</td>\n",
       "      <td>0.150</td>\n",
       "      <td>0.7715</td>\n",
       "      <td>0.3285</td>\n",
       "      <td>0.1465</td>\n",
       "      <td>0.2400</td>\n",
       "      <td>11.0</td>\n",
       "      <td>2</td>\n",
       "    </tr>\n",
       "    <tr>\n",
       "      <th>1</th>\n",
       "      <td>1.0</td>\n",
       "      <td>F</td>\n",
       "      <td>0.630</td>\n",
       "      <td>0.490</td>\n",
       "      <td>0.145</td>\n",
       "      <td>1.1300</td>\n",
       "      <td>0.4580</td>\n",
       "      <td>0.2765</td>\n",
       "      <td>0.3200</td>\n",
       "      <td>11.0</td>\n",
       "      <td>2</td>\n",
       "    </tr>\n",
       "    <tr>\n",
       "      <th>2</th>\n",
       "      <td>2.0</td>\n",
       "      <td>I</td>\n",
       "      <td>0.160</td>\n",
       "      <td>0.110</td>\n",
       "      <td>0.025</td>\n",
       "      <td>0.0210</td>\n",
       "      <td>0.0055</td>\n",
       "      <td>0.0030</td>\n",
       "      <td>0.0050</td>\n",
       "      <td>6.0</td>\n",
       "      <td>0</td>\n",
       "    </tr>\n",
       "    <tr>\n",
       "      <th>3</th>\n",
       "      <td>3.0</td>\n",
       "      <td>M</td>\n",
       "      <td>0.595</td>\n",
       "      <td>0.475</td>\n",
       "      <td>0.150</td>\n",
       "      <td>0.9145</td>\n",
       "      <td>0.3755</td>\n",
       "      <td>0.2055</td>\n",
       "      <td>0.2500</td>\n",
       "      <td>10.0</td>\n",
       "      <td>1</td>\n",
       "    </tr>\n",
       "    <tr>\n",
       "      <th>4</th>\n",
       "      <td>4.0</td>\n",
       "      <td>I</td>\n",
       "      <td>0.555</td>\n",
       "      <td>0.425</td>\n",
       "      <td>0.130</td>\n",
       "      <td>0.7820</td>\n",
       "      <td>0.3695</td>\n",
       "      <td>0.1600</td>\n",
       "      <td>0.1975</td>\n",
       "      <td>9.0</td>\n",
       "      <td>0</td>\n",
       "    </tr>\n",
       "  </tbody>\n",
       "</table>\n",
       "</div>"
      ],
      "text/plain": [
       "    id Sex  Length  Diameter  Height  Whole weight  Whole weight.1  \\\n",
       "0  0.0   F   0.550     0.430   0.150        0.7715          0.3285   \n",
       "1  1.0   F   0.630     0.490   0.145        1.1300          0.4580   \n",
       "2  2.0   I   0.160     0.110   0.025        0.0210          0.0055   \n",
       "3  3.0   M   0.595     0.475   0.150        0.9145          0.3755   \n",
       "4  4.0   I   0.555     0.425   0.130        0.7820          0.3695   \n",
       "\n",
       "   Whole weight.2  Shell weight  Rings  Sex_code  \n",
       "0          0.1465        0.2400   11.0         2  \n",
       "1          0.2765        0.3200   11.0         2  \n",
       "2          0.0030        0.0050    6.0         0  \n",
       "3          0.2055        0.2500   10.0         1  \n",
       "4          0.1600        0.1975    9.0         0  "
      ]
     },
     "execution_count": 17,
     "metadata": {},
     "output_type": "execute_result"
    }
   ],
   "source": [
    "com_df.head()"
   ]
  },
  {
   "cell_type": "markdown",
   "id": "540979d0-8fd6-4847-83b5-729b61ed8ab4",
   "metadata": {},
   "source": [
    "### Rings"
   ]
  },
  {
   "cell_type": "code",
   "execution_count": 13,
   "id": "240c2d68-4190-4c4a-8142-89998e3d6976",
   "metadata": {},
   "outputs": [],
   "source": [
    "# com_df['Rings_log1p'] = np.log1p(com_df['Rings'])"
   ]
  },
  {
   "cell_type": "markdown",
   "id": "33ef5435-7717-4eae-99cd-76b6d9f3188b",
   "metadata": {},
   "source": [
    "## cross_validation"
   ]
  },
  {
   "cell_type": "markdown",
   "id": "874bfaaf-e80c-44ec-bff8-b6b2a7868d05",
   "metadata": {},
   "source": [
    "## 调参"
   ]
  },
  {
   "cell_type": "markdown",
   "id": "2b303b7f-b1db-4a55-b6b0-71cf42061620",
   "metadata": {},
   "source": [
    "[bayesHyperTuning.py](bayesHyperTuning.py)"
   ]
  },
  {
   "cell_type": "markdown",
   "id": "6586b145-220a-4d04-8959-48a61e65623d",
   "metadata": {},
   "source": [
    "## 建模"
   ]
  },
  {
   "cell_type": "code",
   "execution_count": 18,
   "id": "25d5abc6-7672-4655-8c18-02b21586e74d",
   "metadata": {},
   "outputs": [],
   "source": [
    "train_df = com_df.loc[train_idx]\n",
    "test_df = com_df.loc[test_idx]"
   ]
  },
  {
   "cell_type": "code",
   "execution_count": 19,
   "id": "f76f7100-fe21-4f02-ad6c-cc854309a245",
   "metadata": {},
   "outputs": [
    {
     "data": {
      "text/plain": [
       "(94792, 60411)"
      ]
     },
     "execution_count": 19,
     "metadata": {},
     "output_type": "execute_result"
    }
   ],
   "source": [
    "train_df.shape[0], test_df.shape[0]"
   ]
  },
  {
   "cell_type": "code",
   "execution_count": 20,
   "id": "ecaf7286-8062-4091-afe5-d5e60601b51b",
   "metadata": {},
   "outputs": [],
   "source": [
    "train_cols = [c for c in train_df.columns if c not in {'id', 'Rings', 'Rings_log1p', 'Sex'}]"
   ]
  },
  {
   "cell_type": "code",
   "execution_count": 21,
   "id": "59b80f45-eb8c-4e13-8926-0f1d1ed93c7a",
   "metadata": {},
   "outputs": [
    {
     "data": {
      "text/plain": [
       "['Length',\n",
       " 'Diameter',\n",
       " 'Height',\n",
       " 'Whole weight',\n",
       " 'Whole weight.1',\n",
       " 'Whole weight.2',\n",
       " 'Shell weight',\n",
       " 'Sex_code']"
      ]
     },
     "execution_count": 21,
     "metadata": {},
     "output_type": "execute_result"
    }
   ],
   "source": [
    "train_cols"
   ]
  },
  {
   "cell_type": "code",
   "execution_count": 22,
   "id": "aad1a421-4e9f-4fdf-b6fa-f3fa72919264",
   "metadata": {},
   "outputs": [],
   "source": [
    "target_col = 'Rings'"
   ]
  },
  {
   "cell_type": "code",
   "execution_count": 23,
   "id": "e7126d9f-f0ff-44c0-a252-461ae111c9c9",
   "metadata": {},
   "outputs": [],
   "source": [
    "# 记录各次试验的结果\n",
    "oof_df = train_df[['id', 'Rings']].copy()\n",
    "pred_df = test_df[['id']].copy()"
   ]
  },
  {
   "cell_type": "code",
   "execution_count": 25,
   "id": "c35d2efa-69bb-4151-a0dd-5f9b945b0bd0",
   "metadata": {},
   "outputs": [],
   "source": [
    "pred_df['id'] = pred_df['id'].astype(int)"
   ]
  },
  {
   "cell_type": "markdown",
   "id": "43977216-c9b6-4e62-8ea0-30dbf24d8be8",
   "metadata": {},
   "source": [
    "### lightgbm"
   ]
  },
  {
   "cell_type": "markdown",
   "id": "08a2a9f1-153e-4154-b25f-48e40ae6f22f",
   "metadata": {},
   "source": [
    "#### 默参"
   ]
  },
  {
   "cell_type": "code",
   "execution_count": 27,
   "id": "25454d1c-c6cb-452b-a464-6a1c388124db",
   "metadata": {},
   "outputs": [],
   "source": [
    "params = {\n",
    "    'num_threads': 8,\n",
    "    'objective': 'regression',\n",
    "    'num_leaves': 31,\n",
    "    'min_data_in_leaf': 20,\n",
    "    'bagging_fraction': 1.0,\n",
    "    'feature_fraction': 1.0,\n",
    "    'reg_alpha': 0.0,\n",
    "    'metric': 'l2',\n",
    "    'early_stopping_rounds': 400,\n",
    "}"
   ]
  },
  {
   "cell_type": "code",
   "execution_count": 28,
   "id": "417e1cf4-3a33-46fa-aa62-e7183360b04b",
   "metadata": {
    "collapsed": true,
    "jupyter": {
     "outputs_hidden": true
    },
    "scrolled": true
   },
   "outputs": [
    {
     "name": "stdout",
     "output_type": "stream",
     "text": [
      "fold=0 - - - - - - - - - - - - - - - - - - - - \n",
      "[LightGBM] [Warning] Found whitespace in feature_names, replace with underlines\n",
      "[LightGBM] [Info] Auto-choosing row-wise multi-threading, the overhead of testing was 0.000560 seconds.\n",
      "You can set `force_row_wise=true` to remove the overhead.\n",
      "And if memory is not enough, you can set `force_col_wise=true`.\n",
      "[LightGBM] [Info] Total Bins 1333\n",
      "[LightGBM] [Info] Number of data points in the train set: 75833, number of used features: 8\n",
      "[LightGBM] [Warning] Found whitespace in feature_names, replace with underlines\n",
      "[LightGBM] [Info] Start training from score 9.711972\n",
      "Training until validation scores don't improve for 400 rounds\n",
      "[100]\tvalid_0's l2: 3.47584\n",
      "[200]\tvalid_0's l2: 3.42776\n",
      "[300]\tvalid_0's l2: 3.40394\n",
      "[400]\tvalid_0's l2: 3.39372\n",
      "[500]\tvalid_0's l2: 3.39445\n",
      "[600]\tvalid_0's l2: 3.39006\n",
      "[700]\tvalid_0's l2: 3.39919\n",
      "[800]\tvalid_0's l2: 3.40968\n",
      "[900]\tvalid_0's l2: 3.41138\n",
      "[1000]\tvalid_0's l2: 3.41367\n",
      "Early stopping, best iteration is:\n",
      "[600]\tvalid_0's l2: 3.39006\n",
      "fold=1 - - - - - - - - - - - - - - - - - - - - \n",
      "[LightGBM] [Warning] Found whitespace in feature_names, replace with underlines\n",
      "[LightGBM] [Info] Auto-choosing row-wise multi-threading, the overhead of testing was 0.000438 seconds.\n",
      "You can set `force_row_wise=true` to remove the overhead.\n",
      "And if memory is not enough, you can set `force_col_wise=true`.\n",
      "[LightGBM] [Info] Total Bins 1331\n",
      "[LightGBM] [Info] Number of data points in the train set: 75833, number of used features: 8\n",
      "[LightGBM] [Warning] Found whitespace in feature_names, replace with underlines\n",
      "[LightGBM] [Info] Start training from score 9.714425\n",
      "Training until validation scores don't improve for 400 rounds\n",
      "[100]\tvalid_0's l2: 3.41191\n",
      "[200]\tvalid_0's l2: 3.37033\n",
      "[300]\tvalid_0's l2: 3.37328\n",
      "[400]\tvalid_0's l2: 3.37476\n",
      "[500]\tvalid_0's l2: 3.38424\n",
      "[600]\tvalid_0's l2: 3.39417\n",
      "Early stopping, best iteration is:\n",
      "[226]\tvalid_0's l2: 3.3662\n",
      "fold=2 - - - - - - - - - - - - - - - - - - - - \n",
      "[LightGBM] [Warning] Found whitespace in feature_names, replace with underlines\n",
      "[LightGBM] [Info] Auto-choosing row-wise multi-threading, the overhead of testing was 0.000729 seconds.\n",
      "You can set `force_row_wise=true` to remove the overhead.\n",
      "And if memory is not enough, you can set `force_col_wise=true`.\n",
      "[LightGBM] [Info] Total Bins 1333\n",
      "[LightGBM] [Info] Number of data points in the train set: 75834, number of used features: 8\n",
      "[LightGBM] [Warning] Found whitespace in feature_names, replace with underlines\n",
      "[LightGBM] [Info] Start training from score 9.701783\n",
      "Training until validation scores don't improve for 400 rounds\n",
      "[100]\tvalid_0's l2: 3.47814\n",
      "[200]\tvalid_0's l2: 3.43952\n",
      "[300]\tvalid_0's l2: 3.42397\n",
      "[400]\tvalid_0's l2: 3.42089\n",
      "[500]\tvalid_0's l2: 3.42135\n",
      "[600]\tvalid_0's l2: 3.42711\n",
      "[700]\tvalid_0's l2: 3.43297\n",
      "[800]\tvalid_0's l2: 3.43681\n",
      "Early stopping, best iteration is:\n",
      "[421]\tvalid_0's l2: 3.41903\n",
      "fold=3 - - - - - - - - - - - - - - - - - - - - \n",
      "[LightGBM] [Warning] Found whitespace in feature_names, replace with underlines\n",
      "[LightGBM] [Info] Auto-choosing row-wise multi-threading, the overhead of testing was 0.000772 seconds.\n",
      "You can set `force_row_wise=true` to remove the overhead.\n",
      "And if memory is not enough, you can set `force_col_wise=true`.\n",
      "[LightGBM] [Info] Total Bins 1334\n",
      "[LightGBM] [Info] Number of data points in the train set: 75834, number of used features: 8\n",
      "[LightGBM] [Warning] Found whitespace in feature_names, replace with underlines\n",
      "[LightGBM] [Info] Start training from score 9.700636\n",
      "Training until validation scores don't improve for 400 rounds\n",
      "[100]\tvalid_0's l2: 3.47246\n",
      "[200]\tvalid_0's l2: 3.44445\n",
      "[300]\tvalid_0's l2: 3.43698\n",
      "[400]\tvalid_0's l2: 3.43791\n",
      "[500]\tvalid_0's l2: 3.44125\n",
      "[600]\tvalid_0's l2: 3.44862\n",
      "[700]\tvalid_0's l2: 3.45615\n",
      "Early stopping, best iteration is:\n",
      "[321]\tvalid_0's l2: 3.43244\n",
      "fold=4 - - - - - - - - - - - - - - - - - - - - \n",
      "[LightGBM] [Warning] Found whitespace in feature_names, replace with underlines\n",
      "[LightGBM] [Info] Auto-choosing row-wise multi-threading, the overhead of testing was 0.000443 seconds.\n",
      "You can set `force_row_wise=true` to remove the overhead.\n",
      "And if memory is not enough, you can set `force_col_wise=true`.\n",
      "[LightGBM] [Info] Total Bins 1331\n",
      "[LightGBM] [Info] Number of data points in the train set: 75834, number of used features: 8\n",
      "[LightGBM] [Warning] Found whitespace in feature_names, replace with underlines\n",
      "[LightGBM] [Info] Start training from score 9.707348\n",
      "Training until validation scores don't improve for 400 rounds\n",
      "[100]\tvalid_0's l2: 3.32055\n",
      "[200]\tvalid_0's l2: 3.28901\n",
      "[300]\tvalid_0's l2: 3.28957\n",
      "[400]\tvalid_0's l2: 3.29236\n",
      "[500]\tvalid_0's l2: 3.28969\n",
      "[600]\tvalid_0's l2: 3.30237\n",
      "Early stopping, best iteration is:\n",
      "[217]\tvalid_0's l2: 3.28624\n"
     ]
    }
   ],
   "source": [
    "nfold = 5\n",
    "folds = KFold(n_splits=nfold, shuffle=True, random_state=42)\n",
    "\n",
    "oof = np.zeros(train_df.shape[0])\n",
    "pred = np.zeros(test_df.shape[0])\n",
    "\n",
    "for i, (trn_idx, val_idx) in enumerate(folds.split(train_df.index)):\n",
    "    print(f'fold={i}', '- ' * 20)\n",
    "    trn_data = lgb.Dataset(train_df.loc[trn_idx, train_cols], label=train_df.loc[trn_idx, target_col], categorical_feature=['Sex_code'])\n",
    "    val_data = lgb.Dataset(train_df.loc[val_idx, train_cols], label=train_df.loc[val_idx, target_col], categorical_feature=['Sex_code'])\n",
    "\n",
    "    model = lgb.train(params, trn_data, 10000, valid_sets=val_data, callbacks=[lgb.log_evaluation(100)])\n",
    "\n",
    "    oof[val_idx] = model.predict(train_df.loc[val_idx, train_cols], num_iteration=model.best_iteration)\n",
    "    pred += model.predict(test_df[train_cols], num_iteration=model.best_iteration) / nfold"
   ]
  },
  {
   "cell_type": "code",
   "execution_count": 29,
   "id": "cb60df4e-f98f-44de-ba28-908ccbc7f83f",
   "metadata": {},
   "outputs": [
    {
     "data": {
      "text/plain": [
       "0.14999862448969184"
      ]
     },
     "execution_count": 29,
     "metadata": {},
     "output_type": "execute_result"
    }
   ],
   "source": [
    "mean_squared_log_error(train_df['Rings'], oof, squared=False)"
   ]
  },
  {
   "cell_type": "markdown",
   "id": "52b66032-b09a-4e37-9e35-2585af94674d",
   "metadata": {},
   "source": [
    "##### 抽象成函数"
   ]
  },
  {
   "cell_type": "code",
   "execution_count": 31,
   "id": "c51d4a7e-e3a6-4b5e-8540-f95e6842e694",
   "metadata": {},
   "outputs": [],
   "source": [
    "def lgb_cv(params, train_df, test_df, train_cols, target_col, log_transform=False, stratified=False, nfold=5, num_boost_round=10000):\n",
    "    if stratified:\n",
    "        folds = StratifiedKFold(n_splits=nfold, shuffle=True, random_state=42)\n",
    "    else:\n",
    "        folds = KFold(n_splits=nfold, shuffle=True, random_state=42)\n",
    "\n",
    "    target = train_df[target_col]\n",
    "    if log_transform:\n",
    "        target = np.log1p(train_df[target_col])\n",
    "    \n",
    "    oof = np.zeros(train_df.shape[0])\n",
    "    pred = np.zeros(test_df.shape[0])\n",
    "    \n",
    "    for i, (trn_idx, val_idx) in enumerate(folds.split(train_df.index, train_df.Rings.astype(int))):\n",
    "    # for i, (trn_idx, val_idx) in enumerate(folds.split(train_df.index)):\n",
    "        print(f'fold={i}', '- ' * 20)\n",
    "        trn_data = lgb.Dataset(train_df.loc[trn_idx, train_cols], label=target.loc[trn_idx], categorical_feature=['Sex_code'])\n",
    "        val_data = lgb.Dataset(train_df.loc[val_idx, train_cols], label=target.loc[val_idx], categorical_feature=['Sex_code'])\n",
    "    \n",
    "        model = lgb.train(params, trn_data, num_boost_round, valid_sets=val_data, callbacks=[lgb.log_evaluation(200)])\n",
    "    \n",
    "        oof[val_idx] = model.predict(train_df.loc[val_idx, train_cols], num_iteration=model.best_iteration)\n",
    "        pred += model.predict(test_df[train_cols], num_iteration=model.best_iteration) / nfold\n",
    "\n",
    "    if log_transform:\n",
    "        oof = np.expm1(oof)\n",
    "        pred = np.expm1(pred)\n",
    "\n",
    "    cv = mean_squared_log_error(train_df['Rings'], oof, squared=False)\n",
    "    return cv, oof, pred"
   ]
  },
  {
   "cell_type": "code",
   "execution_count": 32,
   "id": "4bec0dbc-e07c-4ae9-b7b6-bb18d1497d16",
   "metadata": {
    "jupyter": {
     "source_hidden": true
    }
   },
   "outputs": [],
   "source": [
    "params = {\n",
    "    'num_threads': 8,\n",
    "    'objective': 'regression',\n",
    "    'num_leaves': 31,\n",
    "    'min_data_in_leaf': 20,\n",
    "    'bagging_fraction': 1.0,\n",
    "    'feature_fraction': 1.0,\n",
    "    'reg_alpha': 0.0,\n",
    "    'metric': 'l2',\n",
    "    'early_stopping_rounds': 400,\n",
    "}"
   ]
  },
  {
   "cell_type": "code",
   "execution_count": 33,
   "id": "50c4ff70-ca2c-4ba9-8d03-81d90c2c7787",
   "metadata": {
    "scrolled": true
   },
   "outputs": [
    {
     "name": "stdout",
     "output_type": "stream",
     "text": [
      "fold=0 - - - - - - - - - - - - - - - - - - - - \n",
      "[LightGBM] [Warning] Found whitespace in feature_names, replace with underlines\n",
      "[LightGBM] [Info] Auto-choosing row-wise multi-threading, the overhead of testing was 0.000732 seconds.\n",
      "You can set `force_row_wise=true` to remove the overhead.\n",
      "And if memory is not enough, you can set `force_col_wise=true`.\n",
      "[LightGBM] [Info] Total Bins 1333\n",
      "[LightGBM] [Info] Number of data points in the train set: 75833, number of used features: 8\n",
      "[LightGBM] [Warning] Found whitespace in feature_names, replace with underlines\n",
      "[LightGBM] [Info] Start training from score 9.711972\n",
      "Training until validation scores don't improve for 400 rounds\n",
      "[200]\tvalid_0's l2: 3.42776\n",
      "[400]\tvalid_0's l2: 3.39372\n",
      "[600]\tvalid_0's l2: 3.39006\n",
      "[800]\tvalid_0's l2: 3.40968\n",
      "[1000]\tvalid_0's l2: 3.41367\n",
      "Early stopping, best iteration is:\n",
      "[600]\tvalid_0's l2: 3.39006\n",
      "fold=1 - - - - - - - - - - - - - - - - - - - - \n",
      "[LightGBM] [Warning] Found whitespace in feature_names, replace with underlines\n",
      "[LightGBM] [Info] Auto-choosing row-wise multi-threading, the overhead of testing was 0.000507 seconds.\n",
      "You can set `force_row_wise=true` to remove the overhead.\n",
      "And if memory is not enough, you can set `force_col_wise=true`.\n",
      "[LightGBM] [Info] Total Bins 1331\n",
      "[LightGBM] [Info] Number of data points in the train set: 75833, number of used features: 8\n",
      "[LightGBM] [Warning] Found whitespace in feature_names, replace with underlines\n",
      "[LightGBM] [Info] Start training from score 9.714425\n",
      "Training until validation scores don't improve for 400 rounds\n",
      "[200]\tvalid_0's l2: 3.37033\n",
      "[400]\tvalid_0's l2: 3.37476\n",
      "[600]\tvalid_0's l2: 3.39417\n",
      "Early stopping, best iteration is:\n",
      "[226]\tvalid_0's l2: 3.3662\n",
      "fold=2 - - - - - - - - - - - - - - - - - - - - \n",
      "[LightGBM] [Warning] Found whitespace in feature_names, replace with underlines\n",
      "[LightGBM] [Info] Auto-choosing row-wise multi-threading, the overhead of testing was 0.000610 seconds.\n",
      "You can set `force_row_wise=true` to remove the overhead.\n",
      "And if memory is not enough, you can set `force_col_wise=true`.\n",
      "[LightGBM] [Info] Total Bins 1333\n",
      "[LightGBM] [Info] Number of data points in the train set: 75834, number of used features: 8\n",
      "[LightGBM] [Warning] Found whitespace in feature_names, replace with underlines\n",
      "[LightGBM] [Info] Start training from score 9.701783\n",
      "Training until validation scores don't improve for 400 rounds\n",
      "[200]\tvalid_0's l2: 3.43952\n",
      "[400]\tvalid_0's l2: 3.42089\n",
      "[600]\tvalid_0's l2: 3.42711\n",
      "[800]\tvalid_0's l2: 3.43681\n",
      "Early stopping, best iteration is:\n",
      "[421]\tvalid_0's l2: 3.41903\n",
      "fold=3 - - - - - - - - - - - - - - - - - - - - \n",
      "[LightGBM] [Warning] Found whitespace in feature_names, replace with underlines\n",
      "[LightGBM] [Info] Auto-choosing row-wise multi-threading, the overhead of testing was 0.000664 seconds.\n",
      "You can set `force_row_wise=true` to remove the overhead.\n",
      "And if memory is not enough, you can set `force_col_wise=true`.\n",
      "[LightGBM] [Info] Total Bins 1334\n",
      "[LightGBM] [Info] Number of data points in the train set: 75834, number of used features: 8\n",
      "[LightGBM] [Warning] Found whitespace in feature_names, replace with underlines\n",
      "[LightGBM] [Info] Start training from score 9.700636\n",
      "Training until validation scores don't improve for 400 rounds\n",
      "[200]\tvalid_0's l2: 3.44445\n",
      "[400]\tvalid_0's l2: 3.43791\n",
      "[600]\tvalid_0's l2: 3.44862\n",
      "Early stopping, best iteration is:\n",
      "[321]\tvalid_0's l2: 3.43244\n",
      "fold=4 - - - - - - - - - - - - - - - - - - - - \n",
      "[LightGBM] [Warning] Found whitespace in feature_names, replace with underlines\n",
      "[LightGBM] [Info] Auto-choosing row-wise multi-threading, the overhead of testing was 0.000487 seconds.\n",
      "You can set `force_row_wise=true` to remove the overhead.\n",
      "And if memory is not enough, you can set `force_col_wise=true`.\n",
      "[LightGBM] [Info] Total Bins 1331\n",
      "[LightGBM] [Info] Number of data points in the train set: 75834, number of used features: 8\n",
      "[LightGBM] [Warning] Found whitespace in feature_names, replace with underlines\n",
      "[LightGBM] [Info] Start training from score 9.707348\n",
      "Training until validation scores don't improve for 400 rounds\n",
      "[200]\tvalid_0's l2: 3.28901\n",
      "[400]\tvalid_0's l2: 3.29236\n",
      "[600]\tvalid_0's l2: 3.30237\n",
      "Early stopping, best iteration is:\n",
      "[217]\tvalid_0's l2: 3.28624\n"
     ]
    }
   ],
   "source": [
    "cv, oof, pred = lgb_cv(params, train_df, test_df, train_cols, target_col, log_transform=False, stratified=False)"
   ]
  },
  {
   "cell_type": "code",
   "execution_count": 34,
   "id": "c41494b5-a51f-46e0-9cc5-093028216891",
   "metadata": {},
   "outputs": [
    {
     "name": "stdout",
     "output_type": "stream",
     "text": [
      "0.14999862448969184\n"
     ]
    }
   ],
   "source": [
    "print(cv)\n",
    "\n",
    "tag = 'lgb_default'\n",
    "oof_df[tag] = oof\n",
    "pred_df[tag] = pred"
   ]
  },
  {
   "cell_type": "markdown",
   "id": "8fdaa535-722d-4be3-b8a0-caca8219bdfe",
   "metadata": {},
   "source": [
    "#### BayesianOptimization搜索"
   ]
  },
  {
   "cell_type": "code",
   "execution_count": 35,
   "id": "1b258a87-f205-4d4a-8e75-053c1233b10a",
   "metadata": {
    "scrolled": true
   },
   "outputs": [
    {
     "data": {
      "text/plain": [
       "{'target': -0.14929339726508067,\n",
       " 'params': {'bagging_fraction': 0.8309777789028161,\n",
       "  'feature_fraction': 0.8188337656756874,\n",
       "  'learning_rate': 0.011428603279767906,\n",
       "  'max_leaves': 152.77240927641438,\n",
       "  'min_data_in_leaf': 78.74916477965401,\n",
       "  'reg_lambda': 2.1153678521413966}}"
      ]
     },
     "execution_count": 35,
     "metadata": {},
     "output_type": "execute_result"
    }
   ],
   "source": [
    "{'target': -0.14929339726508067, 'params': {'bagging_fraction': 0.8309777789028161, 'feature_fraction': 0.8188337656756874, 'learning_rate': 0.011428603279767906, 'max_leaves': 152.77240927641438, 'min_data_in_leaf': 78.74916477965401, 'reg_lambda': 2.1153678521413966}}"
   ]
  },
  {
   "cell_type": "code",
   "execution_count": 36,
   "id": "4294395e-9fe2-41f9-895f-f9381fc4dfc4",
   "metadata": {},
   "outputs": [],
   "source": [
    "params = {\n",
    "    'num_threads': 8,\n",
    "    'objective': 'regression',\n",
    "    'learning_rate': 0.01,\n",
    "    'num_leaves': 153,\n",
    "    'min_data_in_leaf': 79,\n",
    "    'bagging_freq': 1,\n",
    "    'bagging_fraction': 0.8,\n",
    "    'feature_fraction': 0.8,\n",
    "    'reg_lambda': 2,\n",
    "    'metric': 'l2',\n",
    "    'early_stopping_rounds': 600,\n",
    "}"
   ]
  },
  {
   "cell_type": "code",
   "execution_count": 37,
   "id": "8bd57cbd-2e79-45dc-b84d-eb0fa4a7585a",
   "metadata": {
    "scrolled": true
   },
   "outputs": [
    {
     "name": "stdout",
     "output_type": "stream",
     "text": [
      "fold=0 - - - - - - - - - - - - - - - - - - - - \n",
      "[LightGBM] [Warning] Found whitespace in feature_names, replace with underlines\n",
      "[LightGBM] [Info] Auto-choosing row-wise multi-threading, the overhead of testing was 0.000440 seconds.\n",
      "You can set `force_row_wise=true` to remove the overhead.\n",
      "And if memory is not enough, you can set `force_col_wise=true`.\n",
      "[LightGBM] [Info] Total Bins 1333\n",
      "[LightGBM] [Info] Number of data points in the train set: 75833, number of used features: 8\n",
      "[LightGBM] [Warning] Found whitespace in feature_names, replace with underlines\n",
      "[LightGBM] [Info] Start training from score 9.711972\n",
      "Training until validation scores don't improve for 600 rounds\n",
      "[200]\tvalid_0's l2: 3.66798\n",
      "[400]\tvalid_0's l2: 3.42491\n",
      "[600]\tvalid_0's l2: 3.38865\n",
      "[800]\tvalid_0's l2: 3.3745\n",
      "[1000]\tvalid_0's l2: 3.36842\n",
      "[1200]\tvalid_0's l2: 3.36546\n",
      "[1400]\tvalid_0's l2: 3.3668\n",
      "[1600]\tvalid_0's l2: 3.36998\n",
      "Early stopping, best iteration is:\n",
      "[1175]\tvalid_0's l2: 3.36522\n",
      "fold=1 - - - - - - - - - - - - - - - - - - - - \n",
      "[LightGBM] [Warning] Found whitespace in feature_names, replace with underlines\n",
      "[LightGBM] [Info] Auto-choosing row-wise multi-threading, the overhead of testing was 0.000470 seconds.\n",
      "You can set `force_row_wise=true` to remove the overhead.\n",
      "And if memory is not enough, you can set `force_col_wise=true`.\n",
      "[LightGBM] [Info] Total Bins 1331\n",
      "[LightGBM] [Info] Number of data points in the train set: 75833, number of used features: 8\n",
      "[LightGBM] [Warning] Found whitespace in feature_names, replace with underlines\n",
      "[LightGBM] [Info] Start training from score 9.714425\n",
      "Training until validation scores don't improve for 600 rounds\n",
      "[200]\tvalid_0's l2: 3.59392\n",
      "[400]\tvalid_0's l2: 3.36346\n",
      "[600]\tvalid_0's l2: 3.33465\n",
      "[800]\tvalid_0's l2: 3.32518\n",
      "[1000]\tvalid_0's l2: 3.32556\n",
      "[1200]\tvalid_0's l2: 3.32739\n",
      "[1400]\tvalid_0's l2: 3.33093\n",
      "Early stopping, best iteration is:\n",
      "[836]\tvalid_0's l2: 3.32485\n",
      "fold=2 - - - - - - - - - - - - - - - - - - - - \n",
      "[LightGBM] [Warning] Found whitespace in feature_names, replace with underlines\n",
      "[LightGBM] [Info] Auto-choosing col-wise multi-threading, the overhead of testing was 0.003596 seconds.\n",
      "You can set `force_col_wise=true` to remove the overhead.\n",
      "[LightGBM] [Info] Total Bins 1333\n",
      "[LightGBM] [Info] Number of data points in the train set: 75834, number of used features: 8\n",
      "[LightGBM] [Warning] Found whitespace in feature_names, replace with underlines\n",
      "[LightGBM] [Info] Start training from score 9.701783\n",
      "Training until validation scores don't improve for 600 rounds\n",
      "[200]\tvalid_0's l2: 3.67566\n",
      "[400]\tvalid_0's l2: 3.44076\n",
      "[600]\tvalid_0's l2: 3.41029\n",
      "[800]\tvalid_0's l2: 3.40095\n",
      "[1000]\tvalid_0's l2: 3.39826\n",
      "[1200]\tvalid_0's l2: 3.39737\n",
      "[1400]\tvalid_0's l2: 3.39971\n",
      "[1600]\tvalid_0's l2: 3.40423\n",
      "Early stopping, best iteration is:\n",
      "[1068]\tvalid_0's l2: 3.39679\n",
      "fold=3 - - - - - - - - - - - - - - - - - - - - \n",
      "[LightGBM] [Warning] Found whitespace in feature_names, replace with underlines\n",
      "[LightGBM] [Info] Auto-choosing row-wise multi-threading, the overhead of testing was 0.000736 seconds.\n",
      "You can set `force_row_wise=true` to remove the overhead.\n",
      "And if memory is not enough, you can set `force_col_wise=true`.\n",
      "[LightGBM] [Info] Total Bins 1334\n",
      "[LightGBM] [Info] Number of data points in the train set: 75834, number of used features: 8\n",
      "[LightGBM] [Warning] Found whitespace in feature_names, replace with underlines\n",
      "[LightGBM] [Info] Start training from score 9.700636\n",
      "Training until validation scores don't improve for 600 rounds\n",
      "[200]\tvalid_0's l2: 3.64652\n",
      "[400]\tvalid_0's l2: 3.43271\n",
      "[600]\tvalid_0's l2: 3.40794\n",
      "[800]\tvalid_0's l2: 3.39852\n",
      "[1000]\tvalid_0's l2: 3.39824\n",
      "[1200]\tvalid_0's l2: 3.39951\n",
      "[1400]\tvalid_0's l2: 3.40175\n",
      "Early stopping, best iteration is:\n",
      "[869]\tvalid_0's l2: 3.39715\n",
      "fold=4 - - - - - - - - - - - - - - - - - - - - \n",
      "[LightGBM] [Warning] Found whitespace in feature_names, replace with underlines\n",
      "[LightGBM] [Info] Auto-choosing row-wise multi-threading, the overhead of testing was 0.000733 seconds.\n",
      "You can set `force_row_wise=true` to remove the overhead.\n",
      "And if memory is not enough, you can set `force_col_wise=true`.\n",
      "[LightGBM] [Info] Total Bins 1331\n",
      "[LightGBM] [Info] Number of data points in the train set: 75834, number of used features: 8\n",
      "[LightGBM] [Warning] Found whitespace in feature_names, replace with underlines\n",
      "[LightGBM] [Info] Start training from score 9.707348\n",
      "Training until validation scores don't improve for 600 rounds\n",
      "[200]\tvalid_0's l2: 3.49259\n",
      "[400]\tvalid_0's l2: 3.28809\n",
      "[600]\tvalid_0's l2: 3.26442\n",
      "[800]\tvalid_0's l2: 3.25961\n",
      "[1000]\tvalid_0's l2: 3.25886\n",
      "[1200]\tvalid_0's l2: 3.26318\n",
      "[1400]\tvalid_0's l2: 3.26869\n",
      "Early stopping, best iteration is:\n",
      "[948]\tvalid_0's l2: 3.2583\n"
     ]
    }
   ],
   "source": [
    "cv, oof, pred = lgb_cv(params, train_df, test_df, train_cols, target_col, log_transform=False, stratified=False)"
   ]
  },
  {
   "cell_type": "code",
   "execution_count": 38,
   "id": "3685e25b-2984-4ffd-a9dc-9521cbe5eae7",
   "metadata": {},
   "outputs": [
    {
     "data": {
      "text/plain": [
       "0.14942425821831296"
      ]
     },
     "execution_count": 38,
     "metadata": {},
     "output_type": "execute_result"
    }
   ],
   "source": [
    "cv"
   ]
  },
  {
   "cell_type": "code",
   "execution_count": 39,
   "id": "b377e264-519a-4489-adcc-6a2aeb8cc588",
   "metadata": {},
   "outputs": [],
   "source": [
    "tag = 'lgb_bo'\n",
    "oof_df[tag] = oof\n",
    "pred_df[tag] = pred"
   ]
  },
  {
   "cell_type": "markdown",
   "id": "299f6453-cf78-4fd3-8b57-63be1609319b",
   "metadata": {},
   "source": [
    "#### Rings_log1p"
   ]
  },
  {
   "cell_type": "code",
   "execution_count": 40,
   "id": "55f22f70-9628-4d6f-8dda-3a260813aef5",
   "metadata": {},
   "outputs": [],
   "source": [
    "params = {\n",
    "    'num_threads': 8,\n",
    "    'objective': 'regression',\n",
    "    'learning_rate': 0.01,\n",
    "    'num_leaves': 153,\n",
    "    'min_data_in_leaf': 79,\n",
    "    'bagging_freq': 1,\n",
    "    'bagging_fraction': 0.8,\n",
    "    'feature_fraction': 0.8,\n",
    "    'reg_lambda': 2,\n",
    "    'metric': 'l2',\n",
    "    'early_stopping_rounds': 600,\n",
    "}"
   ]
  },
  {
   "cell_type": "code",
   "execution_count": 41,
   "id": "99ad7d3f-4706-4684-babe-1d59e803e689",
   "metadata": {
    "scrolled": true
   },
   "outputs": [
    {
     "name": "stdout",
     "output_type": "stream",
     "text": [
      "fold=0 - - - - - - - - - - - - - - - - - - - - \n",
      "[LightGBM] [Warning] Found whitespace in feature_names, replace with underlines\n",
      "[LightGBM] [Info] Auto-choosing col-wise multi-threading, the overhead of testing was 0.001478 seconds.\n",
      "You can set `force_col_wise=true` to remove the overhead.\n",
      "[LightGBM] [Info] Total Bins 1333\n",
      "[LightGBM] [Info] Number of data points in the train set: 75833, number of used features: 8\n",
      "[LightGBM] [Warning] Found whitespace in feature_names, replace with underlines\n",
      "[LightGBM] [Info] Start training from score 2.330406\n",
      "Training until validation scores don't improve for 600 rounds\n",
      "[200]\tvalid_0's l2: 0.0243383\n",
      "[400]\tvalid_0's l2: 0.0226028\n",
      "[600]\tvalid_0's l2: 0.0223965\n",
      "[800]\tvalid_0's l2: 0.0223149\n",
      "[1000]\tvalid_0's l2: 0.0222736\n",
      "[1200]\tvalid_0's l2: 0.0222614\n",
      "[1400]\tvalid_0's l2: 0.022265\n",
      "[1600]\tvalid_0's l2: 0.0222842\n",
      "[1800]\tvalid_0's l2: 0.0223089\n",
      "Early stopping, best iteration is:\n",
      "[1201]\tvalid_0's l2: 0.0222612\n",
      "fold=1 - - - - - - - - - - - - - - - - - - - - \n",
      "[LightGBM] [Warning] Found whitespace in feature_names, replace with underlines\n",
      "[LightGBM] [Info] Auto-choosing col-wise multi-threading, the overhead of testing was 0.001386 seconds.\n",
      "You can set `force_col_wise=true` to remove the overhead.\n",
      "[LightGBM] [Info] Total Bins 1331\n",
      "[LightGBM] [Info] Number of data points in the train set: 75833, number of used features: 8\n",
      "[LightGBM] [Warning] Found whitespace in feature_names, replace with underlines\n",
      "[LightGBM] [Info] Start training from score 2.330672\n",
      "Training until validation scores don't improve for 600 rounds\n",
      "[200]\tvalid_0's l2: 0.0242979\n",
      "[400]\tvalid_0's l2: 0.0225232\n",
      "[600]\tvalid_0's l2: 0.0223333\n",
      "[800]\tvalid_0's l2: 0.0222775\n",
      "[1000]\tvalid_0's l2: 0.0222537\n",
      "[1200]\tvalid_0's l2: 0.0222494\n",
      "[1400]\tvalid_0's l2: 0.0222617\n",
      "[1600]\tvalid_0's l2: 0.022279\n",
      "Early stopping, best iteration is:\n",
      "[1103]\tvalid_0's l2: 0.022244\n",
      "fold=2 - - - - - - - - - - - - - - - - - - - - \n",
      "[LightGBM] [Warning] Found whitespace in feature_names, replace with underlines\n",
      "[LightGBM] [Info] Auto-choosing row-wise multi-threading, the overhead of testing was 0.000814 seconds.\n",
      "You can set `force_row_wise=true` to remove the overhead.\n",
      "And if memory is not enough, you can set `force_col_wise=true`.\n",
      "[LightGBM] [Info] Total Bins 1333\n",
      "[LightGBM] [Info] Number of data points in the train set: 75834, number of used features: 8\n",
      "[LightGBM] [Warning] Found whitespace in feature_names, replace with underlines\n",
      "[LightGBM] [Info] Start training from score 2.329520\n",
      "Training until validation scores don't improve for 600 rounds\n",
      "[200]\tvalid_0's l2: 0.024152\n",
      "[400]\tvalid_0's l2: 0.022428\n",
      "[600]\tvalid_0's l2: 0.0222433\n",
      "[800]\tvalid_0's l2: 0.0221711\n",
      "[1000]\tvalid_0's l2: 0.0221351\n",
      "[1200]\tvalid_0's l2: 0.0221226\n",
      "[1400]\tvalid_0's l2: 0.0221346\n",
      "[1600]\tvalid_0's l2: 0.0221484\n",
      "Early stopping, best iteration is:\n",
      "[1199]\tvalid_0's l2: 0.0221226\n",
      "fold=3 - - - - - - - - - - - - - - - - - - - - \n",
      "[LightGBM] [Warning] Found whitespace in feature_names, replace with underlines\n",
      "[LightGBM] [Info] Auto-choosing col-wise multi-threading, the overhead of testing was 0.001435 seconds.\n",
      "You can set `force_col_wise=true` to remove the overhead.\n",
      "[LightGBM] [Info] Total Bins 1334\n",
      "[LightGBM] [Info] Number of data points in the train set: 75834, number of used features: 8\n",
      "[LightGBM] [Warning] Found whitespace in feature_names, replace with underlines\n",
      "[LightGBM] [Info] Start training from score 2.329248\n",
      "Training until validation scores don't improve for 600 rounds\n",
      "[200]\tvalid_0's l2: 0.0242186\n",
      "[400]\tvalid_0's l2: 0.0226379\n",
      "[600]\tvalid_0's l2: 0.0224842\n",
      "[800]\tvalid_0's l2: 0.0224496\n",
      "[1000]\tvalid_0's l2: 0.0224378\n",
      "[1200]\tvalid_0's l2: 0.0224446\n",
      "[1400]\tvalid_0's l2: 0.0224619\n",
      "[1600]\tvalid_0's l2: 0.0224925\n",
      "Early stopping, best iteration is:\n",
      "[1015]\tvalid_0's l2: 0.0224369\n",
      "fold=4 - - - - - - - - - - - - - - - - - - - - \n",
      "[LightGBM] [Warning] Found whitespace in feature_names, replace with underlines\n",
      "[LightGBM] [Info] Auto-choosing col-wise multi-threading, the overhead of testing was 0.001392 seconds.\n",
      "You can set `force_col_wise=true` to remove the overhead.\n",
      "[LightGBM] [Info] Total Bins 1331\n",
      "[LightGBM] [Info] Number of data points in the train set: 75834, number of used features: 8\n",
      "[LightGBM] [Warning] Found whitespace in feature_names, replace with underlines\n",
      "[LightGBM] [Info] Start training from score 2.329782\n",
      "Training until validation scores don't improve for 600 rounds\n",
      "[200]\tvalid_0's l2: 0.0232458\n",
      "[400]\tvalid_0's l2: 0.0217028\n",
      "[600]\tvalid_0's l2: 0.0215653\n",
      "[800]\tvalid_0's l2: 0.021538\n",
      "[1000]\tvalid_0's l2: 0.0215262\n",
      "[1200]\tvalid_0's l2: 0.0215382\n",
      "[1400]\tvalid_0's l2: 0.0215589\n",
      "Early stopping, best iteration is:\n",
      "[993]\tvalid_0's l2: 0.0215241\n"
     ]
    }
   ],
   "source": [
    "cv, oof, pred = lgb_cv(params, train_df, test_df, train_cols, target_col, log_transform=True, stratified=False)"
   ]
  },
  {
   "cell_type": "code",
   "execution_count": 42,
   "id": "a955037d-e002-467c-9fd9-287ebf7671e8",
   "metadata": {},
   "outputs": [
    {
     "data": {
      "text/plain": [
       "0.14872039902852816"
      ]
     },
     "execution_count": 42,
     "metadata": {},
     "output_type": "execute_result"
    }
   ],
   "source": [
    "cv"
   ]
  },
  {
   "cell_type": "code",
   "execution_count": 43,
   "id": "a7efea1a-54ea-4766-bfe8-4df46b303e7d",
   "metadata": {},
   "outputs": [],
   "source": [
    "tag = 'lgb_bo_log1p'\n",
    "oof_df[tag] = oof\n",
    "pred_df[tag] = pred"
   ]
  },
  {
   "cell_type": "markdown",
   "id": "fc63aee6-1408-45ba-88d1-7bed8d85688e",
   "metadata": {},
   "source": [
    "#### StratifiedKFold"
   ]
  },
  {
   "cell_type": "code",
   "execution_count": 44,
   "id": "7a820a41-62d4-4ce2-8ec8-878085c49129",
   "metadata": {
    "jupyter": {
     "source_hidden": true
    }
   },
   "outputs": [],
   "source": [
    "params = {\n",
    "    'num_threads': 8,\n",
    "    'objective': 'regression',\n",
    "    'learning_rate': 0.01,\n",
    "    'num_leaves': 153,\n",
    "    'min_data_in_leaf': 79,\n",
    "    'bagging_freq': 1,\n",
    "    'bagging_fraction': 0.8,\n",
    "    'feature_fraction': 0.8,\n",
    "    'reg_lambda': 2,\n",
    "    'metric': 'l2',\n",
    "    'early_stopping_rounds': 600,\n",
    "}"
   ]
  },
  {
   "cell_type": "code",
   "execution_count": 45,
   "id": "654c7b16-cea3-48e4-b51b-afa0da09732c",
   "metadata": {
    "scrolled": true
   },
   "outputs": [
    {
     "name": "stdout",
     "output_type": "stream",
     "text": [
      "fold=0 - - - - - - - - - - - - - - - - - - - - \n",
      "[LightGBM] [Warning] Found whitespace in feature_names, replace with underlines\n",
      "[LightGBM] [Info] Auto-choosing row-wise multi-threading, the overhead of testing was 0.000748 seconds.\n",
      "You can set `force_row_wise=true` to remove the overhead.\n",
      "And if memory is not enough, you can set `force_col_wise=true`.\n",
      "[LightGBM] [Info] Total Bins 1331\n",
      "[LightGBM] [Info] Number of data points in the train set: 75833, number of used features: 8\n",
      "[LightGBM] [Warning] Found whitespace in feature_names, replace with underlines\n",
      "[LightGBM] [Info] Start training from score 2.329900\n",
      "Training until validation scores don't improve for 600 rounds\n",
      "[200]\tvalid_0's l2: 0.0239959\n",
      "[400]\tvalid_0's l2: 0.0224168\n",
      "[600]\tvalid_0's l2: 0.0222771\n",
      "[800]\tvalid_0's l2: 0.0222325\n",
      "[1000]\tvalid_0's l2: 0.022217\n",
      "[1200]\tvalid_0's l2: 0.0222331\n",
      "[1400]\tvalid_0's l2: 0.0222477\n",
      "[1600]\tvalid_0's l2: 0.0222799\n",
      "Early stopping, best iteration is:\n",
      "[1024]\tvalid_0's l2: 0.0222151\n",
      "fold=1 - - - - - - - - - - - - - - - - - - - - \n",
      "[LightGBM] [Warning] Found whitespace in feature_names, replace with underlines\n",
      "[LightGBM] [Info] Auto-choosing row-wise multi-threading, the overhead of testing was 0.000478 seconds.\n",
      "You can set `force_row_wise=true` to remove the overhead.\n",
      "And if memory is not enough, you can set `force_col_wise=true`.\n",
      "[LightGBM] [Info] Total Bins 1330\n",
      "[LightGBM] [Info] Number of data points in the train set: 75833, number of used features: 8\n",
      "[LightGBM] [Warning] Found whitespace in feature_names, replace with underlines\n",
      "[LightGBM] [Info] Start training from score 2.329901\n",
      "Training until validation scores don't improve for 600 rounds\n",
      "[200]\tvalid_0's l2: 0.0235794\n",
      "[400]\tvalid_0's l2: 0.0219787\n",
      "[600]\tvalid_0's l2: 0.0218227\n",
      "[800]\tvalid_0's l2: 0.0217766\n",
      "[1000]\tvalid_0's l2: 0.0217562\n",
      "[1200]\tvalid_0's l2: 0.0217442\n",
      "[1400]\tvalid_0's l2: 0.0217458\n",
      "[1600]\tvalid_0's l2: 0.0217708\n",
      "Early stopping, best iteration is:\n",
      "[1188]\tvalid_0's l2: 0.0217438\n",
      "fold=2 - - - - - - - - - - - - - - - - - - - - \n",
      "[LightGBM] [Warning] Found whitespace in feature_names, replace with underlines\n",
      "[LightGBM] [Info] Auto-choosing row-wise multi-threading, the overhead of testing was 0.000460 seconds.\n",
      "You can set `force_row_wise=true` to remove the overhead.\n",
      "And if memory is not enough, you can set `force_col_wise=true`.\n",
      "[LightGBM] [Info] Total Bins 1331\n",
      "[LightGBM] [Info] Number of data points in the train set: 75834, number of used features: 8\n",
      "[LightGBM] [Warning] Found whitespace in feature_names, replace with underlines\n",
      "[LightGBM] [Info] Start training from score 2.329912\n",
      "Training until validation scores don't improve for 600 rounds\n",
      "[200]\tvalid_0's l2: 0.0241635\n",
      "[400]\tvalid_0's l2: 0.0223344\n",
      "[600]\tvalid_0's l2: 0.0221326\n",
      "[800]\tvalid_0's l2: 0.0220759\n",
      "[1000]\tvalid_0's l2: 0.0220571\n",
      "[1200]\tvalid_0's l2: 0.0220567\n",
      "[1400]\tvalid_0's l2: 0.0220788\n",
      "[1600]\tvalid_0's l2: 0.0221095\n",
      "Early stopping, best iteration is:\n",
      "[1070]\tvalid_0's l2: 0.0220539\n",
      "fold=3 - - - - - - - - - - - - - - - - - - - - \n",
      "[LightGBM] [Warning] Found whitespace in feature_names, replace with underlines\n",
      "[LightGBM] [Info] Auto-choosing row-wise multi-threading, the overhead of testing was 0.000508 seconds.\n",
      "You can set `force_row_wise=true` to remove the overhead.\n",
      "And if memory is not enough, you can set `force_col_wise=true`.\n",
      "[LightGBM] [Info] Total Bins 1331\n",
      "[LightGBM] [Info] Number of data points in the train set: 75834, number of used features: 8\n",
      "[LightGBM] [Warning] Found whitespace in feature_names, replace with underlines\n",
      "[LightGBM] [Info] Start training from score 2.329960\n",
      "Training until validation scores don't improve for 600 rounds\n",
      "[200]\tvalid_0's l2: 0.0244072\n",
      "[400]\tvalid_0's l2: 0.0226779\n",
      "[600]\tvalid_0's l2: 0.0224763\n",
      "[800]\tvalid_0's l2: 0.0224106\n",
      "[1000]\tvalid_0's l2: 0.0223794\n",
      "[1200]\tvalid_0's l2: 0.0223719\n",
      "[1400]\tvalid_0's l2: 0.0223789\n",
      "[1600]\tvalid_0's l2: 0.0223942\n",
      "Early stopping, best iteration is:\n",
      "[1124]\tvalid_0's l2: 0.0223683\n",
      "fold=4 - - - - - - - - - - - - - - - - - - - - \n",
      "[LightGBM] [Warning] Found whitespace in feature_names, replace with underlines\n",
      "[LightGBM] [Info] Auto-choosing row-wise multi-threading, the overhead of testing was 0.000527 seconds.\n",
      "You can set `force_row_wise=true` to remove the overhead.\n",
      "And if memory is not enough, you can set `force_col_wise=true`.\n",
      "[LightGBM] [Info] Total Bins 1333\n",
      "[LightGBM] [Info] Number of data points in the train set: 75834, number of used features: 8\n",
      "[LightGBM] [Warning] Found whitespace in feature_names, replace with underlines\n",
      "[LightGBM] [Info] Start training from score 2.329954\n",
      "Training until validation scores don't improve for 600 rounds\n",
      "[200]\tvalid_0's l2: 0.0240261\n",
      "[400]\tvalid_0's l2: 0.0223466\n",
      "[600]\tvalid_0's l2: 0.0221744\n",
      "[800]\tvalid_0's l2: 0.0221218\n",
      "[1000]\tvalid_0's l2: 0.0220923\n",
      "[1200]\tvalid_0's l2: 0.0220906\n",
      "[1400]\tvalid_0's l2: 0.0220964\n",
      "[1600]\tvalid_0's l2: 0.0221095\n",
      "Early stopping, best iteration is:\n",
      "[1093]\tvalid_0's l2: 0.0220833\n"
     ]
    }
   ],
   "source": [
    "cv, oof, pred = lgb_cv(params, train_df, test_df, train_cols, target_col, log_transform=True, stratified=True)"
   ]
  },
  {
   "cell_type": "code",
   "execution_count": 46,
   "id": "34612e24-1752-4fee-b0eb-ca3bba49fcb3",
   "metadata": {},
   "outputs": [
    {
     "name": "stdout",
     "output_type": "stream",
     "text": [
      "0.1486366782823439\n"
     ]
    }
   ],
   "source": [
    "print(cv)\n",
    "\n",
    "tag = 'lgb_bo_log1p_skf'\n",
    "oof_df[tag] = oof\n",
    "pred_df[tag] = pred"
   ]
  },
  {
   "cell_type": "markdown",
   "id": "eceaa3e1-7c7d-45d2-abc2-d0aaaa1ae385",
   "metadata": {},
   "source": [
    "### xgboost"
   ]
  },
  {
   "cell_type": "code",
   "execution_count": 47,
   "id": "2250203f-f0a8-420c-9d46-eba727195ca2",
   "metadata": {},
   "outputs": [],
   "source": [
    "def xgb_cv(params, train_df, test_df, train_cols, target_col, log_transform=False, stratified=False, nfold=5, num_boost_round=10000):\n",
    "    if stratified:\n",
    "        folds = StratifiedKFold(n_splits=nfold, shuffle=True, random_state=42)\n",
    "    else:\n",
    "        folds = KFold(n_splits=nfold, shuffle=True, random_state=42)\n",
    "\n",
    "    target = train_df[target_col]\n",
    "    if log_transform:\n",
    "        target = np.log1p(train_df[target_col])\n",
    "    \n",
    "    oof = np.zeros(train_df.shape[0])\n",
    "    pred = np.zeros(test_df.shape[0])\n",
    "    \n",
    "    for i, (trn_idx, val_idx) in enumerate(folds.split(train_df.index, train_df.Rings.astype(int))):\n",
    "        print(f'fold={i}', '- ' * 20)\n",
    "        trn_data = xgb.DMatrix(train_df.loc[trn_idx, train_cols], label=target.loc[trn_idx])\n",
    "        val_data = xgb.DMatrix(train_df.loc[val_idx, train_cols], label=target.loc[val_idx])\n",
    "        tst_data = xgb.DMatrix(test_df[train_cols])\n",
    "        \n",
    "        model = xgb.train(params, trn_data, num_boost_round, evals=[(val_data, 'dev')], early_stopping_rounds=400, verbose_eval=200)\n",
    "\n",
    "        oof[val_idx] = model.predict(val_data, iteration_range=(0, model.best_iteration + 1))\n",
    "        pred += model.predict(tst_data, iteration_range=(0, model.best_iteration + 1)) / nfold\n",
    "\n",
    "    if log_transform:\n",
    "        oof = np.expm1(oof)\n",
    "        pred = np.expm1(pred)\n",
    "\n",
    "    cv = mean_squared_log_error(train_df['Rings'], oof, squared=False)\n",
    "    return cv, oof, pred"
   ]
  },
  {
   "cell_type": "markdown",
   "id": "bf7d77bd-0ec8-4b66-9bac-31fd35b2d44a",
   "metadata": {},
   "source": [
    "#### 默参"
   ]
  },
  {
   "cell_type": "code",
   "execution_count": 48,
   "id": "e62ab505-4f6b-4c0c-bccb-83979351ecf6",
   "metadata": {},
   "outputs": [],
   "source": [
    "params = {\n",
    "    'nthread': 8,\n",
    "    'objective': 'reg:squarederror',    # reg:squaredlogerror\n",
    "    'max_depth': 6,\n",
    "    'learning_rate': 0.3,\n",
    "    'min_child_weight': 1,\n",
    "    'subsample': 1.0,\n",
    "    'colsample_bytree': 1.0,\n",
    "    'alpha': 1,\n",
    "    'eval_metric': 'rmse',    # rmsle\n",
    "}"
   ]
  },
  {
   "cell_type": "code",
   "execution_count": 49,
   "id": "e0debe2e-9af3-4581-b2f5-2bcc16c2cb8d",
   "metadata": {
    "scrolled": true
   },
   "outputs": [
    {
     "name": "stdout",
     "output_type": "stream",
     "text": [
      "fold=0 - - - - - - - - - - - - - - - - - - - - \n",
      "[0]\tdev-rmse:2.65168\n",
      "[200]\tdev-rmse:1.87031\n",
      "[400]\tdev-rmse:1.88657\n",
      "[492]\tdev-rmse:1.89677\n",
      "fold=1 - - - - - - - - - - - - - - - - - - - - \n",
      "[0]\tdev-rmse:2.63033\n",
      "[200]\tdev-rmse:1.87420\n",
      "[400]\tdev-rmse:1.90440\n",
      "[471]\tdev-rmse:1.91330\n",
      "fold=2 - - - - - - - - - - - - - - - - - - - - \n",
      "[0]\tdev-rmse:2.66109\n",
      "[200]\tdev-rmse:1.88798\n",
      "[400]\tdev-rmse:1.90691\n",
      "[456]\tdev-rmse:1.91279\n",
      "fold=3 - - - - - - - - - - - - - - - - - - - - \n",
      "[0]\tdev-rmse:2.63675\n",
      "[200]\tdev-rmse:1.88913\n",
      "[400]\tdev-rmse:1.91897\n",
      "[475]\tdev-rmse:1.92663\n",
      "fold=4 - - - - - - - - - - - - - - - - - - - - \n",
      "[0]\tdev-rmse:2.60731\n",
      "[200]\tdev-rmse:1.85507\n",
      "[400]\tdev-rmse:1.89547\n",
      "[454]\tdev-rmse:1.90564\n"
     ]
    }
   ],
   "source": [
    "cv, oof, pred = xgb_cv(params, train_df, test_df, train_cols, target_col, log_transform=False, stratified=False)"
   ]
  },
  {
   "cell_type": "code",
   "execution_count": 50,
   "id": "f7a107f5-4a73-48ec-9b45-a8ba79ec1f64",
   "metadata": {},
   "outputs": [
    {
     "name": "stdout",
     "output_type": "stream",
     "text": [
      "0.15131418837566096\n"
     ]
    }
   ],
   "source": [
    "print(cv)\n",
    "\n",
    "tag = 'xgb_default'\n",
    "oof_df[tag] = oof\n",
    "pred_df[tag] = pred"
   ]
  },
  {
   "cell_type": "markdown",
   "id": "8196187d-a6a4-4429-91e6-61a4642d8d13",
   "metadata": {},
   "source": [
    "#### 调参"
   ]
  },
  {
   "cell_type": "code",
   "execution_count": 51,
   "id": "577ab9fb-8c0f-44c1-859c-240cfa0e4d14",
   "metadata": {},
   "outputs": [
    {
     "data": {
      "text/plain": [
       "{'target': -0.14958736584324933,\n",
       " 'params': {'colsample_bytree': 0.7866142255075863,\n",
       "  'learning_rate': 0.014675616499216792,\n",
       "  'max_depth': 4.306206369690987,\n",
       "  'min_child_weight': 22.35153866873263,\n",
       "  'reg_lambda': 8.041098074819361,\n",
       "  'subsample': 0.8960766330914962}}"
      ]
     },
     "execution_count": 51,
     "metadata": {},
     "output_type": "execute_result"
    }
   ],
   "source": [
    "{'target': -0.14958736584324933, 'params': {'colsample_bytree': 0.7866142255075863, 'learning_rate': 0.014675616499216792, 'max_depth': 4.306206369690987, 'min_child_weight': 22.35153866873263, 'reg_lambda': 8.041098074819361, 'subsample': 0.8960766330914962}}"
   ]
  },
  {
   "cell_type": "code",
   "execution_count": 52,
   "id": "9873e0da-1600-4d9b-9478-dda8f70d2086",
   "metadata": {},
   "outputs": [],
   "source": [
    "params = {\n",
    "    'nthread': 8,\n",
    "    'objective': 'reg:squarederror',    # reg:squaredlogerror\n",
    "    'max_depth': 4,\n",
    "    'learning_rate': 0.015,\n",
    "    'min_child_weight': 22.4,\n",
    "    'subsample': 0.9,\n",
    "    'colsample_bytree': 0.8,\n",
    "    'reg_lambda': 8.0,\n",
    "    'eval_metric': 'rmse',    # rmsle\n",
    "}"
   ]
  },
  {
   "cell_type": "code",
   "execution_count": 53,
   "id": "9a3e21b0-ac3c-4450-91a3-f06b3039f9ca",
   "metadata": {
    "scrolled": true
   },
   "outputs": [
    {
     "name": "stdout",
     "output_type": "stream",
     "text": [
      "fold=0 - - - - - - - - - - - - - - - - - - - - \n",
      "[0]\tdev-rmse:3.16669\n",
      "[200]\tdev-rmse:1.95863\n",
      "[400]\tdev-rmse:1.90680\n",
      "[600]\tdev-rmse:1.88992\n",
      "[800]\tdev-rmse:1.88089\n",
      "[1000]\tdev-rmse:1.87340\n",
      "[1200]\tdev-rmse:1.86792\n",
      "[1400]\tdev-rmse:1.86354\n",
      "[1600]\tdev-rmse:1.86037\n",
      "[1800]\tdev-rmse:1.85731\n",
      "[2000]\tdev-rmse:1.85492\n",
      "[2200]\tdev-rmse:1.85306\n",
      "[2400]\tdev-rmse:1.85113\n",
      "[2600]\tdev-rmse:1.84960\n",
      "[2800]\tdev-rmse:1.84824\n",
      "[3000]\tdev-rmse:1.84694\n",
      "[3200]\tdev-rmse:1.84568\n",
      "[3400]\tdev-rmse:1.84489\n",
      "[3600]\tdev-rmse:1.84408\n",
      "[3800]\tdev-rmse:1.84317\n",
      "[4000]\tdev-rmse:1.84247\n",
      "[4200]\tdev-rmse:1.84189\n",
      "[4400]\tdev-rmse:1.84122\n",
      "[4600]\tdev-rmse:1.84079\n",
      "[4800]\tdev-rmse:1.84028\n",
      "[5000]\tdev-rmse:1.83966\n",
      "[5200]\tdev-rmse:1.83932\n",
      "[5400]\tdev-rmse:1.83891\n",
      "[5600]\tdev-rmse:1.83838\n",
      "[5800]\tdev-rmse:1.83809\n",
      "[6000]\tdev-rmse:1.83772\n",
      "[6200]\tdev-rmse:1.83753\n",
      "[6400]\tdev-rmse:1.83723\n",
      "[6600]\tdev-rmse:1.83709\n",
      "[6800]\tdev-rmse:1.83690\n",
      "[7000]\tdev-rmse:1.83672\n",
      "[7200]\tdev-rmse:1.83657\n",
      "[7400]\tdev-rmse:1.83650\n",
      "[7600]\tdev-rmse:1.83642\n",
      "[7800]\tdev-rmse:1.83628\n",
      "[8000]\tdev-rmse:1.83620\n",
      "[8200]\tdev-rmse:1.83608\n",
      "[8400]\tdev-rmse:1.83583\n",
      "[8600]\tdev-rmse:1.83579\n",
      "[8800]\tdev-rmse:1.83578\n",
      "[9000]\tdev-rmse:1.83584\n",
      "[9104]\tdev-rmse:1.83578\n",
      "fold=1 - - - - - - - - - - - - - - - - - - - - \n",
      "[0]\tdev-rmse:3.14898\n",
      "[200]\tdev-rmse:1.93044\n",
      "[400]\tdev-rmse:1.88231\n",
      "[600]\tdev-rmse:1.86807\n",
      "[800]\tdev-rmse:1.86056\n",
      "[1000]\tdev-rmse:1.85536\n",
      "[1200]\tdev-rmse:1.85106\n",
      "[1400]\tdev-rmse:1.84772\n",
      "[1600]\tdev-rmse:1.84534\n",
      "[1800]\tdev-rmse:1.84308\n",
      "[2000]\tdev-rmse:1.84129\n",
      "[2200]\tdev-rmse:1.84015\n",
      "[2400]\tdev-rmse:1.83903\n",
      "[2600]\tdev-rmse:1.83776\n",
      "[2800]\tdev-rmse:1.83736\n",
      "[3000]\tdev-rmse:1.83665\n",
      "[3200]\tdev-rmse:1.83600\n",
      "[3400]\tdev-rmse:1.83564\n",
      "[3600]\tdev-rmse:1.83518\n",
      "[3800]\tdev-rmse:1.83476\n",
      "[4000]\tdev-rmse:1.83453\n",
      "[4200]\tdev-rmse:1.83418\n",
      "[4400]\tdev-rmse:1.83413\n",
      "[4600]\tdev-rmse:1.83404\n",
      "[4800]\tdev-rmse:1.83389\n",
      "[5000]\tdev-rmse:1.83375\n",
      "[5200]\tdev-rmse:1.83363\n",
      "[5400]\tdev-rmse:1.83366\n",
      "[5600]\tdev-rmse:1.83362\n",
      "[5800]\tdev-rmse:1.83336\n",
      "[6000]\tdev-rmse:1.83323\n",
      "[6200]\tdev-rmse:1.83312\n",
      "[6400]\tdev-rmse:1.83322\n",
      "[6515]\tdev-rmse:1.83323\n",
      "fold=2 - - - - - - - - - - - - - - - - - - - - \n",
      "[0]\tdev-rmse:3.18180\n",
      "[200]\tdev-rmse:1.95697\n",
      "[400]\tdev-rmse:1.90619\n",
      "[600]\tdev-rmse:1.88990\n",
      "[800]\tdev-rmse:1.88163\n",
      "[1000]\tdev-rmse:1.87514\n",
      "[1200]\tdev-rmse:1.87081\n",
      "[1400]\tdev-rmse:1.86698\n",
      "[1600]\tdev-rmse:1.86412\n",
      "[1800]\tdev-rmse:1.86158\n",
      "[2000]\tdev-rmse:1.85953\n",
      "[2200]\tdev-rmse:1.85835\n",
      "[2400]\tdev-rmse:1.85692\n",
      "[2600]\tdev-rmse:1.85602\n",
      "[2800]\tdev-rmse:1.85522\n",
      "[3000]\tdev-rmse:1.85441\n",
      "[3200]\tdev-rmse:1.85382\n",
      "[3400]\tdev-rmse:1.85290\n",
      "[3600]\tdev-rmse:1.85231\n",
      "[3800]\tdev-rmse:1.85188\n",
      "[4000]\tdev-rmse:1.85150\n",
      "[4200]\tdev-rmse:1.85120\n",
      "[4400]\tdev-rmse:1.85095\n",
      "[4600]\tdev-rmse:1.85086\n",
      "[4800]\tdev-rmse:1.85045\n",
      "[5000]\tdev-rmse:1.85027\n",
      "[5200]\tdev-rmse:1.84993\n",
      "[5400]\tdev-rmse:1.84991\n",
      "[5600]\tdev-rmse:1.84967\n",
      "[5800]\tdev-rmse:1.84948\n",
      "[6000]\tdev-rmse:1.84935\n",
      "[6200]\tdev-rmse:1.84915\n",
      "[6400]\tdev-rmse:1.84912\n",
      "[6600]\tdev-rmse:1.84903\n",
      "[6800]\tdev-rmse:1.84901\n",
      "[7000]\tdev-rmse:1.84914\n",
      "[7099]\tdev-rmse:1.84914\n",
      "fold=3 - - - - - - - - - - - - - - - - - - - - \n",
      "[0]\tdev-rmse:3.15374\n",
      "[200]\tdev-rmse:1.94649\n",
      "[400]\tdev-rmse:1.89741\n",
      "[600]\tdev-rmse:1.88345\n",
      "[800]\tdev-rmse:1.87550\n",
      "[1000]\tdev-rmse:1.86969\n",
      "[1200]\tdev-rmse:1.86574\n",
      "[1400]\tdev-rmse:1.86254\n",
      "[1600]\tdev-rmse:1.85983\n",
      "[1800]\tdev-rmse:1.85769\n",
      "[2000]\tdev-rmse:1.85568\n",
      "[2200]\tdev-rmse:1.85462\n",
      "[2400]\tdev-rmse:1.85348\n",
      "[2600]\tdev-rmse:1.85233\n",
      "[2800]\tdev-rmse:1.85133\n",
      "[3000]\tdev-rmse:1.85054\n",
      "[3200]\tdev-rmse:1.84970\n",
      "[3400]\tdev-rmse:1.84911\n",
      "[3600]\tdev-rmse:1.84876\n",
      "[3800]\tdev-rmse:1.84815\n",
      "[4000]\tdev-rmse:1.84799\n",
      "[4200]\tdev-rmse:1.84758\n",
      "[4400]\tdev-rmse:1.84730\n",
      "[4600]\tdev-rmse:1.84693\n",
      "[4800]\tdev-rmse:1.84690\n",
      "[5000]\tdev-rmse:1.84663\n",
      "[5200]\tdev-rmse:1.84639\n",
      "[5400]\tdev-rmse:1.84610\n",
      "[5600]\tdev-rmse:1.84601\n",
      "[5800]\tdev-rmse:1.84614\n",
      "[6000]\tdev-rmse:1.84598\n",
      "[6200]\tdev-rmse:1.84579\n",
      "[6400]\tdev-rmse:1.84568\n",
      "[6600]\tdev-rmse:1.84573\n",
      "[6725]\tdev-rmse:1.84588\n",
      "fold=4 - - - - - - - - - - - - - - - - - - - - \n",
      "[0]\tdev-rmse:3.12850\n",
      "[200]\tdev-rmse:1.90630\n",
      "[400]\tdev-rmse:1.85815\n",
      "[600]\tdev-rmse:1.84447\n",
      "[800]\tdev-rmse:1.83646\n",
      "[1000]\tdev-rmse:1.83145\n",
      "[1200]\tdev-rmse:1.82801\n",
      "[1400]\tdev-rmse:1.82499\n",
      "[1600]\tdev-rmse:1.82299\n",
      "[1800]\tdev-rmse:1.82121\n",
      "[2000]\tdev-rmse:1.81979\n",
      "[2200]\tdev-rmse:1.81844\n",
      "[2400]\tdev-rmse:1.81749\n",
      "[2600]\tdev-rmse:1.81685\n",
      "[2800]\tdev-rmse:1.81641\n",
      "[3000]\tdev-rmse:1.81582\n",
      "[3200]\tdev-rmse:1.81519\n",
      "[3400]\tdev-rmse:1.81476\n",
      "[3600]\tdev-rmse:1.81431\n",
      "[3800]\tdev-rmse:1.81407\n",
      "[4000]\tdev-rmse:1.81381\n",
      "[4200]\tdev-rmse:1.81358\n",
      "[4400]\tdev-rmse:1.81345\n",
      "[4600]\tdev-rmse:1.81320\n",
      "[4800]\tdev-rmse:1.81324\n",
      "[5000]\tdev-rmse:1.81324\n",
      "[5155]\tdev-rmse:1.81341\n"
     ]
    }
   ],
   "source": [
    "cv, oof, pred = xgb_cv(params, train_df, test_df, train_cols, target_col, log_transform=False, stratified=False)"
   ]
  },
  {
   "cell_type": "code",
   "execution_count": 54,
   "id": "e18071de-cefc-4f18-83d6-72e3c420d0b0",
   "metadata": {},
   "outputs": [
    {
     "name": "stdout",
     "output_type": "stream",
     "text": [
      "0.14985199712298292\n"
     ]
    }
   ],
   "source": [
    "print(cv)\n",
    "\n",
    "tag = 'xgb_bo'\n",
    "oof_df[tag] = oof\n",
    "pred_df[tag] = pred"
   ]
  },
  {
   "cell_type": "markdown",
   "id": "9d2c896b-4394-415e-8703-cc5fd3384502",
   "metadata": {},
   "source": [
    "#### Rings_log1p"
   ]
  },
  {
   "cell_type": "code",
   "execution_count": 55,
   "id": "d272062c-648a-4d77-b691-544fcad21ef0",
   "metadata": {},
   "outputs": [],
   "source": [
    "params = {\n",
    "    'nthread': 8,\n",
    "    'objective': 'reg:squarederror',    # reg:squaredlogerror\n",
    "    'max_depth': 4,\n",
    "    'learning_rate': 0.015,\n",
    "    'min_child_weight': 22.4,\n",
    "    'subsample': 0.9,\n",
    "    'colsample_bytree': 0.8,\n",
    "    'reg_lambda': 8.0,\n",
    "    'eval_metric': 'rmse',    # rmsle\n",
    "}"
   ]
  },
  {
   "cell_type": "code",
   "execution_count": 56,
   "id": "c7f447a9-4e84-4ac3-9ae2-e9ffef2412f1",
   "metadata": {
    "scrolled": true
   },
   "outputs": [
    {
     "name": "stdout",
     "output_type": "stream",
     "text": [
      "fold=0 - - - - - - - - - - - - - - - - - - - - \n",
      "[0]\tdev-rmse:0.28331\n",
      "[200]\tdev-rmse:0.15859\n",
      "[400]\tdev-rmse:0.15433\n",
      "[600]\tdev-rmse:0.15310\n",
      "[800]\tdev-rmse:0.15247\n",
      "[1000]\tdev-rmse:0.15201\n",
      "[1200]\tdev-rmse:0.15166\n",
      "[1400]\tdev-rmse:0.15140\n",
      "[1600]\tdev-rmse:0.15121\n",
      "[1800]\tdev-rmse:0.15103\n",
      "[2000]\tdev-rmse:0.15089\n",
      "[2200]\tdev-rmse:0.15075\n",
      "[2400]\tdev-rmse:0.15061\n",
      "[2600]\tdev-rmse:0.15051\n",
      "[2800]\tdev-rmse:0.15041\n",
      "[3000]\tdev-rmse:0.15031\n",
      "[3200]\tdev-rmse:0.15024\n",
      "[3400]\tdev-rmse:0.15017\n",
      "[3600]\tdev-rmse:0.15012\n",
      "[3800]\tdev-rmse:0.15007\n",
      "[4000]\tdev-rmse:0.15003\n",
      "[4200]\tdev-rmse:0.14998\n",
      "[4400]\tdev-rmse:0.14994\n",
      "[4600]\tdev-rmse:0.14990\n",
      "[4800]\tdev-rmse:0.14987\n",
      "[5000]\tdev-rmse:0.14984\n",
      "[5200]\tdev-rmse:0.14981\n",
      "[5400]\tdev-rmse:0.14979\n",
      "[5600]\tdev-rmse:0.14975\n",
      "[5800]\tdev-rmse:0.14973\n",
      "[6000]\tdev-rmse:0.14971\n",
      "[6200]\tdev-rmse:0.14969\n",
      "[6400]\tdev-rmse:0.14967\n",
      "[6600]\tdev-rmse:0.14965\n",
      "[6800]\tdev-rmse:0.14962\n",
      "[7000]\tdev-rmse:0.14962\n",
      "[7200]\tdev-rmse:0.14961\n",
      "[7400]\tdev-rmse:0.14960\n",
      "[7600]\tdev-rmse:0.14959\n",
      "[7800]\tdev-rmse:0.14958\n",
      "[8000]\tdev-rmse:0.14957\n",
      "[8200]\tdev-rmse:0.14957\n",
      "[8400]\tdev-rmse:0.14956\n",
      "[8600]\tdev-rmse:0.14955\n",
      "[8800]\tdev-rmse:0.14955\n",
      "[9000]\tdev-rmse:0.14955\n",
      "[9200]\tdev-rmse:0.14955\n",
      "[9400]\tdev-rmse:0.14955\n",
      "[9489]\tdev-rmse:0.14955\n",
      "fold=1 - - - - - - - - - - - - - - - - - - - - \n",
      "[0]\tdev-rmse:0.28467\n",
      "[200]\tdev-rmse:0.15773\n",
      "[400]\tdev-rmse:0.15353\n",
      "[600]\tdev-rmse:0.15239\n",
      "[800]\tdev-rmse:0.15183\n",
      "[1000]\tdev-rmse:0.15146\n",
      "[1200]\tdev-rmse:0.15117\n",
      "[1400]\tdev-rmse:0.15095\n",
      "[1600]\tdev-rmse:0.15079\n",
      "[1800]\tdev-rmse:0.15063\n",
      "[2000]\tdev-rmse:0.15049\n",
      "[2200]\tdev-rmse:0.15040\n",
      "[2400]\tdev-rmse:0.15031\n",
      "[2600]\tdev-rmse:0.15024\n",
      "[2800]\tdev-rmse:0.15019\n",
      "[3000]\tdev-rmse:0.15014\n",
      "[3200]\tdev-rmse:0.15008\n",
      "[3400]\tdev-rmse:0.15004\n",
      "[3600]\tdev-rmse:0.15001\n",
      "[3800]\tdev-rmse:0.14997\n",
      "[4000]\tdev-rmse:0.14995\n",
      "[4200]\tdev-rmse:0.14991\n",
      "[4400]\tdev-rmse:0.14990\n",
      "[4600]\tdev-rmse:0.14988\n",
      "[4800]\tdev-rmse:0.14987\n",
      "[5000]\tdev-rmse:0.14985\n",
      "[5200]\tdev-rmse:0.14985\n",
      "[5400]\tdev-rmse:0.14984\n",
      "[5600]\tdev-rmse:0.14983\n",
      "[5800]\tdev-rmse:0.14981\n",
      "[6000]\tdev-rmse:0.14981\n",
      "[6200]\tdev-rmse:0.14981\n",
      "[6400]\tdev-rmse:0.14980\n",
      "[6600]\tdev-rmse:0.14980\n",
      "[6800]\tdev-rmse:0.14980\n",
      "[6906]\tdev-rmse:0.14979\n",
      "fold=2 - - - - - - - - - - - - - - - - - - - - \n",
      "[0]\tdev-rmse:0.28432\n",
      "[200]\tdev-rmse:0.15798\n",
      "[400]\tdev-rmse:0.15376\n",
      "[600]\tdev-rmse:0.15247\n",
      "[800]\tdev-rmse:0.15186\n",
      "[1000]\tdev-rmse:0.15140\n",
      "[1200]\tdev-rmse:0.15105\n",
      "[1400]\tdev-rmse:0.15078\n",
      "[1600]\tdev-rmse:0.15057\n",
      "[1800]\tdev-rmse:0.15041\n",
      "[2000]\tdev-rmse:0.15025\n",
      "[2200]\tdev-rmse:0.15015\n",
      "[2400]\tdev-rmse:0.15004\n",
      "[2600]\tdev-rmse:0.14997\n",
      "[2800]\tdev-rmse:0.14990\n",
      "[3000]\tdev-rmse:0.14984\n",
      "[3200]\tdev-rmse:0.14979\n",
      "[3400]\tdev-rmse:0.14973\n",
      "[3600]\tdev-rmse:0.14968\n",
      "[3800]\tdev-rmse:0.14964\n",
      "[4000]\tdev-rmse:0.14960\n",
      "[4200]\tdev-rmse:0.14957\n",
      "[4400]\tdev-rmse:0.14954\n",
      "[4600]\tdev-rmse:0.14951\n",
      "[4800]\tdev-rmse:0.14947\n",
      "[5000]\tdev-rmse:0.14946\n",
      "[5200]\tdev-rmse:0.14943\n",
      "[5400]\tdev-rmse:0.14941\n",
      "[5600]\tdev-rmse:0.14939\n",
      "[5800]\tdev-rmse:0.14936\n",
      "[6000]\tdev-rmse:0.14936\n",
      "[6200]\tdev-rmse:0.14935\n",
      "[6400]\tdev-rmse:0.14932\n",
      "[6600]\tdev-rmse:0.14932\n",
      "[6800]\tdev-rmse:0.14931\n",
      "[7000]\tdev-rmse:0.14930\n",
      "[7200]\tdev-rmse:0.14930\n",
      "[7400]\tdev-rmse:0.14928\n",
      "[7600]\tdev-rmse:0.14928\n",
      "[7800]\tdev-rmse:0.14926\n",
      "[8000]\tdev-rmse:0.14925\n",
      "[8200]\tdev-rmse:0.14926\n",
      "[8351]\tdev-rmse:0.14925\n",
      "fold=3 - - - - - - - - - - - - - - - - - - - - \n",
      "[0]\tdev-rmse:0.28228\n",
      "[200]\tdev-rmse:0.15788\n",
      "[400]\tdev-rmse:0.15379\n",
      "[600]\tdev-rmse:0.15268\n",
      "[800]\tdev-rmse:0.15212\n",
      "[1000]\tdev-rmse:0.15175\n",
      "[1200]\tdev-rmse:0.15147\n",
      "[1400]\tdev-rmse:0.15123\n",
      "[1600]\tdev-rmse:0.15108\n",
      "[1800]\tdev-rmse:0.15095\n",
      "[2000]\tdev-rmse:0.15083\n",
      "[2200]\tdev-rmse:0.15073\n",
      "[2400]\tdev-rmse:0.15065\n",
      "[2600]\tdev-rmse:0.15057\n",
      "[2800]\tdev-rmse:0.15051\n",
      "[3000]\tdev-rmse:0.15046\n",
      "[3200]\tdev-rmse:0.15041\n",
      "[3400]\tdev-rmse:0.15036\n",
      "[3600]\tdev-rmse:0.15033\n",
      "[3800]\tdev-rmse:0.15031\n",
      "[4000]\tdev-rmse:0.15030\n",
      "[4200]\tdev-rmse:0.15028\n",
      "[4400]\tdev-rmse:0.15025\n",
      "[4600]\tdev-rmse:0.15023\n",
      "[4800]\tdev-rmse:0.15023\n",
      "[5000]\tdev-rmse:0.15021\n",
      "[5200]\tdev-rmse:0.15020\n",
      "[5400]\tdev-rmse:0.15019\n",
      "[5600]\tdev-rmse:0.15018\n",
      "[5800]\tdev-rmse:0.15017\n",
      "[6000]\tdev-rmse:0.15016\n",
      "[6200]\tdev-rmse:0.15017\n",
      "[6400]\tdev-rmse:0.15017\n",
      "[6422]\tdev-rmse:0.15017\n",
      "fold=4 - - - - - - - - - - - - - - - - - - - - \n",
      "[0]\tdev-rmse:0.28100\n",
      "[200]\tdev-rmse:0.15487\n",
      "[400]\tdev-rmse:0.15073\n",
      "[600]\tdev-rmse:0.14958\n",
      "[800]\tdev-rmse:0.14897\n",
      "[1000]\tdev-rmse:0.14857\n",
      "[1200]\tdev-rmse:0.14828\n",
      "[1400]\tdev-rmse:0.14806\n",
      "[1600]\tdev-rmse:0.14790\n",
      "[1800]\tdev-rmse:0.14778\n",
      "[2000]\tdev-rmse:0.14767\n",
      "[2200]\tdev-rmse:0.14758\n",
      "[2400]\tdev-rmse:0.14750\n",
      "[2600]\tdev-rmse:0.14745\n",
      "[2800]\tdev-rmse:0.14741\n",
      "[3000]\tdev-rmse:0.14737\n",
      "[3200]\tdev-rmse:0.14734\n",
      "[3400]\tdev-rmse:0.14730\n",
      "[3600]\tdev-rmse:0.14728\n",
      "[3800]\tdev-rmse:0.14726\n",
      "[4000]\tdev-rmse:0.14724\n",
      "[4200]\tdev-rmse:0.14723\n",
      "[4400]\tdev-rmse:0.14723\n",
      "[4579]\tdev-rmse:0.14723\n"
     ]
    }
   ],
   "source": [
    "cv, oof, pred = xgb_cv(params, train_df, test_df, train_cols, target_col, log_transform=True, stratified=False)"
   ]
  },
  {
   "cell_type": "code",
   "execution_count": 57,
   "id": "683b2b50-c838-4149-acf6-7947d3c107b8",
   "metadata": {},
   "outputs": [
    {
     "name": "stdout",
     "output_type": "stream",
     "text": [
      "0.1491971661825225\n"
     ]
    }
   ],
   "source": [
    "print(cv)\n",
    "\n",
    "tag = 'xgb_bo_log1p'\n",
    "oof_df[tag] = oof\n",
    "pred_df[tag] = pred"
   ]
  },
  {
   "cell_type": "code",
   "execution_count": 58,
   "id": "7f2f1644-c1f6-40da-8b56-674d6e9ad381",
   "metadata": {},
   "outputs": [],
   "source": [
    "nfold = 5"
   ]
  },
  {
   "cell_type": "code",
   "execution_count": 59,
   "id": "e7a01054-ec23-418e-b46d-1a31a57064d3",
   "metadata": {},
   "outputs": [],
   "source": [
    "folds = KFold(n_splits=nfold, shuffle=True, random_state=42)"
   ]
  },
  {
   "cell_type": "code",
   "execution_count": 60,
   "id": "78f431b0-b01f-4946-ae2e-c03f1c90bbba",
   "metadata": {
    "scrolled": true
   },
   "outputs": [
    {
     "name": "stdout",
     "output_type": "stream",
     "text": [
      "fold=0 - - - - - - - - - - - - - - - - - - - - \n",
      "[0]\tdev-rmse:3.16669\n",
      "[100]\tdev-rmse:2.11483\n",
      "[200]\tdev-rmse:1.95863\n",
      "[300]\tdev-rmse:1.92244\n",
      "[400]\tdev-rmse:1.90680\n",
      "[500]\tdev-rmse:1.89703\n",
      "[600]\tdev-rmse:1.88992\n",
      "[700]\tdev-rmse:1.88462\n",
      "[800]\tdev-rmse:1.88089\n",
      "[900]\tdev-rmse:1.87663\n",
      "[1000]\tdev-rmse:1.87340\n",
      "[1100]\tdev-rmse:1.87062\n",
      "[1200]\tdev-rmse:1.86792\n",
      "[1300]\tdev-rmse:1.86575\n",
      "[1400]\tdev-rmse:1.86354\n",
      "[1500]\tdev-rmse:1.86187\n",
      "[1600]\tdev-rmse:1.86037\n",
      "[1700]\tdev-rmse:1.85883\n",
      "[1800]\tdev-rmse:1.85731\n",
      "[1900]\tdev-rmse:1.85590\n",
      "[2000]\tdev-rmse:1.85492\n",
      "[2100]\tdev-rmse:1.85375\n",
      "[2200]\tdev-rmse:1.85306\n",
      "[2300]\tdev-rmse:1.85202\n",
      "[2400]\tdev-rmse:1.85113\n",
      "[2500]\tdev-rmse:1.85053\n",
      "[2600]\tdev-rmse:1.84960\n",
      "[2700]\tdev-rmse:1.84891\n",
      "[2800]\tdev-rmse:1.84824\n",
      "[2900]\tdev-rmse:1.84778\n",
      "[3000]\tdev-rmse:1.84694\n",
      "[3100]\tdev-rmse:1.84623\n",
      "[3200]\tdev-rmse:1.84568\n",
      "[3300]\tdev-rmse:1.84519\n",
      "[3400]\tdev-rmse:1.84489\n",
      "[3500]\tdev-rmse:1.84445\n",
      "[3600]\tdev-rmse:1.84408\n",
      "[3700]\tdev-rmse:1.84369\n",
      "[3800]\tdev-rmse:1.84317\n",
      "[3900]\tdev-rmse:1.84278\n",
      "[4000]\tdev-rmse:1.84247\n",
      "[4100]\tdev-rmse:1.84219\n",
      "[4200]\tdev-rmse:1.84189\n",
      "[4300]\tdev-rmse:1.84152\n",
      "[4400]\tdev-rmse:1.84122\n",
      "[4500]\tdev-rmse:1.84106\n",
      "[4600]\tdev-rmse:1.84079\n",
      "[4700]\tdev-rmse:1.84056\n",
      "[4800]\tdev-rmse:1.84028\n",
      "[4900]\tdev-rmse:1.83991\n",
      "[5000]\tdev-rmse:1.83966\n",
      "[5100]\tdev-rmse:1.83948\n",
      "[5200]\tdev-rmse:1.83932\n",
      "[5300]\tdev-rmse:1.83910\n",
      "[5400]\tdev-rmse:1.83891\n",
      "[5500]\tdev-rmse:1.83863\n",
      "[5600]\tdev-rmse:1.83838\n",
      "[5700]\tdev-rmse:1.83828\n",
      "[5800]\tdev-rmse:1.83809\n",
      "[5900]\tdev-rmse:1.83784\n",
      "[6000]\tdev-rmse:1.83772\n",
      "[6100]\tdev-rmse:1.83755\n",
      "[6200]\tdev-rmse:1.83753\n",
      "[6300]\tdev-rmse:1.83739\n",
      "[6400]\tdev-rmse:1.83723\n",
      "[6500]\tdev-rmse:1.83716\n",
      "[6600]\tdev-rmse:1.83709\n",
      "[6700]\tdev-rmse:1.83700\n",
      "[6800]\tdev-rmse:1.83690\n",
      "[6900]\tdev-rmse:1.83682\n",
      "[7000]\tdev-rmse:1.83672\n",
      "[7100]\tdev-rmse:1.83668\n",
      "[7200]\tdev-rmse:1.83657\n",
      "[7300]\tdev-rmse:1.83652\n",
      "[7400]\tdev-rmse:1.83650\n",
      "[7500]\tdev-rmse:1.83641\n",
      "[7600]\tdev-rmse:1.83642\n",
      "[7700]\tdev-rmse:1.83635\n",
      "[7800]\tdev-rmse:1.83628\n",
      "[7900]\tdev-rmse:1.83623\n",
      "[8000]\tdev-rmse:1.83620\n",
      "[8100]\tdev-rmse:1.83613\n",
      "[8200]\tdev-rmse:1.83608\n",
      "[8300]\tdev-rmse:1.83597\n",
      "[8400]\tdev-rmse:1.83583\n",
      "[8500]\tdev-rmse:1.83587\n",
      "[8600]\tdev-rmse:1.83579\n",
      "[8700]\tdev-rmse:1.83571\n",
      "[8800]\tdev-rmse:1.83578\n",
      "[8900]\tdev-rmse:1.83575\n",
      "[9000]\tdev-rmse:1.83584\n",
      "[9100]\tdev-rmse:1.83579\n",
      "[9104]\tdev-rmse:1.83578\n",
      "fold=1 - - - - - - - - - - - - - - - - - - - - \n",
      "[0]\tdev-rmse:3.14898\n",
      "[100]\tdev-rmse:2.08681\n",
      "[200]\tdev-rmse:1.93044\n",
      "[300]\tdev-rmse:1.89642\n",
      "[400]\tdev-rmse:1.88231\n",
      "[500]\tdev-rmse:1.87353\n",
      "[600]\tdev-rmse:1.86807\n",
      "[700]\tdev-rmse:1.86384\n",
      "[800]\tdev-rmse:1.86056\n",
      "[900]\tdev-rmse:1.85779\n",
      "[1000]\tdev-rmse:1.85536\n",
      "[1100]\tdev-rmse:1.85316\n",
      "[1200]\tdev-rmse:1.85106\n",
      "[1300]\tdev-rmse:1.84952\n",
      "[1400]\tdev-rmse:1.84772\n",
      "[1500]\tdev-rmse:1.84630\n",
      "[1600]\tdev-rmse:1.84534\n",
      "[1700]\tdev-rmse:1.84412\n",
      "[1800]\tdev-rmse:1.84308\n",
      "[1900]\tdev-rmse:1.84211\n",
      "[2000]\tdev-rmse:1.84129\n",
      "[2100]\tdev-rmse:1.84061\n",
      "[2200]\tdev-rmse:1.84015\n",
      "[2300]\tdev-rmse:1.83952\n",
      "[2400]\tdev-rmse:1.83903\n",
      "[2500]\tdev-rmse:1.83844\n",
      "[2600]\tdev-rmse:1.83776\n",
      "[2700]\tdev-rmse:1.83761\n",
      "[2800]\tdev-rmse:1.83736\n",
      "[2900]\tdev-rmse:1.83704\n",
      "[3000]\tdev-rmse:1.83665\n",
      "[3100]\tdev-rmse:1.83641\n",
      "[3200]\tdev-rmse:1.83600\n",
      "[3300]\tdev-rmse:1.83584\n",
      "[3400]\tdev-rmse:1.83564\n",
      "[3500]\tdev-rmse:1.83535\n",
      "[3600]\tdev-rmse:1.83518\n",
      "[3700]\tdev-rmse:1.83486\n",
      "[3800]\tdev-rmse:1.83476\n",
      "[3900]\tdev-rmse:1.83465\n",
      "[4000]\tdev-rmse:1.83453\n",
      "[4100]\tdev-rmse:1.83437\n",
      "[4200]\tdev-rmse:1.83418\n",
      "[4300]\tdev-rmse:1.83415\n",
      "[4400]\tdev-rmse:1.83413\n",
      "[4500]\tdev-rmse:1.83413\n",
      "[4600]\tdev-rmse:1.83404\n",
      "[4700]\tdev-rmse:1.83403\n",
      "[4800]\tdev-rmse:1.83389\n",
      "[4900]\tdev-rmse:1.83381\n",
      "[5000]\tdev-rmse:1.83375\n",
      "[5100]\tdev-rmse:1.83373\n",
      "[5200]\tdev-rmse:1.83363\n",
      "[5300]\tdev-rmse:1.83365\n",
      "[5400]\tdev-rmse:1.83366\n",
      "[5500]\tdev-rmse:1.83369\n",
      "[5600]\tdev-rmse:1.83362\n",
      "[5700]\tdev-rmse:1.83349\n",
      "[5800]\tdev-rmse:1.83336\n",
      "[5900]\tdev-rmse:1.83330\n",
      "[6000]\tdev-rmse:1.83323\n",
      "[6100]\tdev-rmse:1.83311\n",
      "[6200]\tdev-rmse:1.83312\n",
      "[6300]\tdev-rmse:1.83321\n",
      "[6400]\tdev-rmse:1.83322\n",
      "[6500]\tdev-rmse:1.83322\n",
      "[6514]\tdev-rmse:1.83322\n",
      "fold=2 - - - - - - - - - - - - - - - - - - - - \n",
      "[0]\tdev-rmse:3.18180\n",
      "[100]\tdev-rmse:2.11563\n",
      "[200]\tdev-rmse:1.95697\n",
      "[300]\tdev-rmse:1.92122\n",
      "[400]\tdev-rmse:1.90619\n",
      "[500]\tdev-rmse:1.89650\n",
      "[600]\tdev-rmse:1.88990\n",
      "[700]\tdev-rmse:1.88481\n",
      "[800]\tdev-rmse:1.88163\n",
      "[900]\tdev-rmse:1.87808\n",
      "[1000]\tdev-rmse:1.87514\n",
      "[1100]\tdev-rmse:1.87304\n",
      "[1200]\tdev-rmse:1.87081\n",
      "[1300]\tdev-rmse:1.86876\n",
      "[1400]\tdev-rmse:1.86698\n",
      "[1500]\tdev-rmse:1.86552\n",
      "[1600]\tdev-rmse:1.86412\n",
      "[1700]\tdev-rmse:1.86268\n",
      "[1800]\tdev-rmse:1.86158\n",
      "[1900]\tdev-rmse:1.86045\n",
      "[2000]\tdev-rmse:1.85953\n",
      "[2100]\tdev-rmse:1.85877\n",
      "[2200]\tdev-rmse:1.85835\n",
      "[2300]\tdev-rmse:1.85772\n",
      "[2400]\tdev-rmse:1.85692\n",
      "[2500]\tdev-rmse:1.85649\n",
      "[2600]\tdev-rmse:1.85602\n",
      "[2700]\tdev-rmse:1.85566\n",
      "[2800]\tdev-rmse:1.85522\n",
      "[2900]\tdev-rmse:1.85477\n",
      "[3000]\tdev-rmse:1.85441\n",
      "[3100]\tdev-rmse:1.85411\n",
      "[3200]\tdev-rmse:1.85382\n",
      "[3300]\tdev-rmse:1.85347\n",
      "[3400]\tdev-rmse:1.85290\n",
      "[3500]\tdev-rmse:1.85261\n",
      "[3600]\tdev-rmse:1.85231\n",
      "[3700]\tdev-rmse:1.85201\n",
      "[3800]\tdev-rmse:1.85188\n",
      "[3900]\tdev-rmse:1.85173\n",
      "[4000]\tdev-rmse:1.85150\n",
      "[4100]\tdev-rmse:1.85132\n",
      "[4200]\tdev-rmse:1.85120\n",
      "[4300]\tdev-rmse:1.85111\n",
      "[4400]\tdev-rmse:1.85095\n",
      "[4500]\tdev-rmse:1.85082\n",
      "[4600]\tdev-rmse:1.85086\n",
      "[4700]\tdev-rmse:1.85071\n",
      "[4800]\tdev-rmse:1.85045\n",
      "[4900]\tdev-rmse:1.85038\n",
      "[5000]\tdev-rmse:1.85027\n",
      "[5100]\tdev-rmse:1.85012\n",
      "[5200]\tdev-rmse:1.84993\n",
      "[5300]\tdev-rmse:1.84985\n",
      "[5400]\tdev-rmse:1.84991\n",
      "[5500]\tdev-rmse:1.84980\n",
      "[5600]\tdev-rmse:1.84967\n",
      "[5700]\tdev-rmse:1.84968\n",
      "[5800]\tdev-rmse:1.84948\n",
      "[5900]\tdev-rmse:1.84954\n",
      "[6000]\tdev-rmse:1.84935\n",
      "[6100]\tdev-rmse:1.84922\n",
      "[6200]\tdev-rmse:1.84915\n",
      "[6300]\tdev-rmse:1.84927\n",
      "[6400]\tdev-rmse:1.84912\n",
      "[6500]\tdev-rmse:1.84901\n",
      "[6600]\tdev-rmse:1.84903\n",
      "[6700]\tdev-rmse:1.84894\n",
      "[6800]\tdev-rmse:1.84901\n",
      "[6900]\tdev-rmse:1.84908\n",
      "[7000]\tdev-rmse:1.84914\n",
      "[7098]\tdev-rmse:1.84914\n",
      "fold=3 - - - - - - - - - - - - - - - - - - - - \n",
      "[0]\tdev-rmse:3.15374\n",
      "[100]\tdev-rmse:2.10048\n",
      "[200]\tdev-rmse:1.94649\n",
      "[300]\tdev-rmse:1.91073\n",
      "[400]\tdev-rmse:1.89741\n",
      "[500]\tdev-rmse:1.88915\n",
      "[600]\tdev-rmse:1.88345\n",
      "[700]\tdev-rmse:1.87877\n",
      "[800]\tdev-rmse:1.87550\n",
      "[900]\tdev-rmse:1.87221\n",
      "[1000]\tdev-rmse:1.86969\n",
      "[1100]\tdev-rmse:1.86768\n",
      "[1200]\tdev-rmse:1.86574\n",
      "[1300]\tdev-rmse:1.86394\n",
      "[1400]\tdev-rmse:1.86254\n",
      "[1500]\tdev-rmse:1.86104\n",
      "[1600]\tdev-rmse:1.85983\n",
      "[1700]\tdev-rmse:1.85872\n",
      "[1800]\tdev-rmse:1.85769\n",
      "[1900]\tdev-rmse:1.85661\n",
      "[2000]\tdev-rmse:1.85568\n",
      "[2100]\tdev-rmse:1.85507\n",
      "[2200]\tdev-rmse:1.85462\n",
      "[2300]\tdev-rmse:1.85411\n",
      "[2400]\tdev-rmse:1.85348\n",
      "[2500]\tdev-rmse:1.85292\n",
      "[2600]\tdev-rmse:1.85233\n",
      "[2700]\tdev-rmse:1.85169\n",
      "[2800]\tdev-rmse:1.85133\n",
      "[2900]\tdev-rmse:1.85092\n",
      "[3000]\tdev-rmse:1.85054\n",
      "[3100]\tdev-rmse:1.85003\n",
      "[3200]\tdev-rmse:1.84970\n",
      "[3300]\tdev-rmse:1.84938\n",
      "[3400]\tdev-rmse:1.84911\n",
      "[3500]\tdev-rmse:1.84888\n",
      "[3600]\tdev-rmse:1.84876\n",
      "[3700]\tdev-rmse:1.84848\n",
      "[3800]\tdev-rmse:1.84815\n",
      "[3900]\tdev-rmse:1.84813\n",
      "[4000]\tdev-rmse:1.84799\n",
      "[4100]\tdev-rmse:1.84772\n",
      "[4200]\tdev-rmse:1.84758\n",
      "[4300]\tdev-rmse:1.84739\n",
      "[4400]\tdev-rmse:1.84730\n",
      "[4500]\tdev-rmse:1.84715\n",
      "[4600]\tdev-rmse:1.84693\n",
      "[4700]\tdev-rmse:1.84693\n",
      "[4800]\tdev-rmse:1.84690\n",
      "[4900]\tdev-rmse:1.84674\n",
      "[5000]\tdev-rmse:1.84663\n",
      "[5100]\tdev-rmse:1.84650\n",
      "[5200]\tdev-rmse:1.84639\n",
      "[5300]\tdev-rmse:1.84623\n",
      "[5400]\tdev-rmse:1.84610\n",
      "[5500]\tdev-rmse:1.84605\n",
      "[5600]\tdev-rmse:1.84601\n",
      "[5700]\tdev-rmse:1.84614\n",
      "[5800]\tdev-rmse:1.84614\n",
      "[5900]\tdev-rmse:1.84599\n",
      "[6000]\tdev-rmse:1.84598\n",
      "[6100]\tdev-rmse:1.84586\n",
      "[6200]\tdev-rmse:1.84579\n",
      "[6300]\tdev-rmse:1.84568\n",
      "[6400]\tdev-rmse:1.84568\n",
      "[6500]\tdev-rmse:1.84569\n",
      "[6600]\tdev-rmse:1.84573\n",
      "[6700]\tdev-rmse:1.84580\n",
      "[6725]\tdev-rmse:1.84588\n",
      "fold=4 - - - - - - - - - - - - - - - - - - - - \n",
      "[0]\tdev-rmse:3.12850\n",
      "[100]\tdev-rmse:2.06287\n",
      "[200]\tdev-rmse:1.90630\n",
      "[300]\tdev-rmse:1.87213\n",
      "[400]\tdev-rmse:1.85815\n",
      "[500]\tdev-rmse:1.85005\n",
      "[600]\tdev-rmse:1.84447\n",
      "[700]\tdev-rmse:1.83970\n",
      "[800]\tdev-rmse:1.83646\n",
      "[900]\tdev-rmse:1.83398\n",
      "[1000]\tdev-rmse:1.83145\n",
      "[1100]\tdev-rmse:1.82964\n",
      "[1200]\tdev-rmse:1.82801\n",
      "[1300]\tdev-rmse:1.82638\n",
      "[1400]\tdev-rmse:1.82499\n",
      "[1500]\tdev-rmse:1.82398\n",
      "[1600]\tdev-rmse:1.82299\n",
      "[1700]\tdev-rmse:1.82187\n",
      "[1800]\tdev-rmse:1.82121\n",
      "[1900]\tdev-rmse:1.82044\n",
      "[2000]\tdev-rmse:1.81979\n",
      "[2100]\tdev-rmse:1.81908\n",
      "[2200]\tdev-rmse:1.81844\n",
      "[2300]\tdev-rmse:1.81798\n",
      "[2400]\tdev-rmse:1.81749\n",
      "[2500]\tdev-rmse:1.81722\n",
      "[2600]\tdev-rmse:1.81685\n",
      "[2700]\tdev-rmse:1.81662\n",
      "[2800]\tdev-rmse:1.81641\n",
      "[2900]\tdev-rmse:1.81602\n",
      "[3000]\tdev-rmse:1.81582\n",
      "[3100]\tdev-rmse:1.81547\n",
      "[3200]\tdev-rmse:1.81519\n",
      "[3300]\tdev-rmse:1.81489\n",
      "[3400]\tdev-rmse:1.81476\n",
      "[3500]\tdev-rmse:1.81454\n",
      "[3600]\tdev-rmse:1.81431\n",
      "[3700]\tdev-rmse:1.81418\n",
      "[3800]\tdev-rmse:1.81407\n",
      "[3900]\tdev-rmse:1.81389\n",
      "[4000]\tdev-rmse:1.81381\n",
      "[4100]\tdev-rmse:1.81373\n",
      "[4200]\tdev-rmse:1.81358\n",
      "[4300]\tdev-rmse:1.81348\n",
      "[4400]\tdev-rmse:1.81345\n",
      "[4500]\tdev-rmse:1.81339\n",
      "[4600]\tdev-rmse:1.81320\n",
      "[4700]\tdev-rmse:1.81315\n",
      "[4800]\tdev-rmse:1.81324\n",
      "[4900]\tdev-rmse:1.81324\n",
      "[5000]\tdev-rmse:1.81324\n",
      "[5100]\tdev-rmse:1.81324\n",
      "[5154]\tdev-rmse:1.81341\n"
     ]
    }
   ],
   "source": [
    "oof = np.zeros(train_df.shape[0])\n",
    "pred = np.zeros(test_df.shape[0])\n",
    "\n",
    "for i, (trn_idx, val_idx) in enumerate(folds.split(train_df.index)):\n",
    "    print(f'fold={i}', '- ' * 20)\n",
    "    trn_data = xgb.DMatrix(train_df.loc[trn_idx, train_cols], label=train_df.loc[trn_idx, target_col])\n",
    "    val_data = xgb.DMatrix(train_df.loc[val_idx, train_cols], label=train_df.loc[val_idx, target_col])\n",
    "    tst_data = xgb.DMatrix(test_df[train_cols])\n",
    "\n",
    "    model = xgb.train(params, trn_data, 10000, evals=[(val_data, 'dev')], early_stopping_rounds=400, verbose_eval=100)\n",
    "\n",
    "    oof[val_idx] = model.predict(val_data, iteration_range=(0, model.best_iteration + 1))\n",
    "    pred += model.predict(tst_data, iteration_range=(0, model.best_iteration + 1)) / nfold"
   ]
  },
  {
   "cell_type": "code",
   "execution_count": 61,
   "id": "53d90276-7ad2-4b92-84e4-6c47196428f0",
   "metadata": {},
   "outputs": [],
   "source": [
    "oof = np.expm1(oof)"
   ]
  },
  {
   "cell_type": "code",
   "execution_count": 62,
   "id": "c073e517-46a0-4016-8564-7d83d31267f0",
   "metadata": {},
   "outputs": [
    {
     "data": {
      "text/plain": [
       "7.746888355643476"
      ]
     },
     "execution_count": 62,
     "metadata": {},
     "output_type": "execute_result"
    }
   ],
   "source": [
    "mean_squared_log_error(train_df['Rings'], oof, squared=False)"
   ]
  },
  {
   "cell_type": "markdown",
   "id": "87d41027-db76-433d-b0c4-53e3a3af38f6",
   "metadata": {},
   "source": [
    "#### StratifiedKFold"
   ]
  },
  {
   "cell_type": "code",
   "execution_count": 63,
   "id": "7c1a8d8b-7b51-496b-913e-b890e5e7ed07",
   "metadata": {},
   "outputs": [],
   "source": [
    "params = {\n",
    "    'nthread': 8,\n",
    "    'objective': 'reg:squarederror',    # reg:squaredlogerror\n",
    "    'max_depth': 4,\n",
    "    'learning_rate': 0.015,\n",
    "    'min_child_weight': 22.4,\n",
    "    'subsample': 0.9,\n",
    "    'colsample_bytree': 0.8,\n",
    "    'reg_lambda': 8.0,\n",
    "    'eval_metric': 'rmse',    # rmsle\n",
    "}"
   ]
  },
  {
   "cell_type": "code",
   "execution_count": null,
   "id": "28485416-9b08-4a88-9fc0-73893b90ecdd",
   "metadata": {
    "scrolled": true
   },
   "outputs": [
    {
     "name": "stdout",
     "output_type": "stream",
     "text": [
      "fold=0 - - - - - - - - - - - - - - - - - - - - \n",
      "[0]\tdev-rmse:0.28306\n",
      "[200]\tdev-rmse:0.15727\n",
      "[400]\tdev-rmse:0.15316\n",
      "[600]\tdev-rmse:0.15203\n",
      "[800]\tdev-rmse:0.15147\n",
      "[1000]\tdev-rmse:0.15110\n",
      "[1200]\tdev-rmse:0.15080\n",
      "[1400]\tdev-rmse:0.15057\n",
      "[1600]\tdev-rmse:0.15038\n",
      "[1800]\tdev-rmse:0.15023\n",
      "[2000]\tdev-rmse:0.15011\n",
      "[2200]\tdev-rmse:0.15002\n",
      "[2400]\tdev-rmse:0.14993\n",
      "[2600]\tdev-rmse:0.14986\n",
      "[2800]\tdev-rmse:0.14981\n",
      "[3000]\tdev-rmse:0.14975\n",
      "[3200]\tdev-rmse:0.14969\n",
      "[3400]\tdev-rmse:0.14965\n",
      "[3600]\tdev-rmse:0.14961\n",
      "[3800]\tdev-rmse:0.14958\n",
      "[4000]\tdev-rmse:0.14954\n",
      "[4200]\tdev-rmse:0.14952\n",
      "[4400]\tdev-rmse:0.14950\n",
      "[4600]\tdev-rmse:0.14946\n",
      "[4800]\tdev-rmse:0.14944\n",
      "[5000]\tdev-rmse:0.14941\n",
      "[5200]\tdev-rmse:0.14941\n",
      "[5400]\tdev-rmse:0.14940\n",
      "[5600]\tdev-rmse:0.14940\n",
      "[5800]\tdev-rmse:0.14939\n",
      "[6000]\tdev-rmse:0.14938\n",
      "[6200]\tdev-rmse:0.14937\n",
      "[6400]\tdev-rmse:0.14936\n",
      "[6600]\tdev-rmse:0.14936\n",
      "[6800]\tdev-rmse:0.14936\n",
      "[7000]\tdev-rmse:0.14936\n",
      "[7200]\tdev-rmse:0.14936\n",
      "[7297]\tdev-rmse:0.14936\n",
      "fold=1 - - - - - - - - - - - - - - - - - - - - \n",
      "[0]\tdev-rmse:0.28311\n",
      "[200]\tdev-rmse:0.15597\n",
      "[400]\tdev-rmse:0.15201\n",
      "[600]\tdev-rmse:0.15074\n",
      "[800]\tdev-rmse:0.15013\n",
      "[1000]\tdev-rmse:0.14973\n",
      "[1200]\tdev-rmse:0.14941\n",
      "[1400]\tdev-rmse:0.14913\n",
      "[1600]\tdev-rmse:0.14896\n",
      "[1800]\tdev-rmse:0.14882\n",
      "[2000]\tdev-rmse:0.14868\n",
      "[2200]\tdev-rmse:0.14861\n",
      "[2400]\tdev-rmse:0.14851\n",
      "[2600]\tdev-rmse:0.14843\n",
      "[2800]\tdev-rmse:0.14838\n",
      "[3000]\tdev-rmse:0.14833\n",
      "[3200]\tdev-rmse:0.14828\n",
      "[3400]\tdev-rmse:0.14824\n",
      "[3600]\tdev-rmse:0.14821\n",
      "[3800]\tdev-rmse:0.14817\n",
      "[4000]\tdev-rmse:0.14814\n",
      "[4200]\tdev-rmse:0.14813\n",
      "[4400]\tdev-rmse:0.14812\n",
      "[4600]\tdev-rmse:0.14809\n",
      "[4800]\tdev-rmse:0.14807\n",
      "[5000]\tdev-rmse:0.14806\n",
      "[5200]\tdev-rmse:0.14804\n",
      "[5400]\tdev-rmse:0.14804\n",
      "[5600]\tdev-rmse:0.14803\n",
      "[5800]\tdev-rmse:0.14802\n",
      "[6000]\tdev-rmse:0.14802\n",
      "[6200]\tdev-rmse:0.14801\n",
      "[6400]\tdev-rmse:0.14801\n",
      "[6600]\tdev-rmse:0.14801\n",
      "[6800]\tdev-rmse:0.14802\n",
      "[6846]\tdev-rmse:0.14801\n",
      "fold=2 - - - - - - - - - - - - - - - - - - - - \n",
      "[0]\tdev-rmse:0.28308\n",
      "[200]\tdev-rmse:0.15760\n",
      "[400]\tdev-rmse:0.15339\n",
      "[600]\tdev-rmse:0.15209\n",
      "[800]\tdev-rmse:0.15151\n",
      "[1000]\tdev-rmse:0.15110\n",
      "[1200]\tdev-rmse:0.15079\n",
      "[1400]\tdev-rmse:0.15055\n",
      "[1600]\tdev-rmse:0.15034\n",
      "[1800]\tdev-rmse:0.15016\n",
      "[2000]\tdev-rmse:0.15001\n",
      "[2200]\tdev-rmse:0.14992\n",
      "[2400]\tdev-rmse:0.14982\n",
      "[2600]\tdev-rmse:0.14973\n",
      "[2800]\tdev-rmse:0.14966\n",
      "[3000]\tdev-rmse:0.14960\n",
      "[3200]\tdev-rmse:0.14954\n",
      "[3400]\tdev-rmse:0.14949\n",
      "[3600]\tdev-rmse:0.14944\n",
      "[3800]\tdev-rmse:0.14940\n",
      "[4000]\tdev-rmse:0.14937\n",
      "[4200]\tdev-rmse:0.14935\n",
      "[4400]\tdev-rmse:0.14931\n",
      "[4600]\tdev-rmse:0.14927\n",
      "[4800]\tdev-rmse:0.14926\n",
      "[5000]\tdev-rmse:0.14924\n",
      "[5200]\tdev-rmse:0.14923\n",
      "[5400]\tdev-rmse:0.14921\n",
      "[5600]\tdev-rmse:0.14920\n",
      "[5800]\tdev-rmse:0.14920\n",
      "[6000]\tdev-rmse:0.14918\n",
      "[6200]\tdev-rmse:0.14918\n",
      "[6400]\tdev-rmse:0.14917\n",
      "[6600]\tdev-rmse:0.14917\n",
      "[6800]\tdev-rmse:0.14917\n",
      "[7000]\tdev-rmse:0.14918\n",
      "[7105]\tdev-rmse:0.14917\n",
      "fold=3 - - - - - - - - - - - - - - - - - - - - \n",
      "[0]\tdev-rmse:0.28326\n",
      "[200]\tdev-rmse:0.15865\n",
      "[400]\tdev-rmse:0.15443\n",
      "[600]\tdev-rmse:0.15328\n",
      "[800]\tdev-rmse:0.15264\n",
      "[1000]\tdev-rmse:0.15223\n",
      "[1200]\tdev-rmse:0.15190\n",
      "[1400]\tdev-rmse:0.15162\n",
      "[1600]\tdev-rmse:0.15142\n",
      "[1800]\tdev-rmse:0.15126\n",
      "[2000]\tdev-rmse:0.15113\n",
      "[2200]\tdev-rmse:0.15102\n",
      "[2400]\tdev-rmse:0.15090\n",
      "[2600]\tdev-rmse:0.15084\n",
      "[2800]\tdev-rmse:0.15076\n",
      "[3000]\tdev-rmse:0.15069\n",
      "[3200]\tdev-rmse:0.15063\n",
      "[3400]\tdev-rmse:0.15057\n",
      "[3600]\tdev-rmse:0.15053\n",
      "[3800]\tdev-rmse:0.15049\n",
      "[4000]\tdev-rmse:0.15046\n",
      "[4200]\tdev-rmse:0.15043\n",
      "[4400]\tdev-rmse:0.15040\n",
      "[4600]\tdev-rmse:0.15037\n",
      "[4800]\tdev-rmse:0.15035\n",
      "[5000]\tdev-rmse:0.15033\n",
      "[5200]\tdev-rmse:0.15031\n",
      "[5400]\tdev-rmse:0.15029\n",
      "[5600]\tdev-rmse:0.15029\n",
      "[5800]\tdev-rmse:0.15028\n",
      "[6000]\tdev-rmse:0.15027\n",
      "[6200]\tdev-rmse:0.15026\n",
      "[6400]\tdev-rmse:0.15025\n",
      "[6600]\tdev-rmse:0.15024\n",
      "[6800]\tdev-rmse:0.15023\n",
      "[7000]\tdev-rmse:0.15022\n",
      "[7200]\tdev-rmse:0.15022\n",
      "[7400]\tdev-rmse:0.15022\n",
      "[7600]\tdev-rmse:0.15022\n",
      "[7694]\tdev-rmse:0.15022\n",
      "fold=4 - - - - - - - - - - - - - - - - - - - - \n",
      "[0]\tdev-rmse:0.28306\n",
      "[200]\tdev-rmse:0.15738\n",
      "[400]\tdev-rmse:0.15335\n",
      "[600]\tdev-rmse:0.15206\n",
      "[800]\tdev-rmse:0.15148\n",
      "[1000]\tdev-rmse:0.15104\n",
      "[1200]\tdev-rmse:0.15072\n",
      "[1400]\tdev-rmse:0.15045\n",
      "[1600]\tdev-rmse:0.15024\n"
     ]
    }
   ],
   "source": [
    "cv, oof, pred = xgb_cv(params, train_df, test_df, train_cols, target_col, log_transform=True, stratified=True)"
   ]
  },
  {
   "cell_type": "code",
   "execution_count": null,
   "id": "b4019f6e-1fbf-495d-a6ff-132ceda98ca6",
   "metadata": {},
   "outputs": [],
   "source": [
    "print(cv)\n",
    "\n",
    "tag = 'xgb_bo_log1p_skf'\n",
    "oof_df[tag] = oof\n",
    "pred_df[tag] = pred"
   ]
  },
  {
   "cell_type": "markdown",
   "id": "8d538cae-8dfe-4554-a5c0-5547c8ddc995",
   "metadata": {},
   "source": [
    "### catboost"
   ]
  },
  {
   "cell_type": "code",
   "execution_count": null,
   "id": "520ea440-f2eb-425a-a481-205bbe538f08",
   "metadata": {},
   "outputs": [],
   "source": [
    "def cb_cv(params, train_df, test_df, train_cols, target_col, log_transform=False, stratified=False, nfold=5, num_boost_round=10000):\n",
    "    if stratified:\n",
    "        folds = StratifiedKFold(n_splits=nfold, shuffle=True, random_state=42)\n",
    "    else:\n",
    "        folds = KFold(n_splits=nfold, shuffle=True, random_state=42)\n",
    "\n",
    "    target = train_df[target_col]\n",
    "    if log_transform:\n",
    "        target = np.log1p(train_df[target_col])\n",
    "    \n",
    "    oof = np.zeros(train_df.shape[0])\n",
    "    pred = np.zeros(test_df.shape[0])\n",
    "    \n",
    "    for i, (trn_idx, val_idx) in enumerate(folds.split(train_df.index, train_df.Rings.astype(int))):\n",
    "        print(f'fold={i}', '- ' * 20)\n",
    "        trn_data = cb.Pool(train_df.loc[trn_idx, train_cols], label=target.loc[trn_idx], feature_names=train_cols, cat_features=['Sex_code'])\n",
    "        val_data = cb.Pool(train_df.loc[val_idx, train_cols], label=target.loc[val_idx], feature_names=train_cols, cat_features=['Sex_code'])\n",
    "    \n",
    "        tst_data = cb.Pool(test_df[train_cols], feature_names=train_cols, cat_features=['Sex_code'])\n",
    "    \n",
    "        model = cb.train(trn_data, params, iterations=10000, evals=val_data, early_stopping_rounds=400, verbose_eval=200)\n",
    "    \n",
    "        oof[val_idx] = model.predict(val_data, ntree_end=model.best_iteration_)\n",
    "        pred += model.predict(tst_data, ntree_end=model.best_iteration_) / nfold\n",
    "\n",
    "    if log_transform:\n",
    "        oof = np.expm1(oof)\n",
    "        pred = np.expm1(pred)\n",
    "\n",
    "    cv = mean_squared_log_error(train_df['Rings'], oof, squared=False)\n",
    "    return cv, oof, pred"
   ]
  },
  {
   "cell_type": "markdown",
   "id": "692fbdbb-4a62-4765-873a-5e2e2a6e042b",
   "metadata": {},
   "source": [
    "#### 默参"
   ]
  },
  {
   "cell_type": "code",
   "execution_count": null,
   "id": "ee162d3c-d49a-40e6-bde5-b0915cf17d5d",
   "metadata": {},
   "outputs": [],
   "source": [
    "params = {\n",
    "    'thread_count': 8,\n",
    "    'objective': 'RMSE',    # reg:squaredlogerror\n",
    "    'max_depth': 6,\n",
    "    # 'learning_rate': 0.03,\n",
    "    'min_data_in_leaf': 1,\n",
    "    # 'subsample': 1.0,\n",
    "    'colsample_bylevel': 1.0,\n",
    "    'reg_lambda': 3,\n",
    "    'eval_metric': 'RMSE',    # rmsle\n",
    "}"
   ]
  },
  {
   "cell_type": "code",
   "execution_count": null,
   "id": "02fdac68-0d65-4f62-a16a-8e119e3158cb",
   "metadata": {
    "scrolled": true
   },
   "outputs": [],
   "source": [
    "cv, oof, pred = cb_cv(params, train_df, test_df, train_cols, target_col, log_transform=False, stratified=False)"
   ]
  },
  {
   "cell_type": "code",
   "execution_count": null,
   "id": "a431b391-13e1-43e7-9a16-304949ed82c1",
   "metadata": {},
   "outputs": [],
   "source": [
    "print(cv)\n",
    "\n",
    "tag = 'cb_default'\n",
    "oof_df[tag] = oof\n",
    "pred_df[tag] = pred"
   ]
  },
  {
   "cell_type": "markdown",
   "id": "4c696b3f-54cb-44bb-b8fd-51788b5374fd",
   "metadata": {},
   "source": [
    "#### 调参"
   ]
  },
  {
   "cell_type": "code",
   "execution_count": null,
   "id": "b409b377-e452-408e-bf57-739130d53ce9",
   "metadata": {},
   "outputs": [],
   "source": [
    "{'target': -0.14920691782699697, 'params': {'colsample_bylevel': 0.444138725358572, 'learning_rate': 0.021914249401391334, 'max_depth': 5.989341011049182, 'min_data_in_leaf': 3.8619321720075757, 'reg_lambda': 5.839227436758772, 'subsample': 0.8828478540185538}}"
   ]
  },
  {
   "cell_type": "code",
   "execution_count": null,
   "id": "fe5bc690-83da-4c51-85ff-4ec99b2daef4",
   "metadata": {},
   "outputs": [],
   "source": [
    "params = {\n",
    "    'thread_count': 8,\n",
    "    'objective': 'RMSE',\n",
    "    'max_depth': 6,\n",
    "    'learning_rate': 0.02,\n",
    "    'min_data_in_leaf': 4,\n",
    "    'subsample': 0.88,\n",
    "    'colsample_bylevel': 0.44,\n",
    "    'reg_lambda': 5.8,\n",
    "    'eval_metric': 'RMSE',\n",
    "}"
   ]
  },
  {
   "cell_type": "code",
   "execution_count": null,
   "id": "c2560844-8533-4fe2-9554-d1c34d378e5a",
   "metadata": {
    "scrolled": true
   },
   "outputs": [],
   "source": [
    "cv, oof, pred = cb_cv(params, train_df, test_df, train_cols, target_col, log_transform=False, stratified=False)"
   ]
  },
  {
   "cell_type": "code",
   "execution_count": null,
   "id": "fc34d9ef-ce47-4d94-b5eb-53285548791d",
   "metadata": {},
   "outputs": [],
   "source": [
    "print(cv)\n",
    "\n",
    "tag = 'cb_bo'\n",
    "oof_df[tag] = oof\n",
    "pred_df[tag] = pred"
   ]
  },
  {
   "cell_type": "markdown",
   "id": "02327416-b20f-4543-b1a8-a0fd8d2d30fa",
   "metadata": {},
   "source": [
    "#### Rings_log1p"
   ]
  },
  {
   "cell_type": "code",
   "execution_count": null,
   "id": "7c0f964d-e258-4c04-90f6-701726142d17",
   "metadata": {},
   "outputs": [],
   "source": [
    "params = {\n",
    "    'thread_count': 8,\n",
    "    'objective': 'RMSE',\n",
    "    'max_depth': 6,\n",
    "    'learning_rate': 0.02,\n",
    "    'min_data_in_leaf': 4,\n",
    "    'subsample': 0.88,\n",
    "    'colsample_bylevel': 0.44,\n",
    "    'reg_lambda': 5.8,\n",
    "    'eval_metric': 'RMSE',\n",
    "}"
   ]
  },
  {
   "cell_type": "code",
   "execution_count": null,
   "id": "25ba154b-1bfc-4566-a726-d29fcd645d78",
   "metadata": {
    "scrolled": true
   },
   "outputs": [],
   "source": [
    "cv, oof, pred = cb_cv(params, train_df, test_df, train_cols, target_col, log_transform=True, stratified=False)"
   ]
  },
  {
   "cell_type": "code",
   "execution_count": null,
   "id": "ae7eff4b-b750-4ddf-92eb-39dcf5ca9299",
   "metadata": {},
   "outputs": [],
   "source": [
    "print(cv)\n",
    "\n",
    "tag = 'cb_bo_log1p'\n",
    "oof_df[tag] = oof\n",
    "pred_df[tag] = pred"
   ]
  },
  {
   "cell_type": "markdown",
   "id": "41cd6e08-c2d0-40bb-bdd6-bad68e64d547",
   "metadata": {},
   "source": [
    "#### StratifiedKFold"
   ]
  },
  {
   "cell_type": "code",
   "execution_count": null,
   "id": "b020eb9b-5fa7-477c-a00f-0c20b145fd67",
   "metadata": {},
   "outputs": [],
   "source": [
    "params = {\n",
    "    'thread_count': 8,\n",
    "    'objective': 'RMSE',\n",
    "    'max_depth': 6,\n",
    "    'learning_rate': 0.02,\n",
    "    'min_data_in_leaf': 4,\n",
    "    'subsample': 0.88,\n",
    "    'colsample_bylevel': 0.44,\n",
    "    'reg_lambda': 5.8,\n",
    "    'eval_metric': 'RMSE',\n",
    "}"
   ]
  },
  {
   "cell_type": "code",
   "execution_count": null,
   "id": "134bd108-206f-4ad7-bbe3-2a9423c1c1a2",
   "metadata": {
    "scrolled": true
   },
   "outputs": [],
   "source": [
    "cv, oof, pred = cb_cv(params, train_df, test_df, train_cols, target_col, log_transform=True, stratified=True)"
   ]
  },
  {
   "cell_type": "code",
   "execution_count": null,
   "id": "a2c2effc-1d44-4ab7-a0e6-271111393851",
   "metadata": {},
   "outputs": [],
   "source": [
    "print(cv)\n",
    "\n",
    "tag = 'cb_bo_log1p_skf'\n",
    "oof_df[tag] = oof\n",
    "pred_df[tag] = pred"
   ]
  },
  {
   "cell_type": "markdown",
   "id": "c1c2511d-081d-4baf-8679-dd11c1907362",
   "metadata": {},
   "source": [
    "## Ensemble"
   ]
  },
  {
   "cell_type": "code",
   "execution_count": null,
   "id": "cad3c28c-63a3-4ea4-b126-338dd6551e7f",
   "metadata": {},
   "outputs": [],
   "source": [
    "from sklearn.linear_model import Ridge"
   ]
  },
  {
   "cell_type": "code",
   "execution_count": null,
   "id": "0f3b352f-8cf3-46cc-80c3-2afcb61026dd",
   "metadata": {},
   "outputs": [],
   "source": [
    "from sklearn.model_selection import cross_val_score"
   ]
  },
  {
   "cell_type": "code",
   "execution_count": null,
   "id": "839ce671-20af-4458-ac44-2412344ef42e",
   "metadata": {},
   "outputs": [],
   "source": [
    "oof_df.head()"
   ]
  },
  {
   "cell_type": "code",
   "execution_count": null,
   "id": "50f05c20-c2c8-40fd-9d3b-a6f7110d9f24",
   "metadata": {},
   "outputs": [],
   "source": [
    "pred_df.head()"
   ]
  },
  {
   "cell_type": "code",
   "execution_count": null,
   "id": "ea73afbc-5ee0-427c-82c5-8bbdd9cd616f",
   "metadata": {},
   "outputs": [],
   "source": [
    "model_tags = []\n",
    "for m in ['lgb', 'xgb', 'cb']:\n",
    "    model_tags += [f'{m}_default', f'{m}_bo', f'{m}_bo_log1p', f'{m}_bo_log1p_skf']\n",
    "model_tags"
   ]
  },
  {
   "cell_type": "code",
   "execution_count": null,
   "id": "6dc9802b-ba85-4ce0-8425-59cbbbf9e223",
   "metadata": {},
   "outputs": [],
   "source": [
    "metric_df = []\n",
    "for col in model_tags:\n",
    "    metric_df.append([col, mean_squared_log_error(oof_df['Rings'], oof_df[col], squared=False)])\n",
    "metric_df = pd.DataFrame(metric_df, columns=['model_tag', 'rmsle'])"
   ]
  },
  {
   "cell_type": "code",
   "execution_count": 92,
   "id": "62f898a4-22d4-4e75-8daf-d754f794bfc0",
   "metadata": {},
   "outputs": [
    {
     "data": {
      "text/html": [
       "<div>\n",
       "<style scoped>\n",
       "    .dataframe tbody tr th:only-of-type {\n",
       "        vertical-align: middle;\n",
       "    }\n",
       "\n",
       "    .dataframe tbody tr th {\n",
       "        vertical-align: top;\n",
       "    }\n",
       "\n",
       "    .dataframe thead th {\n",
       "        text-align: right;\n",
       "    }\n",
       "</style>\n",
       "<table border=\"1\" class=\"dataframe\">\n",
       "  <thead>\n",
       "    <tr style=\"text-align: right;\">\n",
       "      <th></th>\n",
       "      <th>model_tag</th>\n",
       "      <th>rmsle</th>\n",
       "    </tr>\n",
       "  </thead>\n",
       "  <tbody>\n",
       "    <tr>\n",
       "      <th>0</th>\n",
       "      <td>lgb_default</td>\n",
       "      <td>0.149999</td>\n",
       "    </tr>\n",
       "    <tr>\n",
       "      <th>1</th>\n",
       "      <td>lgb_bo</td>\n",
       "      <td>0.149424</td>\n",
       "    </tr>\n",
       "    <tr>\n",
       "      <th>2</th>\n",
       "      <td>lgb_bo_log1p</td>\n",
       "      <td>0.148720</td>\n",
       "    </tr>\n",
       "    <tr>\n",
       "      <th>3</th>\n",
       "      <td>lgb_bo_log1p_skf</td>\n",
       "      <td>0.148637</td>\n",
       "    </tr>\n",
       "    <tr>\n",
       "      <th>4</th>\n",
       "      <td>xgb_default</td>\n",
       "      <td>0.151314</td>\n",
       "    </tr>\n",
       "    <tr>\n",
       "      <th>5</th>\n",
       "      <td>xgb_bo</td>\n",
       "      <td>0.149852</td>\n",
       "    </tr>\n",
       "    <tr>\n",
       "      <th>6</th>\n",
       "      <td>xgb_bo_log1p</td>\n",
       "      <td>0.149197</td>\n",
       "    </tr>\n",
       "    <tr>\n",
       "      <th>7</th>\n",
       "      <td>xgb_bo_log1p_skf</td>\n",
       "      <td>0.149143</td>\n",
       "    </tr>\n",
       "    <tr>\n",
       "      <th>8</th>\n",
       "      <td>cb_default</td>\n",
       "      <td>0.149755</td>\n",
       "    </tr>\n",
       "    <tr>\n",
       "      <th>9</th>\n",
       "      <td>cb_bo</td>\n",
       "      <td>0.149618</td>\n",
       "    </tr>\n",
       "    <tr>\n",
       "      <th>10</th>\n",
       "      <td>cb_bo_log1p</td>\n",
       "      <td>0.148950</td>\n",
       "    </tr>\n",
       "    <tr>\n",
       "      <th>11</th>\n",
       "      <td>cb_bo_log1p_skf</td>\n",
       "      <td>0.148853</td>\n",
       "    </tr>\n",
       "  </tbody>\n",
       "</table>\n",
       "</div>"
      ],
      "text/plain": [
       "           model_tag     rmsle\n",
       "0        lgb_default  0.149999\n",
       "1             lgb_bo  0.149424\n",
       "2       lgb_bo_log1p  0.148720\n",
       "3   lgb_bo_log1p_skf  0.148637\n",
       "4        xgb_default  0.151314\n",
       "5             xgb_bo  0.149852\n",
       "6       xgb_bo_log1p  0.149197\n",
       "7   xgb_bo_log1p_skf  0.149143\n",
       "8         cb_default  0.149755\n",
       "9              cb_bo  0.149618\n",
       "10       cb_bo_log1p  0.148950\n",
       "11   cb_bo_log1p_skf  0.148853"
      ]
     },
     "execution_count": 92,
     "metadata": {},
     "output_type": "execute_result"
    }
   ],
   "source": [
    "metric_df"
   ]
  },
  {
   "cell_type": "code",
   "execution_count": 93,
   "id": "6e7a0305-7127-4954-a998-ef4e77f3a05c",
   "metadata": {},
   "outputs": [
    {
     "data": {
      "image/png": "[encoded data removed]",
      "text/plain": [
       "<Figure size 640x480 with 1 Axes>"
      ]
     },
     "metadata": {},
     "output_type": "display_data"
    }
   ],
   "source": [
    "for i, c in zip(range(0, 12, 4), ['r', 'g', 'b']):\n",
    "    df = metric_df.loc[i:(i+4)]\n",
    "    plt.plot(df.index, df.rmsle, '*', c=c)\n",
    "\n",
    "plt.xticks(ticks=metric_df.index, labels=metric_df.model_tag, rotation=90)\n",
    "plt.grid()"
   ]
  },
  {
   "cell_type": "code",
   "execution_count": 130,
   "id": "258f0cd2-8293-4bdd-8974-f3d9df6fa43e",
   "metadata": {},
   "outputs": [],
   "source": [
    "ensemble_model = Ridge()"
   ]
  },
  {
   "cell_type": "code",
   "execution_count": 132,
   "id": "bcf509f2-7138-4a5d-b1d5-85a25bd883b8",
   "metadata": {},
   "outputs": [
    {
     "data": {
      "text/html": [
       "<style>#sk-container-id-1 {color: black;}#sk-container-id-1 pre{padding: 0;}#sk-container-id-1 div.sk-toggleable {background-color: white;}#sk-container-id-1 label.sk-toggleable__label {cursor: pointer;display: block;width: 100%;margin-bottom: 0;padding: 0.3em;box-sizing: border-box;text-align: center;}#sk-container-id-1 label.sk-toggleable__label-arrow:before {content: \"▸\";float: left;margin-right: 0.25em;color: #696969;}#sk-container-id-1 label.sk-toggleable__label-arrow:hover:before {color: black;}#sk-container-id-1 div.sk-estimator:hover label.sk-toggleable__label-arrow:before {color: black;}#sk-container-id-1 div.sk-toggleable__content {max-height: 0;max-width: 0;overflow: hidden;text-align: left;background-color: #f0f8ff;}#sk-container-id-1 div.sk-toggleable__content pre {margin: 0.2em;color: black;border-radius: 0.25em;background-color: #f0f8ff;}#sk-container-id-1 input.sk-toggleable__control:checked~div.sk-toggleable__content {max-height: 200px;max-width: 100%;overflow: auto;}#sk-container-id-1 input.sk-toggleable__control:checked~label.sk-toggleable__label-arrow:before {content: \"▾\";}#sk-container-id-1 div.sk-estimator input.sk-toggleable__control:checked~label.sk-toggleable__label {background-color: #d4ebff;}#sk-container-id-1 div.sk-label input.sk-toggleable__control:checked~label.sk-toggleable__label {background-color: #d4ebff;}#sk-container-id-1 input.sk-hidden--visually {border: 0;clip: rect(1px 1px 1px 1px);clip: rect(1px, 1px, 1px, 1px);height: 1px;margin: -1px;overflow: hidden;padding: 0;position: absolute;width: 1px;}#sk-container-id-1 div.sk-estimator {font-family: monospace;background-color: #f0f8ff;border: 1px dotted black;border-radius: 0.25em;box-sizing: border-box;margin-bottom: 0.5em;}#sk-container-id-1 div.sk-estimator:hover {background-color: #d4ebff;}#sk-container-id-1 div.sk-parallel-item::after {content: \"\";width: 100%;border-bottom: 1px solid gray;flex-grow: 1;}#sk-container-id-1 div.sk-label:hover label.sk-toggleable__label {background-color: #d4ebff;}#sk-container-id-1 div.sk-serial::before {content: \"\";position: absolute;border-left: 1px solid gray;box-sizing: border-box;top: 0;bottom: 0;left: 50%;z-index: 0;}#sk-container-id-1 div.sk-serial {display: flex;flex-direction: column;align-items: center;background-color: white;padding-right: 0.2em;padding-left: 0.2em;position: relative;}#sk-container-id-1 div.sk-item {position: relative;z-index: 1;}#sk-container-id-1 div.sk-parallel {display: flex;align-items: stretch;justify-content: center;background-color: white;position: relative;}#sk-container-id-1 div.sk-item::before, #sk-container-id-1 div.sk-parallel-item::before {content: \"\";position: absolute;border-left: 1px solid gray;box-sizing: border-box;top: 0;bottom: 0;left: 50%;z-index: -1;}#sk-container-id-1 div.sk-parallel-item {display: flex;flex-direction: column;z-index: 1;position: relative;background-color: white;}#sk-container-id-1 div.sk-parallel-item:first-child::after {align-self: flex-end;width: 50%;}#sk-container-id-1 div.sk-parallel-item:last-child::after {align-self: flex-start;width: 50%;}#sk-container-id-1 div.sk-parallel-item:only-child::after {width: 0;}#sk-container-id-1 div.sk-dashed-wrapped {border: 1px dashed gray;margin: 0 0.4em 0.5em 0.4em;box-sizing: border-box;padding-bottom: 0.4em;background-color: white;}#sk-container-id-1 div.sk-label label {font-family: monospace;font-weight: bold;display: inline-block;line-height: 1.2em;}#sk-container-id-1 div.sk-label-container {text-align: center;}#sk-container-id-1 div.sk-container {/* jupyter's `normalize.less` sets `[hidden] { display: none; }` but bootstrap.min.css set `[hidden] { display: none !important; }` so we also need the `!important` here to be able to override the default hidden behavior on the sphinx rendered scikit-learn.org. See: https://github.com/scikit-learn/scikit-learn/issues/21755 */display: inline-block !important;position: relative;}#sk-container-id-1 div.sk-text-repr-fallback {display: none;}</style><div id=\"sk-container-id-1\" class=\"sk-top-container\"><div class=\"sk-text-repr-fallback\"><pre>Ridge()</pre><b>In a Jupyter environment, please rerun this cell to show the HTML representation or trust the notebook. <br />On GitHub, the HTML representation is unable to render, please try loading this page with nbviewer.org.</b></div><div class=\"sk-container\" hidden><div class=\"sk-item\"><div class=\"sk-estimator sk-toggleable\"><input class=\"sk-toggleable__control sk-hidden--visually\" id=\"sk-estimator-id-1\" type=\"checkbox\" checked><label for=\"sk-estimator-id-1\" class=\"sk-toggleable__label sk-toggleable__label-arrow\">Ridge</label><div class=\"sk-toggleable__content\"><pre>Ridge()</pre></div></div></div></div></div>"
      ],
      "text/plain": [
       "Ridge()"
      ]
     },
     "execution_count": 132,
     "metadata": {},
     "output_type": "execute_result"
    }
   ],
   "source": [
    "ensemble_model.fit(oof_df[model_tags], oof_df['Rings'])"
   ]
  },
  {
   "cell_type": "code",
   "execution_count": 133,
   "id": "ad3ab674-65b9-41a1-8353-51d7a807be6d",
   "metadata": {},
   "outputs": [],
   "source": [
    "simple_ensemble_pred = ensemble_model.predict(pred_df[model_tags])"
   ]
  },
  {
   "cell_type": "code",
   "execution_count": 134,
   "id": "b7d58486-6247-4f35-adbf-ff070c001c57",
   "metadata": {},
   "outputs": [
    {
     "data": {
      "text/plain": [
       "array([ 9.69071961,  9.55985433, 10.20571465, ..., 11.95026242,\n",
       "       14.0869782 ,  8.32682338])"
      ]
     },
     "execution_count": 134,
     "metadata": {},
     "output_type": "execute_result"
    }
   ],
   "source": [
    "simple_ensemble_pred"
   ]
  },
  {
   "cell_type": "code",
   "execution_count": null,
   "id": "5363c22c-ff6d-425e-97b3-742000df8e17",
   "metadata": {},
   "outputs": [],
   "source": []
  },
  {
   "cell_type": "code",
   "execution_count": null,
   "id": "07510a2d-18a0-435d-9949-a9c98321f145",
   "metadata": {},
   "outputs": [],
   "source": [
    "def ensemble_cv(oof_df, pred_df, train_cols):\n",
    "    nfold = 5\n",
    "    folds = StratifiedKFold(n_splits=nfold, shuffle=True, random_state=42)\n",
    "    \n",
    "    oof = np.zeros(oof_df.shape[0])\n",
    "    pred = np.zeros(pred_df.shape[0])\n",
    "    \n",
    "    for i, (trn_idx, val_idx) in enumerate(folds.split(oof_df.index, oof_df.Rings.astype(int))):\n",
    "        print(f'fold={i}', '- ' * 20)\n",
    "        trn_X = oof_df.loc[trn_idx, train_cols]\n",
    "        trn_y = oof_df.loc[trn_idx, 'Rings']\n",
    "\n",
    "        val_X = oof_df.loc[val_idx, train_cols]\n",
    "        val_y = oof_df.loc[val_idx, 'Rings']\n",
    "        \n",
    "        tst_X = pred_df[train_cols]\n",
    "\n",
    "        model = Ridge()\n",
    "        model.fit(trn_X, trn_y)\n",
    "\n",
    "        oof[val_idx] = model.predict(val_X)\n",
    "        pred += model.predict(tst_X) / nfold\n",
    "\n",
    "    cv = mean_squared_log_error(oof_df['Rings'], oof, squared=False)\n",
    "    return cv, pred"
   ]
  },
  {
   "cell_type": "code",
   "execution_count": null,
   "id": "f4c34f32-8fe4-46b0-8d6a-460fe5f76f48",
   "metadata": {},
   "outputs": [],
   "source": [
    "ensemble_cv, ensemble_pred = ensemble_cv(oof_df, pred_df, model_tags)"
   ]
  },
  {
   "cell_type": "code",
   "execution_count": 94,
   "id": "704e0a02-3170-4593-8254-3c4aed837a95",
   "metadata": {},
   "outputs": [
    {
     "data": {
      "text/plain": [
       "0.14873459558729193"
      ]
     },
     "execution_count": 94,
     "metadata": {},
     "output_type": "execute_result"
    }
   ],
   "source": [
    "ensemble_cv"
   ]
  },
  {
   "cell_type": "code",
   "execution_count": 95,
   "id": "c1024b45-c794-44bd-b83e-7859df24fe4f",
   "metadata": {},
   "outputs": [
    {
     "data": {
      "text/plain": [
       "array([ 9.79611278,  9.78543487, 10.00996596, ..., 12.61777516,\n",
       "       13.94584236,  8.32657144])"
      ]
     },
     "execution_count": 95,
     "metadata": {},
     "output_type": "execute_result"
    }
   ],
   "source": [
    "ensemble_pred"
   ]
  },
  {
   "cell_type": "markdown",
   "id": "03ce903e-ec8c-4551-9bd9-9dad991c3c23",
   "metadata": {},
   "source": [
    "## Postprocess"
   ]
  },
  {
   "cell_type": "code",
   "execution_count": null,
   "id": "3f255a58-7ced-4097-b49d-ad1644678d5b",
   "metadata": {},
   "outputs": [],
   "source": []
  },
  {
   "cell_type": "code",
   "execution_count": null,
   "id": "70df0c42-71de-48dd-b6bf-3ddb70578406",
   "metadata": {},
   "outputs": [],
   "source": []
  },
  {
   "cell_type": "markdown",
   "id": "7fdb50b3-0e2c-41ab-a923-e5084277e6a5",
   "metadata": {},
   "source": [
    "## 提交"
   ]
  },
  {
   "cell_type": "code",
   "execution_count": 62,
   "id": "690ee020-0e9f-49ae-b515-110871860798",
   "metadata": {},
   "outputs": [],
   "source": [
    "sub_df = pd.read_csv('../input/sample_submission.csv')"
   ]
  },
  {
   "cell_type": "code",
   "execution_count": 63,
   "id": "e7764975-c23f-4293-aadb-169797d87718",
   "metadata": {},
   "outputs": [
    {
     "data": {
      "text/html": [
       "<div>\n",
       "<style scoped>\n",
       "    .dataframe tbody tr th:only-of-type {\n",
       "        vertical-align: middle;\n",
       "    }\n",
       "\n",
       "    .dataframe tbody tr th {\n",
       "        vertical-align: top;\n",
       "    }\n",
       "\n",
       "    .dataframe thead th {\n",
       "        text-align: right;\n",
       "    }\n",
       "</style>\n",
       "<table border=\"1\" class=\"dataframe\">\n",
       "  <thead>\n",
       "    <tr style=\"text-align: right;\">\n",
       "      <th></th>\n",
       "      <th>id</th>\n",
       "      <th>Rings</th>\n",
       "    </tr>\n",
       "  </thead>\n",
       "  <tbody>\n",
       "    <tr>\n",
       "      <th>0</th>\n",
       "      <td>90615</td>\n",
       "      <td>10</td>\n",
       "    </tr>\n",
       "    <tr>\n",
       "      <th>1</th>\n",
       "      <td>90616</td>\n",
       "      <td>10</td>\n",
       "    </tr>\n",
       "    <tr>\n",
       "      <th>2</th>\n",
       "      <td>90617</td>\n",
       "      <td>10</td>\n",
       "    </tr>\n",
       "    <tr>\n",
       "      <th>3</th>\n",
       "      <td>90618</td>\n",
       "      <td>10</td>\n",
       "    </tr>\n",
       "    <tr>\n",
       "      <th>4</th>\n",
       "      <td>90619</td>\n",
       "      <td>10</td>\n",
       "    </tr>\n",
       "  </tbody>\n",
       "</table>\n",
       "</div>"
      ],
      "text/plain": [
       "      id  Rings\n",
       "0  90615     10\n",
       "1  90616     10\n",
       "2  90617     10\n",
       "3  90618     10\n",
       "4  90619     10"
      ]
     },
     "execution_count": 63,
     "metadata": {},
     "output_type": "execute_result"
    }
   ],
   "source": [
    "sub_df.head()"
   ]
  },
  {
   "cell_type": "code",
   "execution_count": 64,
   "id": "796113f9-7756-4ecf-8627-25edf4dfd367",
   "metadata": {},
   "outputs": [
    {
     "data": {
      "text/plain": [
       "True"
      ]
     },
     "execution_count": 64,
     "metadata": {},
     "output_type": "execute_result"
    }
   ],
   "source": [
    "(sub_df['id'] == test_df['id']).all()"
   ]
  },
  {
   "cell_type": "code",
   "execution_count": 113,
   "id": "b24b077c-8b91-47fb-b4a3-5ba511423b4e",
   "metadata": {},
   "outputs": [],
   "source": [
    "# 单模型最优\n",
    "pred_df['Rings'] = pred_df['lgb_bo_log1p']"
   ]
  },
  {
   "cell_type": "code",
   "execution_count": 127,
   "id": "56353a1e-06eb-40f7-84f4-284e1a69afcb",
   "metadata": {},
   "outputs": [],
   "source": [
    "# ensemble cv pred\n",
    "pred_df['Rings'] = ensemble_pred"
   ]
  },
  {
   "cell_type": "code",
   "execution_count": 136,
   "id": "4fafb58e-b6ea-4a64-affd-4f4f9c119367",
   "metadata": {},
   "outputs": [],
   "source": [
    "# ensemble simple pred\n",
    "pred_df['Rings'] = simple_ensemble_pred"
   ]
  },
  {
   "cell_type": "code",
   "execution_count": 172,
   "id": "1f046503-99b2-406b-8929-c94bf7988268",
   "metadata": {},
   "outputs": [],
   "source": [
    "# more data pred cv=0.1487\n",
    "pred_df['Rings'] = pred"
   ]
  },
  {
   "cell_type": "code",
   "execution_count": 173,
   "id": "828e4a57-cbfa-4583-9724-a5485f0a4d48",
   "metadata": {},
   "outputs": [],
   "source": [
    "cols = ['id', 'Rings']\n",
    "pred_df[cols].to_csv('more_data_pred.csv', index=False, header=True)"
   ]
  },
  {
   "cell_type": "code",
   "execution_count": 175,
   "id": "7c5e8063-cd61-452a-b157-a218d09f51dc",
   "metadata": {},
   "outputs": [
    {
     "name": "stdout",
     "output_type": "stream",
     "text": [
      "id,Rings\n",
      "90615,9.837206952449687\n",
      "90616,9.777940900929194\n",
      "90617,9.825952536578335\n",
      "90618,10.639116793945018\n",
      "90619,7.613494892754508\n",
      "90620,9.365750582343113\n",
      "90621,10.682615043884145\n",
      "90622,6.050469067537613\n",
      "90623,7.92449544670273\n"
     ]
    }
   ],
   "source": [
    "!head more_data_pred.csv"
   ]
  },
  {
   "cell_type": "code",
   "execution_count": 67,
   "id": "fe0bc874-a927-4d1f-807d-071752f1bfc1",
   "metadata": {},
   "outputs": [
    {
     "name": "stdout",
     "output_type": "stream",
     "text": [
      "id,Rings\n",
      "90615,10\n",
      "90616,10\n",
      "90617,10\n",
      "90618,10\n",
      "90619,10\n",
      "90620,10\n",
      "90621,10\n",
      "90622,10\n",
      "90623,10\n"
     ]
    }
   ],
   "source": [
    "!head ../input/sample_submission.csv"
   ]
  },
  {
   "cell_type": "code",
   "execution_count": null,
   "id": "a04444cb-49dd-425d-9b2d-6fa1e70f2b1c",
   "metadata": {},
   "outputs": [],
   "source": []
  }
 ],
 "metadata": {
  "kernelspec": {
   "display_name": "Python 3 (ipykernel)",
   "language": "python",
   "name": "python3"
  },
  "language_info": {
   "codemirror_mode": {
    "name": "ipython",
    "version": 3
   },
   "file_extension": ".py",
   "mimetype": "text/x-python",
   "name": "python",
   "nbconvert_exporter": "python",
   "pygments_lexer": "ipython3",
   "version": "3.10.14"
  }
 },
 "nbformat": 4,
 "nbformat_minor": 5
}
