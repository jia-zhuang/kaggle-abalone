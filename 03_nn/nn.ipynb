{
 "cells": [
  {
   "cell_type": "code",
   "execution_count": 1,
   "id": "16112045-1309-4f82-99dd-0fa383445103",
   "metadata": {},
   "outputs": [],
   "source": [
    "import pandas as pd\n",
    "import numpy as np\n",
    "\n",
    "import matplotlib.pyplot as plt\n",
    "%matplotlib inline\n",
    "\n",
    "import lightgbm as lgb\n",
    "\n",
    "from sklearn.model_selection import KFold, StratifiedKFold\n",
    "from sklearn.metrics import mean_squared_log_error\n",
    "from sklearn.model_selection import train_test_split"
   ]
  },
  {
   "cell_type": "markdown",
   "id": "8866ea0e-bf79-4489-a89d-4d8abd5c3f8d",
   "metadata": {
    "slideshow": {
     "slide_type": ""
    },
    "tags": []
   },
   "source": [
    "## 读入数据"
   ]
  },
  {
   "cell_type": "code",
   "execution_count": 2,
   "id": "90c6d48b-c8f3-45dd-8139-f1257af023c1",
   "metadata": {},
   "outputs": [],
   "source": [
    "train_df = pd.read_csv('../input/train.csv')\n",
    "\n",
    "test_df = pd.read_csv('../input/test.csv')"
   ]
  },
  {
   "cell_type": "code",
   "execution_count": 3,
   "id": "f76f7100-fe21-4f02-ad6c-cc854309a245",
   "metadata": {},
   "outputs": [
    {
     "data": {
      "text/plain": [
       "(90615, 60411)"
      ]
     },
     "execution_count": 3,
     "metadata": {},
     "output_type": "execute_result"
    }
   ],
   "source": [
    "train_df.shape[0], test_df.shape[0]"
   ]
  },
  {
   "cell_type": "markdown",
   "id": "4400d880-3c9e-4e79-89ff-dd3526b65926",
   "metadata": {},
   "source": [
    "## 特征工程"
   ]
  },
  {
   "cell_type": "code",
   "execution_count": 4,
   "id": "b618cabd-65f7-4ae8-8dce-6f556db316be",
   "metadata": {},
   "outputs": [],
   "source": [
    "com_df = pd.concat([train_df, test_df], axis=0, ignore_index=True)\n",
    "\n",
    "train_idx = com_df.index[:train_df.shape[0]]\n",
    "test_idx = com_df.index[train_df.shape[0]:]"
   ]
  },
  {
   "cell_type": "code",
   "execution_count": 5,
   "id": "161ac624-9e6e-415e-bf94-d02e2b293a28",
   "metadata": {},
   "outputs": [],
   "source": [
    "Sex2code = {'I': 0, 'M': 1, 'F': 2}\n",
    "com_df['Sex_code'] = com_df['Sex'].map(Sex2code)"
   ]
  },
  {
   "cell_type": "code",
   "execution_count": 6,
   "id": "240c2d68-4190-4c4a-8142-89998e3d6976",
   "metadata": {},
   "outputs": [],
   "source": [
    "com_df['Rings_log1p'] = np.log1p(com_df['Rings'])"
   ]
  },
  {
   "cell_type": "code",
   "execution_count": 7,
   "id": "25d5abc6-7672-4655-8c18-02b21586e74d",
   "metadata": {},
   "outputs": [],
   "source": [
    "train_df = com_df.loc[train_idx]\n",
    "test_df = com_df.loc[test_idx]"
   ]
  },
  {
   "cell_type": "code",
   "execution_count": 9,
   "id": "ecaf7286-8062-4091-afe5-d5e60601b51b",
   "metadata": {},
   "outputs": [],
   "source": [
    "train_cols = [c for c in train_df.columns if c not in {'id', 'Rings', 'Rings_log1p', 'Sex'}]"
   ]
  },
  {
   "cell_type": "code",
   "execution_count": 10,
   "id": "4fdfa555",
   "metadata": {},
   "outputs": [
    {
     "data": {
      "text/plain": [
       "['Length',\n",
       " 'Diameter',\n",
       " 'Height',\n",
       " 'Whole weight',\n",
       " 'Whole weight.1',\n",
       " 'Whole weight.2',\n",
       " 'Shell weight',\n",
       " 'Sex_code']"
      ]
     },
     "execution_count": 10,
     "metadata": {},
     "output_type": "execute_result"
    }
   ],
   "source": [
    "train_cols"
   ]
  },
  {
   "cell_type": "code",
   "execution_count": 11,
   "id": "aad1a421-4e9f-4fdf-b6fa-f3fa72919264",
   "metadata": {},
   "outputs": [],
   "source": [
    "target_col = 'Rings'"
   ]
  },
  {
   "cell_type": "markdown",
   "id": "b201d79c",
   "metadata": {},
   "source": [
    "## 建模"
   ]
  },
  {
   "cell_type": "markdown",
   "id": "0efe23d1",
   "metadata": {},
   "source": [
    "### 数据集划分"
   ]
  },
  {
   "cell_type": "code",
   "execution_count": 13,
   "id": "f2c8ffde",
   "metadata": {},
   "outputs": [],
   "source": [
    "trn_idx, val_idx = train_test_split(train_df.index, test_size=0.2, random_state=42)"
   ]
  },
  {
   "cell_type": "code",
   "execution_count": 14,
   "id": "717b07fc",
   "metadata": {},
   "outputs": [
    {
     "data": {
      "text/plain": [
       "(72492, 18123)"
      ]
     },
     "execution_count": 14,
     "metadata": {},
     "output_type": "execute_result"
    }
   ],
   "source": [
    "len(trn_idx), len(val_idx)"
   ]
  },
  {
   "cell_type": "markdown",
   "id": "97cf2996",
   "metadata": {},
   "source": [
    "### lgb"
   ]
  },
  {
   "cell_type": "code",
   "execution_count": 32,
   "id": "92415f24",
   "metadata": {},
   "outputs": [],
   "source": [
    "trn_data = lgb.Dataset(train_df.loc[trn_idx, train_cols], train_df.loc[trn_idx, target_col], categorical_feature=['Sex_code'])\n",
    "val_data = lgb.Dataset(train_df.loc[val_idx, train_cols], train_df.loc[val_idx, target_col], categorical_feature=['Sex_code'])"
   ]
  },
  {
   "cell_type": "code",
   "execution_count": 33,
   "id": "5865af3b",
   "metadata": {},
   "outputs": [],
   "source": [
    "params = {\n",
    "    'num_threads': 8,\n",
    "    'objective': 'regression',\n",
    "    'learning_rate': 0.05,\n",
    "    'num_leaves': 31,\n",
    "    'min_data_in_leaf': 20,\n",
    "    'bagging_fraction': 0.8,\n",
    "    'feature_fraction': 0.8,\n",
    "    'reg_lambda': 1.0,\n",
    "    'metric': 'l2',\n",
    "    'early_stopping_rounds': 400,\n",
    "}"
   ]
  },
  {
   "cell_type": "code",
   "execution_count": 34,
   "id": "db7ccf5a",
   "metadata": {
    "scrolled": true
   },
   "outputs": [
    {
     "name": "stdout",
     "output_type": "stream",
     "text": [
      "[LightGBM] [Warning] Found whitespace in feature_names, replace with underlines\n",
      "[LightGBM] [Info] Auto-choosing col-wise multi-threading, the overhead of testing was 0.014758 seconds.\n",
      "You can set `force_col_wise=true` to remove the overhead.\n",
      "[LightGBM] [Info] Total Bins 1331\n",
      "[LightGBM] [Info] Number of data points in the train set: 72492, number of used features: 8\n",
      "[LightGBM] [Warning] Found whitespace in feature_names, replace with underlines\n",
      "[LightGBM] [Info] Start training from score 9.697111\n",
      "Training until validation scores don't improve for 400 rounds\n",
      "[200]\tvalid_0's l2: 3.50777\n",
      "[400]\tvalid_0's l2: 3.46045\n",
      "[600]\tvalid_0's l2: 3.44399\n",
      "[800]\tvalid_0's l2: 3.42847\n",
      "[1000]\tvalid_0's l2: 3.42392\n",
      "[1200]\tvalid_0's l2: 3.42476\n",
      "Early stopping, best iteration is:\n",
      "[995]\tvalid_0's l2: 3.42334\n"
     ]
    }
   ],
   "source": [
    "model = lgb.train(params, trn_data, 10000, valid_sets=val_data, callbacks=[lgb.log_evaluation(200)])"
   ]
  },
  {
   "cell_type": "code",
   "execution_count": 35,
   "id": "71e0ed60",
   "metadata": {},
   "outputs": [],
   "source": [
    "oof = model.predict(train_df.loc[val_idx, train_cols], num_iteration=model.best_iteration)"
   ]
  },
  {
   "cell_type": "code",
   "execution_count": 36,
   "id": "e38c8013",
   "metadata": {
    "scrolled": true
   },
   "outputs": [
    {
     "data": {
      "text/plain": [
       "0.1509937174166167"
      ]
     },
     "execution_count": 36,
     "metadata": {},
     "output_type": "execute_result"
    }
   ],
   "source": [
    "mean_squared_log_error(train_df.loc[val_idx, 'Rings'], oof, squared=False)"
   ]
  },
  {
   "cell_type": "markdown",
   "id": "5e73ae63",
   "metadata": {},
   "source": [
    "### NN"
   ]
  },
  {
   "cell_type": "code",
   "execution_count": 37,
   "id": "1f4fa718",
   "metadata": {},
   "outputs": [],
   "source": [
    "import torch\n",
    "import torch.nn as nn\n",
    "import torch.nn.functional as F\n",
    "import torch.optim as optim"
   ]
  },
  {
   "cell_type": "markdown",
   "id": "13915361",
   "metadata": {},
   "source": [
    "#### 网络搭建"
   ]
  },
  {
   "cell_type": "code",
   "execution_count": 38,
   "id": "0ff7b5fc",
   "metadata": {},
   "outputs": [],
   "source": [
    "class SimpleRegressionNet(nn.Module):\n",
    "    def __init__(self, embedding_sizes, num_numeric_features, output_size, hidden_layers):\n",
    "        '''\n",
    "        embedding_sizes: [(num_cat1, emb_size1), ...]\n",
    "        num_numeric_features: integer\n",
    "        output_size: integer\n",
    "        hidden_layers: list of integer\n",
    "        '''\n",
    "        super().__init__()\n",
    "        self.embeddings = nn.ModuleList([\n",
    "            nn.Embedding(num_cat, size) for num_cat, size in embedding_sizes\n",
    "        ])\n",
    "        num_embeddings_out = sum(e.embedding_dim for e in self.embeddings)\n",
    "        \n",
    "        self.fc_layers = nn.Sequential()\n",
    "        input_size = num_numeric_features + num_embeddings_out\n",
    "        for i, hidden_size in enumerate(hidden_layers):\n",
    "            self.fc_layers.add_module(f'fc{i}', nn.Linear(input_size, hidden_size))\n",
    "            self.fc_layers.add_module(f'relu{i}', nn.ReLU())\n",
    "            input_size = hidden_size\n",
    "        \n",
    "        self.output_layer = nn.Linear(input_size, output_size)\n",
    "    \n",
    "    def forward(self, x_numeric, x_categorical):\n",
    "        embeddings = [embedding(cat) for embedding, cat in zip(self.embeddings, x_categorical)]\n",
    "        x_embedding = torch.cat(embeddings, 1)\n",
    "        x = torch.cat((x_embedding, x_numeric), 1)\n",
    "        x = self.fc_layers(x)\n",
    "        x = self.output_layer(x)\n",
    "        return x"
   ]
  },
  {
   "cell_type": "code",
   "execution_count": 41,
   "id": "6d263e3f",
   "metadata": {},
   "outputs": [],
   "source": [
    "embedding_sizes = [\n",
    "    (3, 4)    # Sex_code 有三个取值 M / F / I; 对于简单数据，embedding size设小一点，比如4\n",
    "]\n",
    "\n",
    "num_numeric_features = len(train_cols) - 1\n",
    "\n",
    "output_size = 1    # 回归模型，映射到一个值上\n",
    "\n",
    "hidden_layers = [32, 16]    # 两层隐藏层\n",
    "\n",
    "model = SimpleRegressionNet(embedding_sizes, num_numeric_features, output_size, hidden_layers)"
   ]
  },
  {
   "cell_type": "code",
   "execution_count": 65,
   "id": "1051a5a3",
   "metadata": {},
   "outputs": [],
   "source": [
    "# 取一部分数据做测试\n",
    "numeric_feats = [c for c in train_cols if c != 'Sex_code']\n",
    "categorical_feats = ['Sex_code']\n",
    "\n",
    "batch_size = 4\n",
    "x_numeric = torch.tensor(train_df[numeric_feats].values[:batch_size], dtype=torch.float32)\n",
    "x_categorical = torch.tensor(train_df[categorical_feats].values[:batch_size].transpose(1, 0), dtype=torch.long)"
   ]
  },
  {
   "cell_type": "code",
   "execution_count": 66,
   "id": "8b08fe08",
   "metadata": {},
   "outputs": [
    {
     "data": {
      "text/plain": [
       "(torch.Size([4, 7]), torch.Size([1, 4]))"
      ]
     },
     "execution_count": 66,
     "metadata": {},
     "output_type": "execute_result"
    }
   ],
   "source": [
    "x_numeric.size(), x_categorical.size()"
   ]
  },
  {
   "cell_type": "code",
   "execution_count": 67,
   "id": "65bb21b6",
   "metadata": {},
   "outputs": [],
   "source": [
    "output = model(x_numeric, x_categorical)"
   ]
  },
  {
   "cell_type": "code",
   "execution_count": 68,
   "id": "8922d4cf",
   "metadata": {
    "scrolled": true
   },
   "outputs": [
    {
     "data": {
      "text/plain": [
       "tensor([[-0.1078],\n",
       "        [-0.1070],\n",
       "        [-0.1155],\n",
       "        [-0.1096]], grad_fn=<AddmmBackward0>)"
      ]
     },
     "execution_count": 68,
     "metadata": {},
     "output_type": "execute_result"
    }
   ],
   "source": [
    "output"
   ]
  },
  {
   "cell_type": "markdown",
   "id": "7949b4b4",
   "metadata": {},
   "source": [
    "#### dataloader"
   ]
  },
  {
   "cell_type": "code",
   "execution_count": 69,
   "id": "f2a40cef",
   "metadata": {},
   "outputs": [],
   "source": [
    "from torch.utils.data.dataset import Dataset"
   ]
  },
  {
   "cell_type": "code",
   "execution_count": 86,
   "id": "bf886d72",
   "metadata": {},
   "outputs": [],
   "source": [
    "from torch.utils.data import DataLoader"
   ]
  },
  {
   "cell_type": "code",
   "execution_count": 78,
   "id": "6627b5a9",
   "metadata": {},
   "outputs": [],
   "source": [
    "class AbaloneDataset(Dataset):\n",
    "    def __init__(self, train_df, numeric_feats, categorical_feats, trn_idx, val_idx, mode):\n",
    "        target_idx = trn_idx if mode == 'train' else val_idx\n",
    "        self.numeric_data = train_df.loc[target_idx, numeric_feats].values\n",
    "        self.categorical_data = train_df.loc[target_idx, categorical_feats].values\n",
    "        self.target = train_df.loc[target_idx, 'Rings'].values\n",
    "        \n",
    "    \n",
    "    def __len__(self):\n",
    "        return self.numeric_data.shape[0]\n",
    "    \n",
    "    def __getitem__(self, i):\n",
    "        return {\n",
    "            'x_numeric': self.numeric_data[i],\n",
    "            'x_categorical': self.categorical_data[i],\n",
    "            'y': self.target[i],\n",
    "        }"
   ]
  },
  {
   "cell_type": "code",
   "execution_count": 79,
   "id": "16aa1ba8",
   "metadata": {},
   "outputs": [],
   "source": [
    "train_data = AbaloneDataset(\n",
    "    train_df, \n",
    "    numeric_feats, \n",
    "    categorical_feats,\n",
    "    trn_idx,\n",
    "    val_idx,\n",
    "    mode='train',\n",
    ")"
   ]
  },
  {
   "cell_type": "code",
   "execution_count": 80,
   "id": "db51c370",
   "metadata": {},
   "outputs": [],
   "source": [
    "val_data = AbaloneDataset(\n",
    "    train_df, \n",
    "    numeric_feats, \n",
    "    categorical_feats,\n",
    "    trn_idx,\n",
    "    val_idx,\n",
    "    mode='val',\n",
    ")"
   ]
  },
  {
   "cell_type": "code",
   "execution_count": null,
   "id": "d1fba801",
   "metadata": {},
   "outputs": [],
   "source": []
  },
  {
   "cell_type": "code",
   "execution_count": 120,
   "id": "686aeac9",
   "metadata": {},
   "outputs": [],
   "source": [
    "batch_size = 1024"
   ]
  },
  {
   "cell_type": "code",
   "execution_count": 121,
   "id": "434b606a",
   "metadata": {},
   "outputs": [],
   "source": [
    "def data_collator(features):\n",
    "    batch = {}\n",
    "    batch['x_numeric'] = torch.tensor([f['x_numeric'] for f in features], dtype=torch.float32)\n",
    "    \n",
    "    x_categorical = np.vstack([f['x_categorical'] for f in features]).transpose(1, 0)\n",
    "    batch['x_categorical'] = torch.tensor(x_categorical, dtype=torch.long)\n",
    "    \n",
    "    batch['y'] = torch.tensor([f['y'] for f in features], dtype=torch.float32)\n",
    "    \n",
    "    return batch"
   ]
  },
  {
   "cell_type": "code",
   "execution_count": 122,
   "id": "ef2af38b",
   "metadata": {},
   "outputs": [],
   "source": [
    "train_loader = DataLoader(train_data, batch_size=batch_size, shuffle=True, collate_fn=data_collator)"
   ]
  },
  {
   "cell_type": "code",
   "execution_count": 123,
   "id": "3503f899",
   "metadata": {},
   "outputs": [],
   "source": [
    "val_loader = DataLoader(val_data, batch_size=batch_size, shuffle=False, collate_fn=data_collator)"
   ]
  },
  {
   "cell_type": "markdown",
   "id": "5bd3b6f3",
   "metadata": {},
   "source": [
    "#### 训练"
   ]
  },
  {
   "cell_type": "code",
   "execution_count": 153,
   "id": "8b250249",
   "metadata": {},
   "outputs": [],
   "source": [
    "model = SimpleRegressionNet(embedding_sizes, num_numeric_features, output_size, hidden_layers)"
   ]
  },
  {
   "cell_type": "code",
   "execution_count": 154,
   "id": "d3a900af",
   "metadata": {},
   "outputs": [
    {
     "data": {
      "text/plain": [
       "SimpleRegressionNet(\n",
       "  (embeddings): ModuleList(\n",
       "    (0): Embedding(3, 4)\n",
       "  )\n",
       "  (fc_layers): Sequential(\n",
       "    (fc0): Linear(in_features=11, out_features=32, bias=True)\n",
       "    (relu0): ReLU()\n",
       "    (fc1): Linear(in_features=32, out_features=16, bias=True)\n",
       "    (relu1): ReLU()\n",
       "  )\n",
       "  (output_layer): Linear(in_features=16, out_features=1, bias=True)\n",
       ")"
      ]
     },
     "execution_count": 154,
     "metadata": {},
     "output_type": "execute_result"
    }
   ],
   "source": [
    "# 设置device，优先使用GPU\n",
    "device = torch.device(\"cuda\" if torch.cuda.is_available() else \"cpu\")\n",
    "model.to(device)"
   ]
  },
  {
   "cell_type": "code",
   "execution_count": 155,
   "id": "918b7edd",
   "metadata": {},
   "outputs": [],
   "source": [
    "# 定义损失函数和优化器\n",
    "criterion = nn.MSELoss()  # 回归问题常用的均方误差损失\n",
    "optimizer = optim.Adam(model.parameters(), lr=0.001)"
   ]
  },
  {
   "cell_type": "code",
   "execution_count": 156,
   "id": "f638b60d",
   "metadata": {
    "scrolled": true
   },
   "outputs": [
    {
     "name": "stdout",
     "output_type": "stream",
     "text": [
      "Epoch 1/200, Loss: 95.85523836377641\n",
      "Val RMSLE: 1.433043360710144\n",
      "\n",
      "Epoch 2/200, Loss: 34.69235839306469\n",
      "Val RMSLE: 0.2850308120250702\n",
      "\n",
      "Epoch 3/200, Loss: 8.287937298626966\n",
      "Val RMSLE: 0.20913471281528473\n",
      "\n",
      "Epoch 4/200, Loss: 6.0997894515453925\n",
      "Val RMSLE: 0.19742609560489655\n",
      "\n",
      "Epoch 5/200, Loss: 5.829071696375458\n",
      "Val RMSLE: 0.19684842228889465\n",
      "\n",
      "Epoch 6/200, Loss: 5.77192325995002\n",
      "Val RMSLE: 0.19690431654453278\n",
      "\n",
      "Epoch 7/200, Loss: 5.732550715056943\n",
      "Val RMSLE: 0.19510096311569214\n",
      "\n",
      "Epoch 8/200, Loss: 5.687398520993515\n",
      "Val RMSLE: 0.1951582133769989\n",
      "\n",
      "Epoch 9/200, Loss: 5.6453459833709285\n",
      "Val RMSLE: 0.19459585845470428\n",
      "\n",
      "Epoch 10/200, Loss: 5.60284720676046\n",
      "Val RMSLE: 0.1936207413673401\n",
      "\n",
      "Epoch 11/200, Loss: 5.554596088301968\n",
      "Val RMSLE: 0.1926184594631195\n",
      "\n",
      "Epoch 12/200, Loss: 5.489132249859018\n",
      "Val RMSLE: 0.19283244013786316\n",
      "\n",
      "Epoch 13/200, Loss: 5.420832345183467\n",
      "Val RMSLE: 0.19119460880756378\n",
      "\n",
      "Epoch 14/200, Loss: 5.349985619665871\n",
      "Val RMSLE: 0.18977122008800507\n",
      "\n",
      "Epoch 15/200, Loss: 5.2714110898299955\n",
      "Val RMSLE: 0.1882287859916687\n",
      "\n",
      "Epoch 16/200, Loss: 5.179433016709878\n",
      "Val RMSLE: 0.18578416109085083\n",
      "\n",
      "Epoch 17/200, Loss: 5.084280786379962\n",
      "Val RMSLE: 0.18452425301074982\n",
      "\n",
      "Epoch 18/200, Loss: 4.975816397599771\n",
      "Val RMSLE: 0.1831590235233307\n",
      "\n",
      "Epoch 19/200, Loss: 4.85976548933647\n",
      "Val RMSLE: 0.18022452294826508\n",
      "\n",
      "Epoch 20/200, Loss: 4.736181474067796\n",
      "Val RMSLE: 0.17778520286083221\n",
      "\n",
      "Epoch 21/200, Loss: 4.605922537790218\n",
      "Val RMSLE: 0.1752711981534958\n",
      "\n",
      "Epoch 22/200, Loss: 4.4849477821672465\n",
      "Val RMSLE: 0.17307789623737335\n",
      "\n",
      "Epoch 23/200, Loss: 4.363703616907899\n",
      "Val RMSLE: 0.17192913591861725\n",
      "\n",
      "Epoch 24/200, Loss: 4.229812783254704\n",
      "Val RMSLE: 0.16941578686237335\n",
      "\n",
      "Epoch 25/200, Loss: 4.1103775669151625\n",
      "Val RMSLE: 0.16791032254695892\n",
      "\n",
      "Epoch 26/200, Loss: 4.021787552766397\n",
      "Val RMSLE: 0.16552239656448364\n",
      "\n",
      "Epoch 27/200, Loss: 3.9681449507323787\n",
      "Val RMSLE: 0.1643991470336914\n",
      "\n",
      "Epoch 28/200, Loss: 3.917657288027481\n",
      "Val RMSLE: 0.16364876925945282\n",
      "\n",
      "Epoch 29/200, Loss: 3.8900478222000765\n",
      "Val RMSLE: 0.16366684436798096\n",
      "\n",
      "Epoch 30/200, Loss: 3.8724392837202046\n",
      "Val RMSLE: 0.16438798606395721\n",
      "\n",
      "Epoch 31/200, Loss: 3.857048538369192\n",
      "Val RMSLE: 0.16263721883296967\n",
      "\n",
      "Epoch 32/200, Loss: 3.845984949192531\n",
      "Val RMSLE: 0.1629801243543625\n",
      "\n",
      "Epoch 33/200, Loss: 3.8384379165273317\n",
      "Val RMSLE: 0.16245236992835999\n",
      "\n",
      "Epoch 34/200, Loss: 3.830523756188406\n",
      "Val RMSLE: 0.1623561978340149\n",
      "\n",
      "Epoch 35/200, Loss: 3.8311000273261273\n",
      "Val RMSLE: 0.16344541311264038\n",
      "\n",
      "Epoch 36/200, Loss: 3.825414540062488\n",
      "Val RMSLE: 0.16295471787452698\n",
      "\n",
      "Epoch 37/200, Loss: 3.8190398115507316\n",
      "Val RMSLE: 0.16324469447135925\n",
      "\n",
      "Epoch 38/200, Loss: 3.8149813262509626\n",
      "Val RMSLE: 0.16253671050071716\n",
      "\n",
      "Epoch 39/200, Loss: 3.8159905050841854\n",
      "Val RMSLE: 0.16319850087165833\n",
      "\n",
      "Epoch 40/200, Loss: 3.812981189136774\n",
      "Val RMSLE: 0.16240611672401428\n",
      "\n",
      "Epoch 41/200, Loss: 3.806548639082573\n",
      "Val RMSLE: 0.1627066284418106\n",
      "\n",
      "Epoch 42/200, Loss: 3.80195762070132\n",
      "Val RMSLE: 0.16226202249526978\n",
      "\n",
      "Epoch 43/200, Loss: 3.803366096926407\n",
      "Val RMSLE: 0.1624106764793396\n",
      "\n",
      "Epoch 44/200, Loss: 3.795887574343614\n",
      "Val RMSLE: 0.16165342926979065\n",
      "\n",
      "Epoch 45/200, Loss: 3.7985055379464594\n",
      "Val RMSLE: 0.16250938177108765\n",
      "\n",
      "Epoch 46/200, Loss: 3.789056294400927\n",
      "Val RMSLE: 0.1617221236228943\n",
      "\n",
      "Epoch 47/200, Loss: 3.783875824699939\n",
      "Val RMSLE: 0.16162297129631042\n",
      "\n",
      "Epoch 48/200, Loss: 3.7823210837135854\n",
      "Val RMSLE: 0.16147790849208832\n",
      "\n",
      "Epoch 49/200, Loss: 3.777190050608675\n",
      "Val RMSLE: 0.16232222318649292\n",
      "\n",
      "Epoch 50/200, Loss: 3.7793725040596975\n",
      "Val RMSLE: 0.16095812618732452\n",
      "\n",
      "Epoch 51/200, Loss: 3.773779274712146\n",
      "Val RMSLE: 0.1616848111152649\n",
      "\n",
      "Epoch 52/200, Loss: 3.772544709729477\n",
      "Val RMSLE: 0.16133402287960052\n",
      "\n",
      "Epoch 53/200, Loss: 3.768399312462605\n",
      "Val RMSLE: 0.16145208477973938\n",
      "\n",
      "Epoch 54/200, Loss: 3.7586566562383945\n",
      "Val RMSLE: 0.1611129343509674\n",
      "\n",
      "Epoch 55/200, Loss: 3.755698193966503\n",
      "Val RMSLE: 0.16149935126304626\n",
      "\n",
      "Epoch 56/200, Loss: 3.7485309083696823\n",
      "Val RMSLE: 0.1608847826719284\n",
      "\n",
      "Epoch 57/200, Loss: 3.748250595280822\n",
      "Val RMSLE: 0.16015736758708954\n",
      "\n",
      "Epoch 58/200, Loss: 3.7445289853592993\n",
      "Val RMSLE: 0.16076959669589996\n",
      "\n",
      "Epoch 59/200, Loss: 3.741178438697063\n",
      "Val RMSLE: 0.16059739887714386\n",
      "\n",
      "Epoch 60/200, Loss: 3.752085225682863\n",
      "Val RMSLE: 0.16077332198619843\n",
      "\n",
      "Epoch 61/200, Loss: 3.7418936339902205\n",
      "Val RMSLE: 0.16052770614624023\n",
      "\n",
      "Epoch 62/200, Loss: 3.7328686546271954\n",
      "Val RMSLE: 0.1599990427494049\n",
      "\n",
      "Epoch 63/200, Loss: 3.725869662325147\n",
      "Val RMSLE: 0.16031713783740997\n",
      "\n",
      "Epoch 64/200, Loss: 3.7323978148715597\n",
      "Val RMSLE: 0.16033513844013214\n",
      "\n",
      "Epoch 65/200, Loss: 3.7255823746533463\n",
      "Val RMSLE: 0.16056886315345764\n",
      "\n",
      "Epoch 66/200, Loss: 3.7315630946360843\n",
      "Val RMSLE: 0.1595255732536316\n",
      "\n",
      "Epoch 67/200, Loss: 3.719770690085183\n",
      "Val RMSLE: 0.16101853549480438\n",
      "\n",
      "Epoch 68/200, Loss: 3.720863510185564\n",
      "Val RMSLE: 0.16115835309028625\n",
      "\n",
      "Epoch 69/200, Loss: 3.720953514878179\n",
      "Val RMSLE: 0.15990452468395233\n",
      "\n",
      "Epoch 70/200, Loss: 3.7137377396435807\n",
      "Val RMSLE: 0.15950216352939606\n",
      "\n",
      "Epoch 71/200, Loss: 3.7139642003556372\n",
      "Val RMSLE: 0.16017349064350128\n",
      "\n",
      "Epoch 72/200, Loss: 3.7065881876878337\n",
      "Val RMSLE: 0.15972867608070374\n",
      "\n",
      "Epoch 73/200, Loss: 3.707801570355053\n",
      "Val RMSLE: 0.159340500831604\n",
      "\n",
      "Epoch 74/200, Loss: 3.70201472833123\n",
      "Val RMSLE: 0.16091936826705933\n",
      "\n",
      "Epoch 75/200, Loss: 3.7032664057234643\n",
      "Val RMSLE: 0.15937596559524536\n",
      "\n",
      "Epoch 76/200, Loss: 3.697406684848624\n",
      "Val RMSLE: 0.15939131379127502\n",
      "\n",
      "Epoch 77/200, Loss: 3.696758105721272\n",
      "Val RMSLE: 0.15928083658218384\n",
      "\n",
      "Epoch 78/200, Loss: 3.694787875027724\n",
      "Val RMSLE: 0.15988443791866302\n",
      "\n",
      "Epoch 79/200, Loss: 3.6938302281876685\n",
      "Val RMSLE: 0.1595936417579651\n",
      "\n",
      "Epoch 80/200, Loss: 3.6905412942590847\n",
      "Val RMSLE: 0.1600358635187149\n",
      "\n",
      "Epoch 81/200, Loss: 3.694810602026926\n",
      "Val RMSLE: 0.159616619348526\n",
      "\n",
      "Epoch 82/200, Loss: 3.687734926250619\n",
      "Val RMSLE: 0.16021861135959625\n",
      "\n",
      "Epoch 83/200, Loss: 3.6858539480558585\n",
      "Val RMSLE: 0.1599879264831543\n",
      "\n",
      "Epoch 84/200, Loss: 3.685276384084997\n",
      "Val RMSLE: 0.15892086923122406\n",
      "\n",
      "Epoch 85/200, Loss: 3.6865902249242217\n",
      "Val RMSLE: 0.1601642221212387\n",
      "\n",
      "Epoch 86/200, Loss: 3.6797040852022844\n",
      "Val RMSLE: 0.15895234048366547\n",
      "\n",
      "Epoch 87/200, Loss: 3.6857815527580153\n",
      "Val RMSLE: 0.15966472029685974\n",
      "\n",
      "Epoch 88/200, Loss: 3.6941940750874265\n",
      "Val RMSLE: 0.16038580238819122\n",
      "\n",
      "Epoch 89/200, Loss: 3.6777703359093463\n",
      "Val RMSLE: 0.15877775847911835\n",
      "\n",
      "Epoch 90/200, Loss: 3.6777897116164087\n",
      "Val RMSLE: 0.15989230573177338\n",
      "\n",
      "Epoch 91/200, Loss: 3.6748390365654315\n",
      "Val RMSLE: 0.15977048873901367\n",
      "\n",
      "Epoch 92/200, Loss: 3.6729382662705974\n",
      "Val RMSLE: 0.1600266546010971\n",
      "\n",
      "Epoch 93/200, Loss: 3.669868267757792\n",
      "Val RMSLE: 0.15889550745487213\n",
      "\n",
      "Epoch 94/200, Loss: 3.6671834428545456\n",
      "Val RMSLE: 0.15894421935081482\n",
      "\n",
      "Epoch 95/200, Loss: 3.6667314751047484\n",
      "Val RMSLE: 0.15870916843414307\n",
      "\n",
      "Epoch 96/200, Loss: 3.672731661460769\n",
      "Val RMSLE: 0.15953734517097473\n",
      "\n",
      "Epoch 97/200, Loss: 3.6672475136501688\n",
      "Val RMSLE: 0.15878939628601074\n",
      "\n",
      "Epoch 98/200, Loss: 3.6696057487541522\n",
      "Val RMSLE: 0.16070842742919922\n",
      "\n",
      "Epoch 99/200, Loss: 3.665635605932961\n",
      "Val RMSLE: 0.1589251160621643\n",
      "\n",
      "Epoch 100/200, Loss: 3.6617847462775\n",
      "Val RMSLE: 0.15935100615024567\n",
      "\n",
      "Epoch 101/200, Loss: 3.665728058613522\n",
      "Val RMSLE: 0.1589430570602417\n",
      "\n",
      "Epoch 102/200, Loss: 3.667847797904216\n",
      "Val RMSLE: 0.15993782877922058\n",
      "\n",
      "Epoch 103/200, Loss: 3.663884995688855\n",
      "Val RMSLE: 0.1587691307067871\n",
      "\n",
      "Epoch 104/200, Loss: 3.6603805918089103\n",
      "Val RMSLE: 0.15863114595413208\n",
      "\n",
      "Epoch 105/200, Loss: 3.6563241179560273\n",
      "Val RMSLE: 0.15895311534404755\n",
      "\n",
      "Epoch 106/200, Loss: 3.6562445969648762\n",
      "Val RMSLE: 0.15876173973083496\n",
      "\n",
      "Epoch 107/200, Loss: 3.658932779876279\n",
      "Val RMSLE: 0.15851011872291565\n",
      "\n",
      "Epoch 108/200, Loss: 3.6530486731462077\n",
      "Val RMSLE: 0.15943609178066254\n",
      "\n",
      "Epoch 109/200, Loss: 3.650856169176773\n",
      "Val RMSLE: 0.16099032759666443\n",
      "\n",
      "Epoch 110/200, Loss: 3.662193368858015\n",
      "Val RMSLE: 0.15836334228515625\n",
      "\n",
      "Epoch 111/200, Loss: 3.6562678410973346\n",
      "Val RMSLE: 0.16068431735038757\n",
      "\n",
      "Epoch 112/200, Loss: 3.651638625373303\n",
      "Val RMSLE: 0.15857668220996857\n",
      "\n",
      "Epoch 113/200, Loss: 3.64925388886895\n",
      "Val RMSLE: 0.1590442657470703\n",
      "\n",
      "Epoch 114/200, Loss: 3.6489058413975677\n",
      "Val RMSLE: 0.15833944082260132\n",
      "\n",
      "Epoch 115/200, Loss: 3.6455208650777036\n",
      "Val RMSLE: 0.15963582694530487\n",
      "\n",
      "Epoch 116/200, Loss: 3.644440553557705\n",
      "Val RMSLE: 0.15850244462490082\n",
      "\n",
      "Epoch 117/200, Loss: 3.646064090057158\n",
      "Val RMSLE: 0.15846678614616394\n",
      "\n"
     ]
    },
    {
     "name": "stdout",
     "output_type": "stream",
     "text": [
      "Epoch 118/200, Loss: 3.6504028313596484\n",
      "Val RMSLE: 0.15825197100639343\n",
      "\n",
      "Epoch 119/200, Loss: 3.6484573760502776\n",
      "Val RMSLE: 0.15844100713729858\n",
      "\n",
      "Epoch 120/200, Loss: 3.6426312889851316\n",
      "Val RMSLE: 0.158634215593338\n",
      "\n",
      "Epoch 121/200, Loss: 3.6444547478581817\n",
      "Val RMSLE: 0.15843123197555542\n",
      "\n",
      "Epoch 122/200, Loss: 3.640280031822097\n",
      "Val RMSLE: 0.15932051837444305\n",
      "\n",
      "Epoch 123/200, Loss: 3.637916749631855\n",
      "Val RMSLE: 0.1583409607410431\n",
      "\n",
      "Epoch 124/200, Loss: 3.639391318173476\n",
      "Val RMSLE: 0.15842384099960327\n",
      "\n",
      "Epoch 125/200, Loss: 3.6401586633333016\n",
      "Val RMSLE: 0.15935368835926056\n",
      "\n",
      "Epoch 126/200, Loss: 3.6452722683758805\n",
      "Val RMSLE: 0.15828865766525269\n",
      "\n",
      "Epoch 127/200, Loss: 3.6421586224730587\n",
      "Val RMSLE: 0.1582944393157959\n",
      "\n",
      "Epoch 128/200, Loss: 3.638798283859038\n",
      "Val RMSLE: 0.1581742763519287\n",
      "\n",
      "Epoch 129/200, Loss: 3.6347125113849907\n",
      "Val RMSLE: 0.1603325754404068\n",
      "\n",
      "Epoch 130/200, Loss: 3.6373529937905325\n",
      "Val RMSLE: 0.15877017378807068\n",
      "\n",
      "Epoch 131/200, Loss: 3.637089789753229\n",
      "Val RMSLE: 0.15849409997463226\n",
      "\n",
      "Epoch 132/200, Loss: 3.6347629083714015\n",
      "Val RMSLE: 0.1582372486591339\n",
      "\n",
      "Epoch 133/200, Loss: 3.6345668913612905\n",
      "Val RMSLE: 0.15923650562763214\n",
      "\n",
      "Epoch 134/200, Loss: 3.639929237500043\n",
      "Val RMSLE: 0.15815842151641846\n",
      "\n",
      "Epoch 135/200, Loss: 3.631101151587258\n",
      "Val RMSLE: 0.15891999006271362\n",
      "\n",
      "Epoch 136/200, Loss: 3.62663188450773\n",
      "Val RMSLE: 0.15824726223945618\n",
      "\n",
      "Epoch 137/200, Loss: 3.6268112793774674\n",
      "Val RMSLE: 0.15867680311203003\n",
      "\n",
      "Epoch 138/200, Loss: 3.628772890064078\n",
      "Val RMSLE: 0.15827183425426483\n",
      "\n",
      "Epoch 139/200, Loss: 3.628077708499532\n",
      "Val RMSLE: 0.15911266207695007\n",
      "\n",
      "Epoch 140/200, Loss: 3.634420912030717\n",
      "Val RMSLE: 0.15837450325489044\n",
      "\n",
      "Epoch 141/200, Loss: 3.6286769853511327\n",
      "Val RMSLE: 0.1600785255432129\n",
      "\n",
      "Epoch 142/200, Loss: 3.628122762894966\n",
      "Val RMSLE: 0.1584700495004654\n",
      "\n",
      "Epoch 143/200, Loss: 3.6234734461341107\n",
      "Val RMSLE: 0.15891917049884796\n",
      "\n",
      "Epoch 144/200, Loss: 3.6262702169552656\n",
      "Val RMSLE: 0.15832597017288208\n",
      "\n",
      "Epoch 145/200, Loss: 3.6253415497256\n",
      "Val RMSLE: 0.1579592376947403\n",
      "\n",
      "Epoch 146/200, Loss: 3.624164708903138\n",
      "Val RMSLE: 0.15790314972400665\n",
      "\n",
      "Epoch 147/200, Loss: 3.620781230254912\n",
      "Val RMSLE: 0.15827514231204987\n",
      "\n",
      "Epoch 148/200, Loss: 3.6226619330930037\n",
      "Val RMSLE: 0.15826241672039032\n",
      "\n",
      "Epoch 149/200, Loss: 3.6203046415893123\n",
      "Val RMSLE: 0.15874168276786804\n",
      "\n",
      "Epoch 150/200, Loss: 3.6209299799422143\n",
      "Val RMSLE: 0.15830962359905243\n",
      "\n",
      "Epoch 151/200, Loss: 3.6210741325163505\n",
      "Val RMSLE: 0.15793868899345398\n",
      "\n",
      "Epoch 152/200, Loss: 3.6224914503769137\n",
      "Val RMSLE: 0.15997713804244995\n",
      "\n",
      "Epoch 153/200, Loss: 3.6179550802203972\n",
      "Val RMSLE: 0.15796801447868347\n",
      "\n",
      "Epoch 154/200, Loss: 3.6209021084745165\n",
      "Val RMSLE: 0.15812058746814728\n",
      "\n",
      "Epoch 155/200, Loss: 3.617923850744543\n",
      "Val RMSLE: 0.15862180292606354\n",
      "\n",
      "Epoch 156/200, Loss: 3.624774902639255\n",
      "Val RMSLE: 0.15775282680988312\n",
      "\n",
      "Epoch 157/200, Loss: 3.6245423102043044\n",
      "Val RMSLE: 0.15788918733596802\n",
      "\n",
      "Epoch 158/200, Loss: 3.6157366054158815\n",
      "Val RMSLE: 0.1596929132938385\n",
      "\n",
      "Epoch 159/200, Loss: 3.6172073323961715\n",
      "Val RMSLE: 0.15967951714992523\n",
      "\n",
      "Epoch 160/200, Loss: 3.6156419767460353\n",
      "Val RMSLE: 0.1578342616558075\n",
      "\n",
      "Epoch 161/200, Loss: 3.6212482385232416\n",
      "Val RMSLE: 0.15948453545570374\n",
      "\n",
      "Epoch 162/200, Loss: 3.616410386394447\n",
      "Val RMSLE: 0.1584949940443039\n",
      "\n",
      "Epoch 163/200, Loss: 3.614985959630617\n",
      "Val RMSLE: 0.15815895795822144\n",
      "\n",
      "Epoch 164/200, Loss: 3.6144775807018013\n",
      "Val RMSLE: 0.15865124762058258\n",
      "\n",
      "Epoch 165/200, Loss: 3.613223431815564\n",
      "Val RMSLE: 0.15824748575687408\n",
      "\n",
      "Epoch 166/200, Loss: 3.6132221389824237\n",
      "Val RMSLE: 0.15782363712787628\n",
      "\n",
      "Epoch 167/200, Loss: 3.6131357642966258\n",
      "Val RMSLE: 0.1577182412147522\n",
      "\n",
      "Epoch 168/200, Loss: 3.6136228400216974\n",
      "Val RMSLE: 0.15859605371952057\n",
      "\n",
      "Epoch 169/200, Loss: 3.6130123339908224\n",
      "Val RMSLE: 0.1584496945142746\n",
      "\n",
      "Epoch 170/200, Loss: 3.612809181213379\n",
      "Val RMSLE: 0.15981821715831757\n",
      "\n",
      "Epoch 171/200, Loss: 3.6105458266298536\n",
      "Val RMSLE: 0.1582890748977661\n",
      "\n",
      "Epoch 172/200, Loss: 3.6094943536839015\n",
      "Val RMSLE: 0.159880593419075\n",
      "\n",
      "Epoch 173/200, Loss: 3.6118099488003153\n",
      "Val RMSLE: 0.1583210527896881\n",
      "\n",
      "Epoch 174/200, Loss: 3.6114802058313935\n",
      "Val RMSLE: 0.15763381123542786\n",
      "\n",
      "Epoch 175/200, Loss: 3.6085075962711386\n",
      "Val RMSLE: 0.15783418715000153\n",
      "\n",
      "Epoch 176/200, Loss: 3.6080877142892755\n",
      "Val RMSLE: 0.16003231704235077\n",
      "\n",
      "Epoch 177/200, Loss: 3.6113691363536136\n",
      "Val RMSLE: 0.15889999270439148\n",
      "\n",
      "Epoch 178/200, Loss: 3.6082368669375566\n",
      "Val RMSLE: 0.15773412585258484\n",
      "\n",
      "Epoch 179/200, Loss: 3.6112217298695737\n",
      "Val RMSLE: 0.1607743352651596\n",
      "\n",
      "Epoch 180/200, Loss: 3.611331496440189\n",
      "Val RMSLE: 0.15778128802776337\n",
      "\n",
      "Epoch 181/200, Loss: 3.6043066172532634\n",
      "Val RMSLE: 0.15747231245040894\n",
      "\n",
      "Epoch 182/200, Loss: 3.612538586200123\n",
      "Val RMSLE: 0.15750835835933685\n",
      "\n",
      "Epoch 183/200, Loss: 3.604802087998726\n",
      "Val RMSLE: 0.15788228809833527\n",
      "\n",
      "Epoch 184/200, Loss: 3.6031015355822067\n",
      "Val RMSLE: 0.15749937295913696\n",
      "\n",
      "Epoch 185/200, Loss: 3.6024998342487176\n",
      "Val RMSLE: 0.15770302712917328\n",
      "\n",
      "Epoch 186/200, Loss: 3.6056026237111696\n",
      "Val RMSLE: 0.15896391868591309\n",
      "\n",
      "Epoch 187/200, Loss: 3.601463301081053\n",
      "Val RMSLE: 0.1589432656764984\n",
      "\n",
      "Epoch 188/200, Loss: 3.600251557121814\n",
      "Val RMSLE: 0.1577395498752594\n",
      "\n",
      "Epoch 189/200, Loss: 3.599369935586419\n",
      "Val RMSLE: 0.15857647359371185\n",
      "\n",
      "Epoch 190/200, Loss: 3.6006490646953315\n",
      "Val RMSLE: 0.1585405319929123\n",
      "\n",
      "Epoch 191/200, Loss: 3.5994433080646355\n",
      "Val RMSLE: 0.15732726454734802\n",
      "\n",
      "Epoch 192/200, Loss: 3.6097275639923527\n",
      "Val RMSLE: 0.15740475058555603\n",
      "\n",
      "Epoch 193/200, Loss: 3.5998146332485574\n",
      "Val RMSLE: 0.1575145274400711\n",
      "\n",
      "Epoch 194/200, Loss: 3.599260044769502\n",
      "Val RMSLE: 0.1580265909433365\n",
      "\n",
      "Epoch 195/200, Loss: 3.5937324644814077\n",
      "Val RMSLE: 0.157568097114563\n",
      "\n",
      "Epoch 196/200, Loss: 3.594667508568562\n",
      "Val RMSLE: 0.1574127972126007\n",
      "\n",
      "Epoch 197/200, Loss: 3.6021123033174325\n",
      "Val RMSLE: 0.15768083930015564\n",
      "\n",
      "Epoch 198/200, Loss: 3.5940158367156982\n",
      "Val RMSLE: 0.15857796370983124\n",
      "\n",
      "Epoch 199/200, Loss: 3.595253356745545\n",
      "Val RMSLE: 0.15825161337852478\n",
      "\n",
      "Epoch 200/200, Loss: 3.5987376696626905\n",
      "Val RMSLE: 0.15768446028232574\n",
      "\n"
     ]
    }
   ],
   "source": [
    "# 设置训练的epochs\n",
    "epochs = 200\n",
    "train_loss = []\n",
    "val_rmsle = []\n",
    "for epoch in range(epochs):\n",
    "    model.train()  # 设置模型为训练模式\n",
    "    total_loss = 0\n",
    "    for batch in train_loader:\n",
    "        x_numeric = batch['x_numeric']\n",
    "        x_categorical = batch['x_categorical']\n",
    "        targets = batch['y']\n",
    "        \n",
    "        x_numeric = x_numeric.to(device)\n",
    "        x_categorical = [x.to(device) for x in x_categorical]\n",
    "        targets = targets.to(device).view(-1, 1)  # 确保targets维度与模型输出一致\n",
    "\n",
    "        optimizer.zero_grad()  # 清空过往梯度\n",
    "        outputs = model(x_numeric, x_categorical)  # 前向传播，获取输出\n",
    "        loss = criterion(outputs, targets)  # 计算损失\n",
    "        loss.backward()  # 反向传播，计算梯度\n",
    "        optimizer.step()  # 根据梯度更新网络参数\n",
    "\n",
    "        total_loss += loss.item()\n",
    "\n",
    "    print(f\"Epoch {epoch+1}/{epochs}, Loss: {total_loss/len(train_loader)}\")\n",
    "    train_loss.append(total_loss/len(train_loader))\n",
    "    \n",
    "    # 验证阶段，我们将计算并打印验证集上的 RMSLE 损失\n",
    "    model.eval()  # 设置模型为评估模式\n",
    "    all_label = []\n",
    "    all_pred = []\n",
    "    with torch.no_grad():\n",
    "        for batch in val_loader:\n",
    "            x_numeric = batch['x_numeric']\n",
    "            x_categorical = batch['x_categorical']\n",
    "            targets = batch['y']\n",
    "            all_label.append(targets.numpy())\n",
    "\n",
    "            x_numeric = x_numeric.to(device)\n",
    "            x_categorical = [x.to(device) for x in x_categorical]\n",
    "            outputs = model(x_numeric, x_categorical)\n",
    "            \n",
    "            outputs = outputs.detach().cpu().numpy()\n",
    "            all_pred.append(outputs.squeeze())\n",
    "\n",
    "    all_label = np.concatenate(all_label)\n",
    "    all_pred = np.concatenate(all_pred)\n",
    "\n",
    "    rmsle = mean_squared_log_error(all_label, all_pred, squared=False)\n",
    "    val_rmsle.append(rmsle)\n",
    "\n",
    "    print(f\"Val RMSLE: {rmsle}\\n\")"
   ]
  },
  {
   "cell_type": "code",
   "execution_count": 159,
   "id": "953f78cd",
   "metadata": {},
   "outputs": [
    {
     "data": {
      "text/plain": [
       "[<matplotlib.lines.Line2D at 0x7ff0b6317a50>]"
      ]
     },
     "execution_count": 159,
     "metadata": {},
     "output_type": "execute_result"
    },
    {
     "data": {
      "image/png": "[encoded data removed]",
      "text/plain": [
       "<Figure size 1440x1440 with 4 Axes>"
      ]
     },
     "metadata": {
      "needs_background": "light"
     },
     "output_type": "display_data"
    }
   ],
   "source": [
    "plt.figure(figsize=(20, 20))\n",
    "\n",
    "plt.subplot(2, 2, 1)\n",
    "plt.plot(train_loss)\n",
    "plt.title('train loss')\n",
    "\n",
    "plt.subplot(2, 2, 2)\n",
    "plt.plot(val_rmsle)\n",
    "plt.title('train loss')\n",
    "\n",
    "plt.subplot(2, 2, 3)\n",
    "plt.plot(train_loss[50:])\n",
    "\n",
    "plt.subplot(2, 2, 4)\n",
    "plt.plot(val_rmsle[50:])"
   ]
  },
  {
   "cell_type": "markdown",
   "id": "5aa3ff0a",
   "metadata": {},
   "source": [
    "### tabnet"
   ]
  },
  {
   "cell_type": "code",
   "execution_count": 1,
   "id": "bb232739",
   "metadata": {},
   "outputs": [],
   "source": [
    "import torch\n",
    "from pytorch_tabnet.tab_model import TabNetRegressor"
   ]
  },
  {
   "cell_type": "code",
   "execution_count": 3,
   "id": "227fa01c-3bdc-40ec-9b9a-1d4da5a50b01",
   "metadata": {},
   "outputs": [
    {
     "data": {
      "text/plain": [
       "\u001b[0;31mSignature:\u001b[0m \u001b[0mTabNetRegressor\u001b[0m\u001b[0;34m.\u001b[0m\u001b[0msave_model\u001b[0m\u001b[0;34m(\u001b[0m\u001b[0mself\u001b[0m\u001b[0;34m,\u001b[0m \u001b[0mpath\u001b[0m\u001b[0;34m)\u001b[0m\u001b[0;34m\u001b[0m\u001b[0;34m\u001b[0m\u001b[0m\n",
       "\u001b[0;31mDocstring:\u001b[0m\n",
       "Saving TabNet model in two distinct files.\n",
       "\n",
       "Parameters\n",
       "----------\n",
       "path : str\n",
       "    Path of the model.\n",
       "\n",
       "Returns\n",
       "-------\n",
       "str\n",
       "    input filepath with \".zip\" appended\n",
       "\u001b[0;31mFile:\u001b[0m      ~/opt/miniconda3/envs/py3.10/lib/python3.10/site-packages/pytorch_tabnet/abstract_model.py\n",
       "\u001b[0;31mType:\u001b[0m      function"
      ]
     },
     "metadata": {},
     "output_type": "display_data"
    }
   ],
   "source": [
    "TabNetRegressor.save_model?"
   ]
  },
  {
   "cell_type": "code",
   "execution_count": 5,
   "id": "0a292ac1-78d0-49bd-be30-0edb1d6556ef",
   "metadata": {},
   "outputs": [
    {
     "data": {
      "text/plain": [
       "\u001b[0;31mSignature:\u001b[0m \u001b[0mTabNetRegressor\u001b[0m\u001b[0;34m.\u001b[0m\u001b[0mload_model\u001b[0m\u001b[0;34m(\u001b[0m\u001b[0mself\u001b[0m\u001b[0;34m,\u001b[0m \u001b[0mfilepath\u001b[0m\u001b[0;34m)\u001b[0m\u001b[0;34m\u001b[0m\u001b[0;34m\u001b[0m\u001b[0m\n",
       "\u001b[0;31mSource:\u001b[0m   \n",
       "    \u001b[0;32mdef\u001b[0m \u001b[0mload_model\u001b[0m\u001b[0;34m(\u001b[0m\u001b[0mself\u001b[0m\u001b[0;34m,\u001b[0m \u001b[0mfilepath\u001b[0m\u001b[0;34m)\u001b[0m\u001b[0;34m:\u001b[0m\u001b[0;34m\u001b[0m\n",
       "\u001b[0;34m\u001b[0m        \u001b[0;34m\"\"\"Load TabNet model.\u001b[0m\n",
       "\u001b[0;34m\u001b[0m\n",
       "\u001b[0;34m        Parameters\u001b[0m\n",
       "\u001b[0;34m        ----------\u001b[0m\n",
       "\u001b[0;34m        filepath : str\u001b[0m\n",
       "\u001b[0;34m            Path of the model.\u001b[0m\n",
       "\u001b[0;34m        \"\"\"\u001b[0m\u001b[0;34m\u001b[0m\n",
       "\u001b[0;34m\u001b[0m        \u001b[0;32mtry\u001b[0m\u001b[0;34m:\u001b[0m\u001b[0;34m\u001b[0m\n",
       "\u001b[0;34m\u001b[0m            \u001b[0;32mwith\u001b[0m \u001b[0mzipfile\u001b[0m\u001b[0;34m.\u001b[0m\u001b[0mZipFile\u001b[0m\u001b[0;34m(\u001b[0m\u001b[0mfilepath\u001b[0m\u001b[0;34m)\u001b[0m \u001b[0;32mas\u001b[0m \u001b[0mz\u001b[0m\u001b[0;34m:\u001b[0m\u001b[0;34m\u001b[0m\n",
       "\u001b[0;34m\u001b[0m                \u001b[0;32mwith\u001b[0m \u001b[0mz\u001b[0m\u001b[0;34m.\u001b[0m\u001b[0mopen\u001b[0m\u001b[0;34m(\u001b[0m\u001b[0;34m\"model_params.json\"\u001b[0m\u001b[0;34m)\u001b[0m \u001b[0;32mas\u001b[0m \u001b[0mf\u001b[0m\u001b[0;34m:\u001b[0m\u001b[0;34m\u001b[0m\n",
       "\u001b[0;34m\u001b[0m                    \u001b[0mloaded_params\u001b[0m \u001b[0;34m=\u001b[0m \u001b[0mjson\u001b[0m\u001b[0;34m.\u001b[0m\u001b[0mload\u001b[0m\u001b[0;34m(\u001b[0m\u001b[0mf\u001b[0m\u001b[0;34m)\u001b[0m\u001b[0;34m\u001b[0m\n",
       "\u001b[0;34m\u001b[0m                    \u001b[0mloaded_params\u001b[0m\u001b[0;34m[\u001b[0m\u001b[0;34m\"init_params\"\u001b[0m\u001b[0;34m]\u001b[0m\u001b[0;34m[\u001b[0m\u001b[0;34m\"device_name\"\u001b[0m\u001b[0;34m]\u001b[0m \u001b[0;34m=\u001b[0m \u001b[0mself\u001b[0m\u001b[0;34m.\u001b[0m\u001b[0mdevice_name\u001b[0m\u001b[0;34m\u001b[0m\n",
       "\u001b[0;34m\u001b[0m                \u001b[0;32mwith\u001b[0m \u001b[0mz\u001b[0m\u001b[0;34m.\u001b[0m\u001b[0mopen\u001b[0m\u001b[0;34m(\u001b[0m\u001b[0;34m\"network.pt\"\u001b[0m\u001b[0;34m)\u001b[0m \u001b[0;32mas\u001b[0m \u001b[0mf\u001b[0m\u001b[0;34m:\u001b[0m\u001b[0;34m\u001b[0m\n",
       "\u001b[0;34m\u001b[0m                    \u001b[0;32mtry\u001b[0m\u001b[0;34m:\u001b[0m\u001b[0;34m\u001b[0m\n",
       "\u001b[0;34m\u001b[0m                        \u001b[0msaved_state_dict\u001b[0m \u001b[0;34m=\u001b[0m \u001b[0mtorch\u001b[0m\u001b[0;34m.\u001b[0m\u001b[0mload\u001b[0m\u001b[0;34m(\u001b[0m\u001b[0mf\u001b[0m\u001b[0;34m,\u001b[0m \u001b[0mmap_location\u001b[0m\u001b[0;34m=\u001b[0m\u001b[0mself\u001b[0m\u001b[0;34m.\u001b[0m\u001b[0mdevice\u001b[0m\u001b[0;34m)\u001b[0m\u001b[0;34m\u001b[0m\n",
       "\u001b[0;34m\u001b[0m                    \u001b[0;32mexcept\u001b[0m \u001b[0mio\u001b[0m\u001b[0;34m.\u001b[0m\u001b[0mUnsupportedOperation\u001b[0m\u001b[0;34m:\u001b[0m\u001b[0;34m\u001b[0m\n",
       "\u001b[0;34m\u001b[0m                        \u001b[0;31m# In Python <3.7, the returned file object is not seekable (which at least\u001b[0m\u001b[0;34m\u001b[0m\n",
       "\u001b[0;34m\u001b[0m                        \u001b[0;31m# some versions of PyTorch require) - so we'll try buffering it in to a\u001b[0m\u001b[0;34m\u001b[0m\n",
       "\u001b[0;34m\u001b[0m                        \u001b[0;31m# BytesIO instead:\u001b[0m\u001b[0;34m\u001b[0m\n",
       "\u001b[0;34m\u001b[0m                        \u001b[0msaved_state_dict\u001b[0m \u001b[0;34m=\u001b[0m \u001b[0mtorch\u001b[0m\u001b[0;34m.\u001b[0m\u001b[0mload\u001b[0m\u001b[0;34m(\u001b[0m\u001b[0;34m\u001b[0m\n",
       "\u001b[0;34m\u001b[0m                            \u001b[0mio\u001b[0m\u001b[0;34m.\u001b[0m\u001b[0mBytesIO\u001b[0m\u001b[0;34m(\u001b[0m\u001b[0mf\u001b[0m\u001b[0;34m.\u001b[0m\u001b[0mread\u001b[0m\u001b[0;34m(\u001b[0m\u001b[0;34m)\u001b[0m\u001b[0;34m)\u001b[0m\u001b[0;34m,\u001b[0m\u001b[0;34m\u001b[0m\n",
       "\u001b[0;34m\u001b[0m                            \u001b[0mmap_location\u001b[0m\u001b[0;34m=\u001b[0m\u001b[0mself\u001b[0m\u001b[0;34m.\u001b[0m\u001b[0mdevice\u001b[0m\u001b[0;34m,\u001b[0m\u001b[0;34m\u001b[0m\n",
       "\u001b[0;34m\u001b[0m                        \u001b[0;34m)\u001b[0m\u001b[0;34m\u001b[0m\n",
       "\u001b[0;34m\u001b[0m        \u001b[0;32mexcept\u001b[0m \u001b[0mKeyError\u001b[0m\u001b[0;34m:\u001b[0m\u001b[0;34m\u001b[0m\n",
       "\u001b[0;34m\u001b[0m            \u001b[0;32mraise\u001b[0m \u001b[0mKeyError\u001b[0m\u001b[0;34m(\u001b[0m\u001b[0;34m\"Your zip file is missing at least one component\"\u001b[0m\u001b[0;34m)\u001b[0m\u001b[0;34m\u001b[0m\n",
       "\u001b[0;34m\u001b[0m\u001b[0;34m\u001b[0m\n",
       "\u001b[0;34m\u001b[0m        \u001b[0mself\u001b[0m\u001b[0;34m.\u001b[0m\u001b[0m__init__\u001b[0m\u001b[0;34m(\u001b[0m\u001b[0;34m**\u001b[0m\u001b[0mloaded_params\u001b[0m\u001b[0;34m[\u001b[0m\u001b[0;34m\"init_params\"\u001b[0m\u001b[0;34m]\u001b[0m\u001b[0;34m)\u001b[0m\u001b[0;34m\u001b[0m\n",
       "\u001b[0;34m\u001b[0m\u001b[0;34m\u001b[0m\n",
       "\u001b[0;34m\u001b[0m        \u001b[0mself\u001b[0m\u001b[0;34m.\u001b[0m\u001b[0m_set_network\u001b[0m\u001b[0;34m(\u001b[0m\u001b[0;34m)\u001b[0m\u001b[0;34m\u001b[0m\n",
       "\u001b[0;34m\u001b[0m        \u001b[0mself\u001b[0m\u001b[0;34m.\u001b[0m\u001b[0mnetwork\u001b[0m\u001b[0;34m.\u001b[0m\u001b[0mload_state_dict\u001b[0m\u001b[0;34m(\u001b[0m\u001b[0msaved_state_dict\u001b[0m\u001b[0;34m)\u001b[0m\u001b[0;34m\u001b[0m\n",
       "\u001b[0;34m\u001b[0m        \u001b[0mself\u001b[0m\u001b[0;34m.\u001b[0m\u001b[0mnetwork\u001b[0m\u001b[0;34m.\u001b[0m\u001b[0meval\u001b[0m\u001b[0;34m(\u001b[0m\u001b[0;34m)\u001b[0m\u001b[0;34m\u001b[0m\n",
       "\u001b[0;34m\u001b[0m        \u001b[0mself\u001b[0m\u001b[0;34m.\u001b[0m\u001b[0mload_class_attrs\u001b[0m\u001b[0;34m(\u001b[0m\u001b[0mloaded_params\u001b[0m\u001b[0;34m[\u001b[0m\u001b[0;34m\"class_attrs\"\u001b[0m\u001b[0;34m]\u001b[0m\u001b[0;34m)\u001b[0m\u001b[0;34m\u001b[0m\n",
       "\u001b[0;34m\u001b[0m\u001b[0;34m\u001b[0m\n",
       "\u001b[0;34m\u001b[0m        \u001b[0;32mreturn\u001b[0m\u001b[0;34m\u001b[0m\u001b[0;34m\u001b[0m\u001b[0m\n",
       "\u001b[0;31mFile:\u001b[0m      ~/opt/miniconda3/envs/py3.10/lib/python3.10/site-packages/pytorch_tabnet/abstract_model.py\n",
       "\u001b[0;31mType:\u001b[0m      function"
      ]
     },
     "metadata": {},
     "output_type": "display_data"
    }
   ],
   "source": [
    "TabNetRegressor.load_model??"
   ]
  },
  {
   "cell_type": "code",
   "execution_count": null,
   "id": "6f4f1fb1-8518-4240-b937-48b9720c8c65",
   "metadata": {},
   "outputs": [],
   "source": []
  },
  {
   "cell_type": "code",
   "execution_count": null,
   "id": "5f888f27-5248-407b-929e-07fcc53aa9a3",
   "metadata": {},
   "outputs": [],
   "source": []
  },
  {
   "cell_type": "code",
   "execution_count": null,
   "id": "47d5366d-5f24-44bf-baf6-47e8022dbfe3",
   "metadata": {},
   "outputs": [],
   "source": []
  },
  {
   "cell_type": "code",
   "execution_count": null,
   "id": "0c5adc28-c563-4e93-997c-f1e5ac5ad420",
   "metadata": {},
   "outputs": [],
   "source": []
  },
  {
   "cell_type": "code",
   "execution_count": 162,
   "id": "41465827",
   "metadata": {},
   "outputs": [],
   "source": [
    "cat_idxs = [i for i, c in enumerate(train_cols) if c == 'Sex_code']"
   ]
  },
  {
   "cell_type": "code",
   "execution_count": 163,
   "id": "d838a819",
   "metadata": {},
   "outputs": [
    {
     "data": {
      "text/plain": [
       "[7]"
      ]
     },
     "execution_count": 163,
     "metadata": {},
     "output_type": "execute_result"
    }
   ],
   "source": [
    "cat_idxs"
   ]
  },
  {
   "cell_type": "code",
   "execution_count": 164,
   "id": "cdc16dcf",
   "metadata": {},
   "outputs": [],
   "source": [
    "cat_dims = [3]"
   ]
  },
  {
   "cell_type": "code",
   "execution_count": 165,
   "id": "cc30f0c7",
   "metadata": {},
   "outputs": [],
   "source": [
    "X_train = train_df.loc[trn_idx, train_cols].values\n",
    "y_train = train_df.loc[trn_idx, target_col].values.reshape(-1, 1)\n",
    "X_valid = train_df.loc[val_idx, train_cols].values\n",
    "y_valid = train_df.loc[val_idx, target_col].values.reshape(-1, 1)"
   ]
  },
  {
   "cell_type": "code",
   "execution_count": 167,
   "id": "31d073df",
   "metadata": {},
   "outputs": [
    {
     "data": {
      "text/plain": [
       "((72492, 8), (18123, 8))"
      ]
     },
     "execution_count": 167,
     "metadata": {},
     "output_type": "execute_result"
    }
   ],
   "source": [
    "X_train.shape, X_valid.shape"
   ]
  },
  {
   "cell_type": "code",
   "execution_count": 169,
   "id": "abacfa25",
   "metadata": {},
   "outputs": [
    {
     "name": "stderr",
     "output_type": "stream",
     "text": [
      "/usr/lib/python3.7/site-packages/pytorch_tabnet/abstract_model.py:82: UserWarning: Device used : cuda\n",
      "  warnings.warn(f\"Device used : {self.device}\")\n"
     ]
    }
   ],
   "source": [
    "# Network parameters\n",
    "max_epochs = 100\n",
    "batch_size = 1280\n",
    "clf = TabNetRegressor(cat_idxs=cat_idxs,\n",
    "                       cat_dims=cat_dims,\n",
    "                       cat_emb_dim=[4],\n",
    "                       lambda_sparse=0.0,\n",
    "                       optimizer_fn=torch.optim.Adam, # Any optimizer works here\n",
    "                       optimizer_params=dict(lr=2e-2),\n",
    "                       scheduler_fn=torch.optim.lr_scheduler.OneCycleLR,\n",
    "                       scheduler_params={\"is_batch_level\":True,\n",
    "                                         \"max_lr\":5e-2,\n",
    "                                         \"steps_per_epoch\":int(X_train.shape[0] / batch_size)+1,\n",
    "                                         \"epochs\":max_epochs\n",
    "                                          },\n",
    "                       mask_type='entmax', # \"sparsemax\",\n",
    "                      )"
   ]
  },
  {
   "cell_type": "code",
   "execution_count": 170,
   "id": "4b3d4001",
   "metadata": {
    "scrolled": true
   },
   "outputs": [
    {
     "name": "stderr",
     "output_type": "stream",
     "text": [
      "/usr/lib/python3.7/site-packages/pytorch_tabnet/abstract_model.py:687: UserWarning: No early stopping will be performed, last training weights will be used.\n",
      "  warnings.warn(wrn_msg)\n"
     ]
    },
    {
     "name": "stdout",
     "output_type": "stream",
     "text": [
      "epoch 0  | loss: 61.34516| val_rmsle: 0.57099 |  0:00:03s\n",
      "epoch 1  | loss: 20.52963| val_rmsle: 0.23028 |  0:00:07s\n",
      "epoch 2  | loss: 4.84183 | val_rmsle: 0.23711 |  0:00:11s\n",
      "epoch 3  | loss: 3.95201 | val_rmsle: 0.21292 |  0:00:15s\n",
      "epoch 4  | loss: 3.78489 | val_rmsle: 0.20138 |  0:00:19s\n",
      "epoch 5  | loss: 3.73601 | val_rmsle: 0.19574 |  0:00:23s\n",
      "epoch 6  | loss: 3.69652 | val_rmsle: 0.18809 |  0:00:27s\n",
      "epoch 7  | loss: 3.66143 | val_rmsle: 0.17817 |  0:00:30s\n",
      "epoch 8  | loss: 3.64518 | val_rmsle: 0.1717  |  0:00:34s\n",
      "epoch 9  | loss: 3.6414  | val_rmsle: 0.16108 |  0:00:38s\n",
      "epoch 10 | loss: 3.66963 | val_rmsle: 0.15674 |  0:00:41s\n",
      "epoch 11 | loss: 3.66105 | val_rmsle: 0.16151 |  0:00:45s\n",
      "epoch 12 | loss: 3.64493 | val_rmsle: 0.15738 |  0:00:49s\n",
      "epoch 13 | loss: 3.62859 | val_rmsle: 0.15903 |  0:00:52s\n",
      "epoch 14 | loss: 3.63229 | val_rmsle: 0.15733 |  0:00:56s\n",
      "epoch 15 | loss: 3.66585 | val_rmsle: 0.15635 |  0:01:00s\n",
      "epoch 16 | loss: 3.6354  | val_rmsle: 0.15824 |  0:01:04s\n",
      "epoch 17 | loss: 3.62571 | val_rmsle: 0.15745 |  0:01:09s\n",
      "epoch 18 | loss: 3.71493 | val_rmsle: 0.16836 |  0:01:13s\n",
      "epoch 19 | loss: 3.67955 | val_rmsle: 0.15983 |  0:01:17s\n",
      "epoch 20 | loss: 3.64352 | val_rmsle: 0.16898 |  0:01:20s\n",
      "epoch 21 | loss: 3.66028 | val_rmsle: 0.15594 |  0:01:24s\n",
      "epoch 22 | loss: 3.71352 | val_rmsle: 0.15792 |  0:01:28s\n",
      "epoch 23 | loss: 3.70904 | val_rmsle: 0.15911 |  0:01:32s\n",
      "epoch 24 | loss: 3.65832 | val_rmsle: 0.1554  |  0:01:36s\n",
      "epoch 25 | loss: 3.66528 | val_rmsle: 0.17607 |  0:01:40s\n",
      "epoch 26 | loss: 3.68873 | val_rmsle: 0.15897 |  0:01:44s\n",
      "epoch 27 | loss: 3.69465 | val_rmsle: 0.15509 |  0:01:48s\n",
      "epoch 28 | loss: 3.6432  | val_rmsle: 0.17097 |  0:01:52s\n",
      "epoch 29 | loss: 3.70295 | val_rmsle: 0.15613 |  0:01:56s\n",
      "epoch 30 | loss: 3.67618 | val_rmsle: 0.15686 |  0:02:00s\n",
      "epoch 31 | loss: 3.63714 | val_rmsle: 0.15852 |  0:02:03s\n",
      "epoch 32 | loss: 3.71219 | val_rmsle: 0.15485 |  0:02:08s\n",
      "epoch 33 | loss: 3.61593 | val_rmsle: 0.15951 |  0:02:11s\n",
      "epoch 34 | loss: 3.76163 | val_rmsle: 0.15912 |  0:02:15s\n",
      "epoch 35 | loss: 3.65709 | val_rmsle: 0.16263 |  0:02:19s\n",
      "epoch 36 | loss: 3.65651 | val_rmsle: 0.16629 |  0:02:23s\n",
      "epoch 37 | loss: 3.67586 | val_rmsle: 0.15513 |  0:02:27s\n",
      "epoch 38 | loss: 3.66919 | val_rmsle: 0.16071 |  0:02:31s\n",
      "epoch 39 | loss: 3.65537 | val_rmsle: 0.15519 |  0:02:35s\n",
      "epoch 40 | loss: 3.58464 | val_rmsle: 0.15478 |  0:02:38s\n",
      "epoch 41 | loss: 3.60045 | val_rmsle: 0.15502 |  0:02:42s\n",
      "epoch 42 | loss: 3.61173 | val_rmsle: 0.15683 |  0:02:47s\n",
      "epoch 43 | loss: 3.61363 | val_rmsle: 0.15487 |  0:02:52s\n",
      "epoch 44 | loss: 3.60724 | val_rmsle: 0.15767 |  0:02:56s\n",
      "epoch 45 | loss: 3.59755 | val_rmsle: 0.15556 |  0:02:59s\n",
      "epoch 46 | loss: 3.5489  | val_rmsle: 0.15738 |  0:03:03s\n",
      "epoch 47 | loss: 3.61942 | val_rmsle: 0.15574 |  0:03:07s\n",
      "epoch 48 | loss: 3.579   | val_rmsle: 0.15721 |  0:03:11s\n",
      "epoch 49 | loss: 3.60215 | val_rmsle: 0.15979 |  0:03:14s\n",
      "epoch 50 | loss: 3.55498 | val_rmsle: 0.15383 |  0:03:19s\n",
      "epoch 51 | loss: 3.52128 | val_rmsle: 0.1598  |  0:03:22s\n",
      "epoch 52 | loss: 3.61189 | val_rmsle: 0.15573 |  0:03:26s\n",
      "epoch 53 | loss: 3.56591 | val_rmsle: 0.15523 |  0:03:30s\n",
      "epoch 54 | loss: 3.52583 | val_rmsle: 0.15499 |  0:03:34s\n",
      "epoch 55 | loss: 3.55484 | val_rmsle: 0.15404 |  0:03:38s\n",
      "epoch 56 | loss: 3.55381 | val_rmsle: 0.15425 |  0:03:42s\n",
      "epoch 57 | loss: 3.53078 | val_rmsle: 0.15484 |  0:03:46s\n",
      "epoch 58 | loss: 3.53042 | val_rmsle: 0.15561 |  0:03:50s\n",
      "epoch 59 | loss: 3.53832 | val_rmsle: 0.15538 |  0:03:54s\n",
      "epoch 60 | loss: 3.5377  | val_rmsle: 0.15306 |  0:03:58s\n",
      "epoch 61 | loss: 3.51464 | val_rmsle: 0.15432 |  0:04:02s\n",
      "epoch 62 | loss: 3.55238 | val_rmsle: 0.1584  |  0:04:06s\n",
      "epoch 63 | loss: 3.51492 | val_rmsle: 0.1542  |  0:04:11s\n",
      "epoch 64 | loss: 3.54258 | val_rmsle: 0.1544  |  0:04:15s\n",
      "epoch 65 | loss: 3.50858 | val_rmsle: 0.15934 |  0:04:18s\n",
      "epoch 66 | loss: 3.49609 | val_rmsle: 0.15503 |  0:04:22s\n",
      "epoch 67 | loss: 3.52042 | val_rmsle: 0.15379 |  0:04:26s\n",
      "epoch 68 | loss: 3.49042 | val_rmsle: 0.15382 |  0:04:30s\n",
      "epoch 69 | loss: 3.48336 | val_rmsle: 0.15522 |  0:04:34s\n",
      "epoch 70 | loss: 3.46642 | val_rmsle: 0.15681 |  0:04:38s\n",
      "epoch 71 | loss: 3.4848  | val_rmsle: 0.16006 |  0:04:42s\n",
      "epoch 72 | loss: 3.47349 | val_rmsle: 0.15319 |  0:04:46s\n",
      "epoch 73 | loss: 3.47515 | val_rmsle: 0.1532  |  0:04:49s\n",
      "epoch 74 | loss: 3.47916 | val_rmsle: 0.15617 |  0:04:54s\n",
      "epoch 75 | loss: 3.47291 | val_rmsle: 0.15353 |  0:04:57s\n",
      "epoch 76 | loss: 3.46445 | val_rmsle: 0.1531  |  0:05:01s\n",
      "epoch 77 | loss: 3.44826 | val_rmsle: 0.15343 |  0:05:05s\n",
      "epoch 78 | loss: 3.46263 | val_rmsle: 0.15524 |  0:05:09s\n",
      "epoch 79 | loss: 3.44774 | val_rmsle: 0.15423 |  0:05:13s\n",
      "epoch 80 | loss: 3.44774 | val_rmsle: 0.15366 |  0:05:17s\n",
      "epoch 81 | loss: 3.44636 | val_rmsle: 0.15309 |  0:05:21s\n",
      "epoch 82 | loss: 3.43679 | val_rmsle: 0.1531  |  0:05:25s\n",
      "epoch 83 | loss: 3.42459 | val_rmsle: 0.15305 |  0:05:29s\n",
      "epoch 84 | loss: 3.43554 | val_rmsle: 0.15459 |  0:05:33s\n",
      "epoch 85 | loss: 3.4165  | val_rmsle: 0.1538  |  0:05:37s\n",
      "epoch 86 | loss: 3.4269  | val_rmsle: 0.15334 |  0:05:42s\n",
      "epoch 87 | loss: 3.4214  | val_rmsle: 0.15378 |  0:05:45s\n",
      "epoch 88 | loss: 3.42651 | val_rmsle: 0.15405 |  0:05:49s\n",
      "epoch 89 | loss: 3.41406 | val_rmsle: 0.15293 |  0:05:53s\n",
      "epoch 90 | loss: 3.41185 | val_rmsle: 0.15316 |  0:05:56s\n",
      "epoch 91 | loss: 3.41243 | val_rmsle: 0.15329 |  0:05:59s\n",
      "epoch 92 | loss: 3.40614 | val_rmsle: 0.15299 |  0:06:03s\n",
      "epoch 93 | loss: 3.39848 | val_rmsle: 0.15313 |  0:06:06s\n",
      "epoch 94 | loss: 3.39804 | val_rmsle: 0.15288 |  0:06:10s\n",
      "epoch 95 | loss: 3.40057 | val_rmsle: 0.15303 |  0:06:13s\n",
      "epoch 96 | loss: 3.40344 | val_rmsle: 0.15306 |  0:06:16s\n",
      "epoch 97 | loss: 3.38985 | val_rmsle: 0.1531  |  0:06:20s\n",
      "epoch 98 | loss: 3.3998  | val_rmsle: 0.1532  |  0:06:24s\n",
      "epoch 99 | loss: 3.40258 | val_rmsle: 0.1533  |  0:06:28s\n",
      "CPU times: user 8min 36s, sys: 14.4 s, total: 8min 50s\n",
      "Wall time: 6min 30s\n"
     ]
    }
   ],
   "source": [
    "%%time\n",
    "\n",
    "clf.fit(\n",
    "    X_train=X_train, y_train=y_train,\n",
    "    eval_set=[(X_valid, y_valid)],\n",
    "    eval_name=['val'],\n",
    "    eval_metric=['rmsle'],\n",
    "    max_epochs=max_epochs , patience=0,\n",
    "    batch_size=batch_size,\n",
    "    virtual_batch_size=128,\n",
    "    num_workers=0,\n",
    "    # weights=1,\n",
    "    drop_last=False,\n",
    "    # loss_fn=my_loss_fn\n",
    ") \n"
   ]
  },
  {
   "cell_type": "code",
   "execution_count": 171,
   "id": "ab0d5dd4",
   "metadata": {},
   "outputs": [],
   "source": [
    "tnet_val_pred = clf.predict(X_valid)"
   ]
  },
  {
   "cell_type": "code",
   "execution_count": 173,
   "id": "036d879d",
   "metadata": {
    "scrolled": true
   },
   "outputs": [
    {
     "data": {
      "text/plain": [
       "0.15330114515001073"
      ]
     },
     "execution_count": 173,
     "metadata": {},
     "output_type": "execute_result"
    }
   ],
   "source": [
    "mean_squared_log_error(y_valid, np.clip(tnet_val_pred, 0, 30), squared=False)"
   ]
  },
  {
   "cell_type": "code",
   "execution_count": 180,
   "id": "36b28ee9",
   "metadata": {},
   "outputs": [],
   "source": [
    "train_loss = np.array(clf.history['loss'])\n",
    "val_rmsle = np.array(clf.history['val_rmsle'])"
   ]
  },
  {
   "cell_type": "code",
   "execution_count": 182,
   "id": "44e2e395",
   "metadata": {},
   "outputs": [
    {
     "data": {
      "text/plain": [
       "[<matplotlib.lines.Line2D at 0x7fef9c44a810>]"
      ]
     },
     "execution_count": 182,
     "metadata": {},
     "output_type": "execute_result"
    },
    {
     "data": {
      "image/png": "[encoded data removed]",
      "text/plain": [
       "<Figure size 1440x1440 with 4 Axes>"
      ]
     },
     "metadata": {
      "needs_background": "light"
     },
     "output_type": "display_data"
    }
   ],
   "source": [
    "plt.figure(figsize=(20, 20))\n",
    "\n",
    "plt.subplot(2, 2, 1)\n",
    "plt.plot(train_loss)\n",
    "plt.title('train loss')\n",
    "\n",
    "plt.subplot(2, 2, 2)\n",
    "plt.plot(val_rmsle)\n",
    "plt.title('val rmsle')\n",
    "\n",
    "plt.subplot(2, 2, 3)\n",
    "plt.plot(train_loss[50:])\n",
    "\n",
    "plt.subplot(2, 2, 4)\n",
    "plt.plot(val_rmsle[50:])"
   ]
  },
  {
   "cell_type": "markdown",
   "id": "6602118c",
   "metadata": {},
   "source": [
    "#### tabnet调参\n",
    "\n",
    "python3 bayesHyperTuning.py tn"
   ]
  }
 ],
 "metadata": {
  "kernelspec": {
   "display_name": "Python 3 (ipykernel)",
   "language": "python",
   "name": "python3"
  },
  "language_info": {
   "codemirror_mode": {
    "name": "ipython",
    "version": 3
   },
   "file_extension": ".py",
   "mimetype": "text/x-python",
   "name": "python",
   "nbconvert_exporter": "python",
   "pygments_lexer": "ipython3",
   "version": "3.10.14"
  }
 },
 "nbformat": 4,
 "nbformat_minor": 5
}
